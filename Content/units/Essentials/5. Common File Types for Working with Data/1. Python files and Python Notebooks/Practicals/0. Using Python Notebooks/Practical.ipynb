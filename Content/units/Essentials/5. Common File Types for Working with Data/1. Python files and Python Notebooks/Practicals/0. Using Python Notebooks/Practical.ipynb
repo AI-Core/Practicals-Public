{
 "cells": [
  {
   "attachments": {},
   "cell_type": "markdown",
   "metadata": {},
   "source": [
    "# Using Python Notebooks"
   ]
  },
  {
   "attachments": {},
   "cell_type": "markdown",
   "metadata": {},
   "source": [
    "### 1. Create a markdown cell and write a short introduction to the notebook. \n",
    "\n",
    "If you are on Google Colab, you can click on the `+ Text` button to create a new cell. If you are using Jupyter Notebook, you can click on the `+ Markdown` button to create a new cell.\n",
    "\n",
    "<p align=center><img src=\"images/create_markdown_colab.png\" width=500px><img src=\"images/create_markdown_jupyter.png\" width=700px></p>"
   ]
  },
  {
   "attachments": {},
   "cell_type": "markdown",
   "metadata": {},
   "source": [
    "### 2. Create a code cell and write a simple Python program that prints \"Hello World!\".\n",
    "\n",
    "Inside the code cell, simply type `print(\"Hello World!\")` and run the cell. You can run the cell by clicking on the `Run` button or by pressing `Shift + Enter`.\n",
    "\n",
    "Alternatively, you can click outside of the cell and press \"A\" to create a new cell above the current cell, or \"B\" to create a new cell below the current cell. \n",
    "\n",
    "Another shortcut is to press \"D\" twice to delete the current cell."
   ]
  }
 ],
 "metadata": {
  "language_info": {
   "name": "python"
  }
 },
 "nbformat": 4,
 "nbformat_minor": 2
}
