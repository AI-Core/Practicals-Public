{
 "cells": [
  {
   "attachments": {},
   "cell_type": "markdown",
   "id": "d01eaeda",
   "metadata": {},
   "source": [
    "# Basics of Strings\n",
    "\n",
    "In Python, a string variable type is a sequence of characters enclosed within either single or double quotes. It is a fundamental data type used to represent text data."
   ]
  },
  {
   "cell_type": "code",
   "execution_count": null,
   "id": "ff784488",
   "metadata": {},
   "outputs": [],
   "source": [
    "#@title ### Run the following cell to download the necessary files for this practical { display-mode: \"form\" } \n",
    "#@markdown Don't worry about what's in this collapsed cell\n",
    "\n",
    "print('Downloading the marking system')\n",
    "!wget https://s3-eu-west-1.amazonaws.com/aicore-portal-public-prod-307050600709/practical_files/a6c1a8f2-905c-4e05-99a8-c0ded723ed5e/marking_system.py -q -O marking_system.py\n",
    "import marking_system\n",
    "import importlib\n",
    "importlib.reload(marking_system)\n",
    "import sys\n",
    "ipython = get_ipython()\n",
    "def hide_traceback(exc_tuple=None, filename=None, tb_offset=None, exception_only=False, running_compiled_code=False):\n",
    "    etype, value, tb = sys.exc_info()\n",
    "    value.__cause__ = None  # suppress chained exceptions\n",
    "    return ipython._showtraceback(etype, \"❌ \" + f\"\u001b[91m{value}\", ipython.InteractiveTB.get_exception_only(etype, \"❌ \" + f\"\u001b[91m{value}\"))\n",
    "ipython.showtraceback = hide_traceback\n"
   ]
  },
  {
   "attachments": {},
   "cell_type": "markdown",
   "id": "839c0a7d",
   "metadata": {},
   "source": [
    "### 1. Create a variable called `my_string` and assign it the value `\"Hello World\"`."
   ]
  },
  {
   "cell_type": "code",
   "execution_count": null,
   "id": "28ff9bb1",
   "metadata": {},
   "outputs": [],
   "source": [
    "# TODO - Create a variable called `my_string` and assign it the value \"Hello World\"\n"
   ]
  },
  {
   "cell_type": "code",
   "execution_count": null,
   "id": "000f4399",
   "metadata": {},
   "outputs": [],
   "source": [
    "#@title #### Run this cell to check your solution { display-mode: \"form\", run: \"auto\" }\n",
    "\n",
    "assert \"my_string\" in globals(), \"You haven't defined the variable 'my_string'.\"\n",
    "marking_system.check_step_1(my_string)\n"
   ]
  },
  {
   "attachments": {},
   "cell_type": "markdown",
   "id": "b4f7ac5b",
   "metadata": {},
   "source": [
    "### 2. Print the value of `my_string`.\n"
   ]
  },
  {
   "cell_type": "code",
   "execution_count": null,
   "id": "a5671b88",
   "metadata": {},
   "outputs": [],
   "source": [
    "# TODO - Print the value of `my_string`\n"
   ]
  },
  {
   "cell_type": "code",
   "execution_count": null,
   "id": "e5711a19",
   "metadata": {},
   "outputs": [],
   "source": [
    "#@title #### Copy and paste your line of code in this form to check your solution { display-mode: \"form\", run: \"auto\" }\n",
    "\n",
    "your_code = \"\" #@param {type:\"string\"}\n",
    "marking_system.check_step_2(your_code=your_code)\n"
   ]
  },
  {
   "attachments": {},
   "cell_type": "markdown",
   "id": "4ade9d59",
   "metadata": {},
   "source": [
    "### 3. Print the type of `my_string`."
   ]
  },
  {
   "cell_type": "code",
   "execution_count": null,
   "id": "9f12b65d",
   "metadata": {},
   "outputs": [],
   "source": [
    "# TODO - Print the type of `my_string`\n"
   ]
  },
  {
   "cell_type": "code",
   "execution_count": null,
   "id": "22d73e4d",
   "metadata": {},
   "outputs": [],
   "source": [
    "#@title #### Copy and paste your line of code in this form to check your solution { display-mode: \"form\", run: \"auto\" }\n",
    "\n",
    "your_code = \"\" #@param {type:\"string\"}\n",
    "marking_system.check_step_3(your_code=your_code)\n"
   ]
  },
  {
   "attachments": {},
   "cell_type": "markdown",
   "id": "ace4d606",
   "metadata": {},
   "source": [
    "## Escaped Characters can perform special functions\n",
    "\n",
    "The escape character(`\\`) is a special character used to indicate that the following character should be treated differently. it is followed by a character or a sequence of characters that have a special meaning in the context of the string.\n",
    "\n",
    "There are two main uses of `\\` :\n",
    "- to denote that the next character should have a special meaning, eg. `\\n` to create a newline.\n",
    "- to prevent a character that usually has a special function from having that function, eg. `\\\"`"
   ]
  },
  {
   "cell_type": "markdown",
   "id": "df24e3df",
   "metadata": {},
   "source": [
    "#### 1. Create a variable called `my_string` and assign it the value `\"Hello \\nWorld\"`"
   ]
  },
  {
   "cell_type": "code",
   "execution_count": null,
   "id": "f0b4bf94",
   "metadata": {},
   "outputs": [],
   "source": [
    "# TODO - Create a variable called `my_string` and assign it the value \"Hello \\nWorld\".\n"
   ]
  },
  {
   "cell_type": "code",
   "execution_count": null,
   "id": "5a054c79",
   "metadata": {},
   "outputs": [],
   "source": [
    "#@title #### Run this cell to check your solution { display-mode: \"form\", run: \"auto\" }\n",
    "\n",
    "assert \"my_string\" in globals(), \"You haven't defined the variable 'my_string'.\"\n",
    "marking_system.check_step_4(my_string)\n"
   ]
  },
  {
   "cell_type": "markdown",
   "id": "4a22f333",
   "metadata": {},
   "source": [
    "#### 2. Print the value of `my_string`\n",
    "\n",
    "The \"\\n\" is a special character that tells Python to start a new line."
   ]
  },
  {
   "cell_type": "code",
   "execution_count": null,
   "id": "5c2a055e",
   "metadata": {},
   "outputs": [],
   "source": [
    "# TODO - Print the value of my_string.\n"
   ]
  },
  {
   "cell_type": "markdown",
   "id": "066bde31",
   "metadata": {},
   "source": [
    "#### 3. Create a variable called `my_string` and assign it the value `\"Hello \\tWorld\"`"
   ]
  },
  {
   "cell_type": "code",
   "execution_count": null,
   "id": "d054e13b",
   "metadata": {},
   "outputs": [],
   "source": [
    "# TODO - Create a variable called `my_string` and assign it the value \"Hello \\tWorld\".\n"
   ]
  },
  {
   "cell_type": "code",
   "execution_count": null,
   "id": "282bccb4",
   "metadata": {},
   "outputs": [],
   "source": [
    "#@title #### Run this cell to check your solution { display-mode: \"form\", run: \"auto\" }\n",
    "\n",
    "assert \"my_string\" in globals(), \"You haven't defined the variable 'my_string'.\"\n",
    "marking_system.check_step_5(my_string)\n"
   ]
  },
  {
   "cell_type": "markdown",
   "id": "5f13eae2",
   "metadata": {},
   "source": [
    "#### 4. Print the value of `my_string`\n",
    "\n",
    "The \"\\t\" is a special character that tells Python to start a new tab."
   ]
  },
  {
   "cell_type": "code",
   "execution_count": null,
   "id": "cccaaebf",
   "metadata": {},
   "outputs": [],
   "source": [
    "# TODO - Print the value of my_string.\n"
   ]
  }
 ],
 "metadata": {
  "kernelspec": {
   "display_name": "content-projects_new",
   "language": "python",
   "name": "python3"
  },
  "language_info": {
   "codemirror_mode": {
    "name": "ipython",
    "version": 3
   },
   "file_extension": ".py",
   "mimetype": "text/x-python",
   "name": "python",
   "nbconvert_exporter": "python",
   "pygments_lexer": "ipython3",
   "version": "3.11.0"
  },
  "vscode": {
   "interpreter": {
    "hash": "4b961f8166aad6ccb4cf65d0f9c742ef9c6c23ffe83ad932438cd83ed96aebaf"
   }
  }
 },
 "nbformat": 4,
 "nbformat_minor": 5
}
