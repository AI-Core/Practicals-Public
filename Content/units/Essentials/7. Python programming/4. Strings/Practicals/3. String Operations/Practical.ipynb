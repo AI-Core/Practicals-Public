{
 "cells": [
  {
   "attachments": {},
   "cell_type": "markdown",
   "metadata": {},
   "source": [
    "# String Operations"
   ]
  },
  {
   "cell_type": "code",
   "execution_count": null,
   "id": "a1681a18",
   "metadata": {},
   "outputs": [],
   "source": [
    "#@title ### Run the following cell to download the necessary files for this practical { display-mode: \"form\" } \n",
    "#@markdown Don't worry about what's in this collapsed cell\n",
    "\n",
    "print('Downloading the marking system')\n",
    "!wget https://s3-eu-west-1.amazonaws.com/aicore-portal-public-prod-307050600709/practical_files/40718403-5192-4021-a5bf-ebded753cab5/marking_system.py -q -O marking_system.py\n",
    "import marking_system\n",
    "import importlib\n",
    "importlib.reload(marking_system)\n",
    "import sys\n",
    "ipython = get_ipython()\n",
    "def hide_traceback(exc_tuple=None, filename=None, tb_offset=None, exception_only=False, running_compiled_code=False):\n",
    "    etype, value, tb = sys.exc_info()\n",
    "    value.__cause__ = None  # suppress chained exceptions\n",
    "    return ipython._showtraceback(etype, \"❌ \" + f\"\u001b[91m{value}\", ipython.InteractiveTB.get_exception_only(etype, \"❌ \" + f\"\u001b[91m{value}\"))\n",
    "ipython.showtraceback = hide_traceback\n"
   ]
  },
  {
   "attachments": {},
   "cell_type": "markdown",
   "metadata": {},
   "source": [
    "## Adding Strings\n",
    "\n",
    "Strings can be added together using the `+` operator. \n",
    "\n",
    "- Create two strings called `string_1` and `string_2`. Assign the value `\"Hello \"` to `string_1` and the value `\"World!\"` to `string_2`.\n",
    "- Add the two strings together and assign them to a variable called `string_3`.\n",
    "- Print `string_3`."
   ]
  },
  {
   "cell_type": "code",
   "execution_count": null,
   "metadata": {},
   "outputs": [],
   "source": [
    "# TODO -  Create a variable called `string_1` - assign it a value of \"Hello \"\n",
    "# TODO -  Create a variable called `string_2` - assign it a value of \"World!\"\n",
    "# TODO - Add `string_1` and `string_2`\n",
    "# TODO - Print `string_3`\n"
   ]
  },
  {
   "cell_type": "code",
   "execution_count": null,
   "metadata": {},
   "outputs": [],
   "source": [
    "#@title #### Run this cell to check your solution { display-mode: \"form\", run: \"auto\" }\n",
    "\n",
    "assert \"string_1\" in globals(), \"The variable 'string_1' has not been created.\"\n",
    "assert \"string_2\" in globals(), \"The variable 'string_2' has not been created.\"\n",
    "assert \"string_3\" in globals(), \"The variable 'string_3' has not been created.\"\n",
    "marking_system.check_step_1(string_1, string_2, string_3)\n"
   ]
  },
  {
   "attachments": {},
   "cell_type": "markdown",
   "metadata": {},
   "source": [
    "### Slicing Strings\n",
    "\n",
    "An extension of the idea of indexing a string is slicing. Slicing allows us to select a range of values from a string, based on their indices:"
   ]
  },
  {
   "cell_type": "code",
   "execution_count": null,
   "metadata": {},
   "outputs": [],
   "source": [
    "my_string = \"one two three\"\n",
    "print('the first three characters of my string are:', '\\n' + my_string[:3])\n",
    "# TODO - print the 4th to 7th characters of the string\n",
    "print('the last two characters are:' '\\n' + my_string[-2:])\n"
   ]
  },
  {
   "cell_type": "code",
   "execution_count": null,
   "metadata": {},
   "outputs": [],
   "source": [
    "#@title #### Enter your solution here { display-mode: \"form\", run: \"auto\" }\n",
    "assert \"my_string\" in globals(), \"The variable 'my_string' has not been created. Make sure you haven't deleted it. If so, the value should be 'one two three'.\"\n",
    "#@markdown What indices did you use to print the 4th to 7th characters of the string?\n",
    "index_1 = \"Select your option\" #@param [2, 3, 4, 5, 6, 7, 8, 9] {type: \"number\"} \n",
    "index_2 = \"Select your option\" #@param [2, 3, 4, 5, 6, 7, 8, 9] {type: \"number\"}\n",
    "marking_system.check_step_2(index_1, index_2, my_string)\n"
   ]
  },
  {
   "attachments": {},
   "cell_type": "markdown",
   "metadata": {},
   "source": [
    "### Updating a string\n",
    "\n",
    "You can change part of the content of a string by adding part of string_1 to a new substring, and assigning the new string to the old variable. For example in the code block below, we replace the word `\"World\"` with `\"Crab\"`. You may remember that strings are `immutable`, so you can't just reassign the letters by indexing them. This is the way around that constraint."
   ]
  },
  {
   "cell_type": "code",
   "execution_count": null,
   "metadata": {},
   "outputs": [],
   "source": [
    "string_1 = \"Hello World!\"\n",
    "string_2 = \"Crab!\"\n",
    "string_1 = string_1[:6] + string_2\n",
    "print(string_1)\n"
   ]
  },
  {
   "attachments": {},
   "cell_type": "markdown",
   "metadata": {},
   "source": [
    "In the code block below, replace the word \"large\" with the word \"small\" in the string, and print the string."
   ]
  },
  {
   "cell_type": "code",
   "execution_count": null,
   "metadata": {},
   "outputs": [],
   "source": [
    "sentence_1 = 'Wow, what a large horse!'\n",
    "substring_1 = \"small\"\n",
    "# TODO - Replace \"large\" with \"small\" in the sentence\n",
    "print(sentence_1)\n"
   ]
  },
  {
   "attachments": {},
   "cell_type": "markdown",
   "metadata": {},
   "source": [
    "## Splitting strings\n",
    "\n",
    "We can split strings on a given character value using the `.split()` method. Try splitting up this filepath into drive, folder and filename.\n",
    " -  Call `my_filepath`'s  `.split` method and assign the output to a variable called `my_file_structure`.\n",
    " -  print `my_file_structure`.\n",
    "\n",
    "The variable created is called a `list`. You will learn a lot more about lists later, but for now, you just need to know that they can be indexed, just like strings.\n",
    "\n",
    "- print just the filename, `cow.jpg`"
   ]
  },
  {
   "cell_type": "code",
   "execution_count": null,
   "metadata": {},
   "outputs": [],
   "source": [
    "my_filepath = \"C:/Images/cow.jpg\"\n",
    "# TODO  Call `my_filepath`'s  `.split` method and assign the output to a variable called `my_file_structure`.\n",
    "# TODO - print `my_file_structure`\n",
    "# TODO - print just the filename\n",
    "\n"
   ]
  },
  {
   "cell_type": "code",
   "execution_count": null,
   "metadata": {},
   "outputs": [],
   "source": [
    "#@title #### Enter your solution here { display-mode: \"form\", run: \"auto\" }\n",
    "assert \"my_file_structure\" in globals(), \"The variable 'my_file_structure' has not been created. Make sure you haven't deleted it. If so, the value should be 'C:/Images/cow.jpg'.\"\n",
    "#@markdown How many elements are in `my_file_structure`?\n",
    "ans_1 = \"Select your option\" #@param [0, 1, 2, 3, 4, 5] {type: \"number\"} \n",
    "#@markdown What is the index of the filename in `my_file_structure`?\n",
    "ans_2 = \"Select your option\" #@param [0, 1, 2, 3, 4, 5] {type: \"number\"}\n",
    "marking_system.check_step_3(my_file_structure, ans_1, ans_2)\n"
   ]
  }
 ],
 "metadata": {
  "kernelspec": {
   "display_name": "content-projects_new",
   "language": "python",
   "name": "python3"
  },
  "language_info": {
   "codemirror_mode": {
    "name": "ipython",
    "version": 3
   },
   "file_extension": ".py",
   "mimetype": "text/x-python",
   "name": "python",
   "nbconvert_exporter": "python",
   "pygments_lexer": "ipython3",
   "version": "3.10.8"
  },
  "vscode": {
   "interpreter": {
    "hash": "4b961f8166aad6ccb4cf65d0f9c742ef9c6c23ffe83ad932438cd83ed96aebaf"
   }
  }
 },
 "nbformat": 4,
 "nbformat_minor": 2
}
