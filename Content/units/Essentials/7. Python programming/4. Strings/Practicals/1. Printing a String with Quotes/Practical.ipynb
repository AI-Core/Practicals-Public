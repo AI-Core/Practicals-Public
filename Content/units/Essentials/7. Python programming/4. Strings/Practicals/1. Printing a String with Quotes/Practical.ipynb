{
 "cells": [
  {
   "cell_type": "markdown",
   "id": "271152cb",
   "metadata": {},
   "source": [
    "# Printing a String with Quotes"
   ]
  },
  {
   "cell_type": "code",
   "execution_count": null,
   "id": "a4b95f4d",
   "metadata": {},
   "outputs": [],
   "source": [
    "#@title ### Run the following cell to download the necessary files for this practical { display-mode: \"form\" } \n",
    "#@markdown Don't worry about what's in this collapsed cell\n",
    "\n",
    "print('Downloading the marking system')\n",
    "!wget https://s3-eu-west-1.amazonaws.com/aicore-portal-public-prod-307050600709/practical_files/41545ed1-346b-4f95-b0dd-0ed79114c9bf/marking_system.py -q -O marking_system.py\n",
    "import marking_system\n",
    "import importlib\n",
    "importlib.reload(marking_system)\n",
    "import sys\n",
    "ipython = get_ipython()\n",
    "def hide_traceback(exc_tuple=None, filename=None, tb_offset=None, exception_only=False, running_compiled_code=False):\n",
    "    etype, value, tb = sys.exc_info()\n",
    "    value.__cause__ = None  # suppress chained exceptions\n",
    "    return ipython._showtraceback(etype, \"❌ \" + f\"\u001b[91m{value}\", ipython.InteractiveTB.get_exception_only(etype, \"❌ \" + f\"\u001b[91m{value}\"))\n",
    "ipython.showtraceback = hide_traceback\n"
   ]
  },
  {
   "attachments": {},
   "cell_type": "markdown",
   "id": "9fea4c28",
   "metadata": {},
   "source": [
    "#### 1. Create a variable called `my_string` and assign it the value `\"Hello \"World\"`, including the `\"` quotes around `World` inside the string definition:\n",
    "\n",
    "Did it work? What happened?"
   ]
  },
  {
   "cell_type": "code",
   "execution_count": null,
   "id": "7adbb4a1",
   "metadata": {},
   "outputs": [],
   "source": [
    "# TODO - Create a string called 'my_string' that contains the string \"Hello \"World\"\n"
   ]
  },
  {
   "cell_type": "code",
   "execution_count": null,
   "id": "2b7c2489",
   "metadata": {},
   "outputs": [],
   "source": [
    "#@title #### Enter your solution here { display-mode: \"form\", run: \"auto\" }\n",
    "\n",
    "#@markdown Could you create the string? Why or why not?\n",
    "ans = \"Select your option\" #@param [\"Yes\", \"No, because the second quotation mark closes the first one\", \"No, because you can't use quotation marks in a string\"] {allow-input: true}\n",
    "marking_system.check_step_1(ans)\n"
   ]
  },
  {
   "attachments": {},
   "cell_type": "markdown",
   "id": "a618523a",
   "metadata": {},
   "source": [
    "#### 2. Create a variable called `my_string` and assign it the value `\"Hello 'World'\"`. Then print it.\n",
    "\n",
    "Did it work? In this case, you are using single quotes to enclose the string."
   ]
  },
  {
   "cell_type": "code",
   "execution_count": 2,
   "id": "dbeeece4",
   "metadata": {},
   "outputs": [],
   "source": [
    "# TODO -  Create a variable called `my_string` and assign it the value \"Hello 'World'\".\n",
    "print(my_string)\n"
   ]
  },
  {
   "cell_type": "code",
   "execution_count": null,
   "id": "75a1473e",
   "metadata": {},
   "outputs": [],
   "source": [
    "#@title #### Enter your solution here { display-mode: \"form\", run: \"auto\" }\n",
    "\n",
    "#@markdown Could you create the string? Why or why not?\n",
    "ans = \"Select your option\" #@param [\"Yes\", \"No, because the second quotation mark closes the first one\", \"No, because you can't use quotation marks in a string\"] {allow-input: true}\n",
    "marking_system.check_step_2(ans)\n"
   ]
  },
  {
   "attachments": {},
   "cell_type": "markdown",
   "id": "35b23a89",
   "metadata": {},
   "source": [
    "#### 3. Create a variable called `my_string` and assign it the value `\"Hello \\\"World\\\"\"`\n",
    "\n",
    "If you want to enclose a string in double quotes, you can use the escape character `\\` to escape the double quotes."
   ]
  },
  {
   "cell_type": "code",
   "execution_count": 3,
   "id": "cee68195",
   "metadata": {},
   "outputs": [],
   "source": [
    "# TODO - Create a variable called `my_string` and assign it the value \"Hello \\\"World\\\"\"\n",
    "print(my_string)\n"
   ]
  },
  {
   "cell_type": "code",
   "execution_count": null,
   "id": "54b50c02",
   "metadata": {},
   "outputs": [],
   "source": [
    "#@title #### Enter your solution here { display-mode: \"form\", run: \"auto\" }\n",
    "\n",
    "#@markdown Could you create the string? Why or why not?\n",
    "ans = \"Select your option\" #@param [\"Yes\", \"No, because the second quotation mark closes the first one\", \"No, because you can't use quotation marks in a string\"] {allow-input: true}\n",
    "marking_system.check_step_3(ans)\n"
   ]
  }
 ],
 "metadata": {
  "kernelspec": {
   "display_name": "content-projects_new",
   "language": "python",
   "name": "python3"
  },
  "language_info": {
   "codemirror_mode": {
    "name": "ipython",
    "version": 3
   },
   "file_extension": ".py",
   "mimetype": "text/x-python",
   "name": "python",
   "nbconvert_exporter": "python",
   "pygments_lexer": "ipython3",
   "version": "3.10.8"
  },
  "vscode": {
   "interpreter": {
    "hash": "4b961f8166aad6ccb4cf65d0f9c742ef9c6c23ffe83ad932438cd83ed96aebaf"
   }
  }
 },
 "nbformat": 4,
 "nbformat_minor": 5
}
