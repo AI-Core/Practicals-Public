{
 "cells": [
  {
   "cell_type": "markdown",
   "id": "d86d8973",
   "metadata": {},
   "source": [
    "# Input Type"
   ]
  },
  {
   "cell_type": "code",
   "execution_count": null,
   "id": "08a5ea50",
   "metadata": {},
   "outputs": [],
   "source": [
    "#@title ### Run the following cell to download the necessary files for this practical { display-mode: \"form\" } \n",
    "#@markdown Don't worry about what's in this collapsed cell\n",
    "\n",
    "print('Downloading the marking system')\n",
    "!wget https://s3-eu-west-1.amazonaws.com/aicore-portal-public-prod-307050600709/practical_files/ccf7fb25-a11c-4e8a-8afa-48ee335fb0a3/marking_system.py -q -O marking_system.py\n",
    "import marking_system\n",
    "import importlib\n",
    "importlib.reload(marking_system)\n",
    "import sys\n",
    "ipython = get_ipython()\n",
    "def hide_traceback(exc_tuple=None, filename=None, tb_offset=None, exception_only=False, running_compiled_code=False):\n",
    "    etype, value, tb = sys.exc_info()\n",
    "    value.__cause__ = None  # suppress chained exceptions\n",
    "    return ipython._showtraceback(etype, \"❌ \" + f\"\u001b[91m{value}\", ipython.InteractiveTB.get_exception_only(etype, \"❌ \" + f\"\u001b[91m{value}\"))\n",
    "ipython.showtraceback = hide_traceback\n"
   ]
  },
  {
   "attachments": {},
   "cell_type": "markdown",
   "id": "9490efb2",
   "metadata": {},
   "source": [
    "### 1. Ask the user for their name and store it in a variable called `name`"
   ]
  },
  {
   "cell_type": "code",
   "execution_count": null,
   "id": "dbe29bbe",
   "metadata": {},
   "outputs": [],
   "source": [
    "# TODO - Ask the user for their name and store it in a variable called 'name'\n"
   ]
  },
  {
   "attachments": {},
   "cell_type": "markdown",
   "id": "ce553e9e",
   "metadata": {},
   "source": [
    "### 2. What type is `name`?"
   ]
  },
  {
   "cell_type": "code",
   "execution_count": null,
   "id": "b715f727",
   "metadata": {},
   "outputs": [],
   "source": [
    "# TODO - Print the type of the variable 'name'\n"
   ]
  },
  {
   "cell_type": "code",
   "execution_count": null,
   "id": "cc7a542c",
   "metadata": {},
   "outputs": [],
   "source": [
    "#@title #### Enter your solution { display-mode: \"form\", run: \"auto\" }\n",
    "\n",
    "assert \"name\" in globals(), \"The variable 'name' does not exist. Please, make sure you created it by using the input() function.\"\n",
    "#@markdown What is the type of the variable 'name'?\n",
    "ans_1 = \"\" #@param [\"str\", \"int\", \"float\", \"bool\"]\n",
    "marking_system.check_step_1(name, ans_1)\n"
   ]
  },
  {
   "attachments": {},
   "cell_type": "markdown",
   "id": "b362c1ea",
   "metadata": {},
   "source": [
    "### 3. Ask the user for their age and store it in a variable called `age`"
   ]
  },
  {
   "cell_type": "code",
   "execution_count": null,
   "id": "91ac8ef8",
   "metadata": {},
   "outputs": [],
   "source": [
    "# TODO - Ask the user for their age and store it in a variable called 'age'\n"
   ]
  },
  {
   "attachments": {},
   "cell_type": "markdown",
   "id": "81d1654d",
   "metadata": {},
   "source": [
    "### 4. What type is `age`? Is it a string or a number?"
   ]
  },
  {
   "cell_type": "code",
   "execution_count": null,
   "id": "bacf5a0e",
   "metadata": {},
   "outputs": [],
   "source": [
    "# TODO - Print the type of the variable 'age'\n"
   ]
  },
  {
   "cell_type": "code",
   "execution_count": null,
   "id": "f66795ac",
   "metadata": {},
   "outputs": [],
   "source": [
    "#@title #### Enter your solution { display-mode: \"form\", run: \"auto\" }\n",
    "\n",
    "assert \"age\" in globals(), \"The variable 'age' does not exist. Please, make sure you created it by using the input() function.\"\n",
    "#@markdown What is the type of the variable 'age'?\n",
    "ans_1 = \"\" #@param [\"str\", \"int\", \"float\", \"bool\"]\n",
    "marking_system.check_step_2(age, ans_1)\n"
   ]
  },
  {
   "attachments": {},
   "cell_type": "markdown",
   "id": "4f5a673f",
   "metadata": {},
   "source": [
    "### 5. Cast the age to a number using the `int()` function and store it in a variable called `age_as_int`.\n",
    "\n",
    "Then, print the type of `age_as_int`."
   ]
  },
  {
   "cell_type": "code",
   "execution_count": null,
   "id": "c9a5458e",
   "metadata": {},
   "outputs": [],
   "source": [
    "# TODO - Convert the variable 'age' to an integer and store it in a variable called 'age_as_int'\n",
    "# TODO - Print the type of the variable 'age_as_int'\n"
   ]
  },
  {
   "cell_type": "code",
   "execution_count": null,
   "id": "9ae74cc9",
   "metadata": {},
   "outputs": [],
   "source": [
    "#@title #### Enter your solution { display-mode: \"form\", run: \"auto\" }\n",
    "\n",
    "assert \"age\" in globals(), \"The variable 'age' does not exist. Please, make sure you created it by using the input() function.\"\n",
    "#@markdown What is the type of the variable 'age_as_int'?\n",
    "ans_1 = \"\" #@param [\"str\", \"int\", \"float\", \"bool\"]\n",
    "marking_system.check_step_3(age_as_int, ans_1)\n"
   ]
  }
 ],
 "metadata": {
  "kernelspec": {
   "display_name": "content-projects_new",
   "language": "python",
   "name": "python3"
  },
  "language_info": {
   "name": "python",
   "version": "3.10.8"
  },
  "vscode": {
   "interpreter": {
    "hash": "4b961f8166aad6ccb4cf65d0f9c742ef9c6c23ffe83ad932438cd83ed96aebaf"
   }
  }
 },
 "nbformat": 4,
 "nbformat_minor": 5
}
