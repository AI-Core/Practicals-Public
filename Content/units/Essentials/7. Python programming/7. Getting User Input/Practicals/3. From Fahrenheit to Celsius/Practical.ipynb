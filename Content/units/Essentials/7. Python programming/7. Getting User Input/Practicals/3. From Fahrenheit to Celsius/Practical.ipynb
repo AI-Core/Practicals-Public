{
 "cells": [
  {
   "cell_type": "markdown",
   "id": "69a3aab6",
   "metadata": {},
   "source": [
    "# From Fahrenheit to Celsius"
   ]
  },
  {
   "cell_type": "code",
   "execution_count": null,
   "id": "d8393223",
   "metadata": {},
   "outputs": [],
   "source": [
    "#@title ### Run the following cell to download the necessary files for this practical { display-mode: \"form\" } \n",
    "#@markdown Don't worry about what's in this collapsed cell\n",
    "\n",
    "print('Downloading the marking system')\n",
    "!wget https://s3-eu-west-1.amazonaws.com/aicore-portal-public-prod-307050600709/practical_files/45570259-a814-4ccb-83af-d426c4ad9299/marking_system.py -q -O marking_system.py\n",
    "import marking_system\n",
    "import importlib\n",
    "importlib.reload(marking_system)\n",
    "import sys\n",
    "ipython = get_ipython()\n",
    "def hide_traceback(exc_tuple=None, filename=None, tb_offset=None, exception_only=False, running_compiled_code=False):\n",
    "    etype, value, tb = sys.exc_info()\n",
    "    value.__cause__ = None  # suppress chained exceptions\n",
    "    return ipython._showtraceback(etype, \"❌ \" + f\"\u001b[91m{value}\", ipython.InteractiveTB.get_exception_only(etype, \"❌ \" + f\"\u001b[91m{value}\"))\n",
    "ipython.showtraceback = hide_traceback\n"
   ]
  },
  {
   "attachments": {},
   "cell_type": "markdown",
   "id": "7e31962a",
   "metadata": {},
   "source": [
    "#### 1. Ask the user for the temperature in Fahrenheit and store it in a variable called `fahrenheit`\n",
    "\n",
    "Then, cast the input to a float and reassign it to `fahrenheit`"
   ]
  },
  {
   "cell_type": "code",
   "execution_count": null,
   "id": "b5874e06",
   "metadata": {},
   "outputs": [],
   "source": [
    "# TODO - Ask the user for the temperature in Fahrenheit and store it in the variable 'fahrenheit'\n",
    "# TODO - Cast the variable 'fahrenheit' to a float and store it in the variable 'fahrenheit'\n"
   ]
  },
  {
   "cell_type": "code",
   "execution_count": null,
   "id": "2c466e2d",
   "metadata": {},
   "outputs": [],
   "source": [
    "#@title #### Enter your solution { display-mode: \"form\", run: \"auto\" }\n",
    "\n",
    "assert \"fahrenheit\" in globals(), \"The variable 'fahrenheit' does not exist. Please, make sure you created it in the previous cell.\"\n",
    "\n",
    "marking_system.check_step_1(fahrenheit)\n"
   ]
  },
  {
   "attachments": {},
   "cell_type": "markdown",
   "id": "534542f7",
   "metadata": {},
   "source": [
    "#### 2. Convert the temperature to Celsius and store it in a variable called `celsius`\n",
    "\n",
    "To convert from Fahrenheit to Celsius, subtract 32 from the temperature and multiply by 5/9"
   ]
  },
  {
   "cell_type": "code",
   "execution_count": null,
   "id": "a85bb4e2",
   "metadata": {},
   "outputs": [],
   "source": [
    "# TODO - Convert the temperature in Fahrenheit to Celsius and store it in the variable 'celsius'\n"
   ]
  },
  {
   "cell_type": "code",
   "execution_count": null,
   "id": "f17998d8",
   "metadata": {},
   "outputs": [],
   "source": [
    "#@title #### Enter your solution { display-mode: \"form\", run: \"auto\" }\n",
    "\n",
    "assert \"fahrenheit\" in globals(), \"The variable 'fahrenheit' does not exist. Please, make sure you created it in the previous cell.\"\n",
    "assert \"celsius\" in globals(), \"The variable 'celsius' does not exist. Please, make sure you created it in the previous cell.\"\n",
    "marking_system.check_step_2(fahrenheit, celsius)\n"
   ]
  },
  {
   "cell_type": "markdown",
   "id": "f8937482",
   "metadata": {},
   "source": [
    "#### 3. Print out the message `\"The temperature in Celsius is {celsius}\"`"
   ]
  },
  {
   "cell_type": "code",
   "execution_count": null,
   "id": "de91473b",
   "metadata": {},
   "outputs": [],
   "source": [
    "# TODO - Print the temperature in Celsius\n"
   ]
  }
 ],
 "metadata": {
  "kernelspec": {
   "display_name": "content-projects_new",
   "language": "python",
   "name": "python3"
  },
  "language_info": {
   "name": "python",
   "version": "3.10.8"
  },
  "vscode": {
   "interpreter": {
    "hash": "4b961f8166aad6ccb4cf65d0f9c742ef9c6c23ffe83ad932438cd83ed96aebaf"
   }
  }
 },
 "nbformat": 4,
 "nbformat_minor": 5
}
