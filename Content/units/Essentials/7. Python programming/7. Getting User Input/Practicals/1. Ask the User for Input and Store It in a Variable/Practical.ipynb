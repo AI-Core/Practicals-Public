{
 "cells": [
  {
   "cell_type": "markdown",
   "id": "9cef1128",
   "metadata": {},
   "source": [
    "# Ask the User for Input and Store It in a Variable"
   ]
  },
  {
   "cell_type": "code",
   "execution_count": null,
   "id": "85d4189b",
   "metadata": {},
   "outputs": [],
   "source": [
    "#@title ### Run the following cell to download the necessary files for this practical { display-mode: \"form\" } \n",
    "#@markdown Don't worry about what's in this collapsed cell\n",
    "\n",
    "print('Downloading the marking system')\n",
    "!wget https://s3-eu-west-1.amazonaws.com/aicore-portal-public-prod-307050600709/practical_files/3d33fe8b-bd2f-49d5-92b3-5f1f5aab8b11/marking_system.py -q -O marking_system.py\n",
    "import marking_system\n",
    "import importlib\n",
    "importlib.reload(marking_system)\n",
    "import sys\n",
    "ipython = get_ipython()\n",
    "def hide_traceback(exc_tuple=None, filename=None, tb_offset=None, exception_only=False, running_compiled_code=False):\n",
    "    etype, value, tb = sys.exc_info()\n",
    "    value.__cause__ = None  # suppress chained exceptions\n",
    "    return ipython._showtraceback(etype, \"❌ \" + f\"\u001b[91m{value}\", ipython.InteractiveTB.get_exception_only(etype, \"❌ \" + f\"\u001b[91m{value}\"))\n",
    "ipython.showtraceback = hide_traceback\n"
   ]
  },
  {
   "attachments": {},
   "cell_type": "markdown",
   "id": "8fca24aa",
   "metadata": {},
   "source": [
    "### 1. Ask the user for their name and store it in a variable called `name`"
   ]
  },
  {
   "cell_type": "code",
   "execution_count": null,
   "id": "a4548965",
   "metadata": {},
   "outputs": [],
   "source": [
    "# TODO - Ask the user for their name using the input function and store it in a variable called `name`\n"
   ]
  },
  {
   "attachments": {},
   "cell_type": "markdown",
   "id": "7b6f772b",
   "metadata": {},
   "source": [
    "### 2. Ask the user for their age and store it in a variable called `age`"
   ]
  },
  {
   "cell_type": "code",
   "execution_count": null,
   "id": "9dc02911",
   "metadata": {},
   "outputs": [],
   "source": [
    "# TODO - Ask the user for their age using the input function and store it in a variable called `age`\n"
   ]
  },
  {
   "attachments": {},
   "cell_type": "markdown",
   "id": "b913892e",
   "metadata": {},
   "source": [
    "### 3. Create a string with the next value `\"Hello, my name is {name} and I am {age} years old\"` and store it in a variable called `message`\n",
    "\n",
    "For example, if the user enters `John` and `25`, the output should be:\n",
    "\n",
    "`Hello, my name is John and I am 25 years old`\n",
    "\n",
    "Print the value of `message` using the `print()` function."
   ]
  },
  {
   "cell_type": "code",
   "execution_count": null,
   "id": "88f6be87",
   "metadata": {},
   "outputs": [],
   "source": [
    "# TODO - Create a variable called `message` that contains the mentioned string\n",
    "print(message)\n"
   ]
  },
  {
   "cell_type": "code",
   "execution_count": null,
   "id": "c56969f9",
   "metadata": {},
   "outputs": [],
   "source": [
    "#@title #### Run this cell to check your solution { display-mode: \"form\", run: \"auto\" }\n",
    "\n",
    "assert \"name\" in globals(), \"The variable 'name' does not exist. Please, make sure you created it by asking the user for their name.\"\n",
    "assert \"age\" in globals(), \"The variable 'age' does not exist. Please, make sure you created it by asking the user for their age.\"\n",
    "assert \"message\" in globals(), \"The variable 'message' does not exist. Please, make sure you created it\"\n",
    "\n",
    "marking_system.check_step_1(name, age, message)\n"
   ]
  }
 ],
 "metadata": {
  "kernelspec": {
   "display_name": "content-projects_new",
   "language": "python",
   "name": "python3"
  },
  "language_info": {
   "name": "python",
   "version": "3.10.8"
  },
  "vscode": {
   "interpreter": {
    "hash": "4b961f8166aad6ccb4cf65d0f9c742ef9c6c23ffe83ad932438cd83ed96aebaf"
   }
  }
 },
 "nbformat": 4,
 "nbformat_minor": 5
}
