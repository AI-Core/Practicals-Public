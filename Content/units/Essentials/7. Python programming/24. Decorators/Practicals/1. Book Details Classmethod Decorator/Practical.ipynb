{
 "cells": [
  {
   "cell_type": "markdown",
   "metadata": {},
   "source": [
    "# Using a Classmethod decorator"
   ]
  },
  {
   "cell_type": "markdown",
   "metadata": {},
   "source": [
    "In the below code, the defined class `Book` is constructed with three attributes: `title`, `author`, `year`. It has one method, which displays these atrributes as a printed statement."
   ]
  },
  {
   "cell_type": "code",
   "execution_count": 13,
   "metadata": {},
   "outputs": [
    {
     "name": "stdout",
     "output_type": "stream",
     "text": [
      "Title: Assassins Apprentice, Author: Robin Hobb, Year: 1995\n"
     ]
    }
   ],
   "source": [
    "class Book:\n",
    "    def __init__(self, title, author, year):\n",
    "        self.title = title\n",
    "        self.author = author\n",
    "        self.year = year\n",
    "\n",
    "    def display_info(self):\n",
    "        print(f'Title: {self.title}, Author: {self.author}, Year: {self.year}')\n",
    "\n",
    "    # TODO - create a method with a classmethod decorator\n",
    "\n",
    "assassins_apprentice = Book('Assassins Apprentice', 'Robin Hobb', 1995)\n",
    "assassins_apprentice.display_info()\n"
   ]
  },
  {
   "cell_type": "markdown",
   "metadata": {},
   "source": [
    "Using the `@classmethod` decorator, add a method to class which takes in book details in the form of a Python dictionary, and creates an instance of the class with those details.\n",
    "\n",
    "Test your code with the following cell:"
   ]
  },
  {
   "cell_type": "code",
   "execution_count": null,
   "metadata": {},
   "outputs": [],
   "source": [
    "mistborn_dict = {\n",
    "    'title': 'The Final Empire',\n",
    "    'author': 'Brandon Sanderson',\n",
    "    'year': 2006\n",
    "}\n",
    "mistborn = Book.from_dictionary(mistborn_dict)\n",
    "mistborn.display_info()\n"
   ]
  },
  {
   "cell_type": "code",
   "execution_count": 15,
   "metadata": {},
   "outputs": [],
   "source": []
  }
 ],
 "metadata": {
  "kernelspec": {
   "display_name": "base",
   "language": "python",
   "name": "python3"
  },
  "language_info": {
   "codemirror_mode": {
    "name": "ipython",
    "version": 3
   },
   "file_extension": ".py",
   "mimetype": "text/x-python",
   "name": "python",
   "nbconvert_exporter": "python",
   "pygments_lexer": "ipython3",
   "version": "3.9.13"
  }
 },
 "nbformat": 4,
 "nbformat_minor": 2
}
