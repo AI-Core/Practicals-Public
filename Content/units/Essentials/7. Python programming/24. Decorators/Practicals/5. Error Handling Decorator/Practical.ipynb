{
 "cells": [
  {
   "cell_type": "markdown",
   "metadata": {},
   "source": [
    "# Error Handling Decorators"
   ]
  },
  {
   "cell_type": "code",
   "execution_count": null,
   "id": "98d9cca6",
   "metadata": {},
   "outputs": [],
   "source": [
    "#@title ### Run the following cell to download the necessary files for this practical { display-mode: \"form\" } \n",
    "#@markdown Don't worry about what's in this collapsed cell\n",
    "\n",
    "print('Downloading the marking system')\n",
    "!wget https://s3-eu-west-1.amazonaws.com/aicore-portal-public-prod-307050600709/practical_files/a0ba8eef-0392-4158-a3ad-2fdbc6cd0d8c/marking_system.py -q -O marking_system.py\n",
    "import marking_system\n",
    "import importlib\n",
    "importlib.reload(marking_system)\n",
    "import sys\n",
    "ipython = get_ipython()\n",
    "def hide_traceback(exc_tuple=None, filename=None, tb_offset=None, exception_only=False, running_compiled_code=False):\n",
    "    etype, value, tb = sys.exc_info()\n",
    "    value.__cause__ = None  # suppress chained exceptions\n",
    "    return ipython._showtraceback(etype, \"❌ \" + f\"\u001b[91m{value}\", ipython.InteractiveTB.get_exception_only(etype, \"❌ \" + f\"\u001b[91m{value}\"))\n",
    "ipython.showtraceback = hide_traceback\n"
   ]
  },
  {
   "cell_type": "markdown",
   "metadata": {},
   "source": [
    "### 1. Create a function named `div` that takes in two numbers and divides the first by the second"
   ]
  },
  {
   "cell_type": "code",
   "execution_count": 3,
   "metadata": {},
   "outputs": [],
   "source": [
    "# TODO: Create a function named `div` that takes in two numbers and divides the first by the second\n"
   ]
  },
  {
   "cell_type": "code",
   "execution_count": null,
   "metadata": {},
   "outputs": [],
   "source": [
    "#@title #### Run this cell to check your solution { display-mode: \"form\", run: \"auto\" }\n",
    "\n",
    "assert \"div\" in globals(), \"You haven't defined the function 'div'.\"\n",
    "assert callable(div), \"'div' should be a function. Please, try again.\"\n",
    "assert div.__code__.co_argcount == 2, \"'div' should take 2 parameters. Please, try again.\"\n",
    "\n",
    "marking_system.check_step_1(div)\n"
   ]
  },
  {
   "cell_type": "markdown",
   "metadata": {},
   "source": [
    "### 2. Create a decorator named `error_handler` that uses try and except to catch `ZeroDivisonError` and `TypeError` errors and prints custom messages"
   ]
  },
  {
   "cell_type": "code",
   "execution_count": 1,
   "metadata": {},
   "outputs": [],
   "source": [
    "# TODO: Create a decorator named `error_handler` that uses try and except to catch `ZeroDivisonError` and `TypeError` errors and prints custom messages\n"
   ]
  },
  {
   "cell_type": "code",
   "execution_count": null,
   "metadata": {},
   "outputs": [],
   "source": [
    "#@title #### Run this cell to check your solution { display-mode: \"form\", run: \"auto\" }\n",
    "\n",
    "assert \"error_handler\" in globals(), \"You haven't defined the function 'error_handler'.\"\n",
    "assert callable(error_handler), \"'error_handler' should be a function. Please, try again.\"\n",
    "assert error_handler.__code__.co_argcount == 1, \"'error_handler' should take 1 parameter. Please, try again.\"\n",
    "\n",
    "marking_system.check_step_2(error_handler)\n"
   ]
  },
  {
   "cell_type": "markdown",
   "metadata": {},
   "source": [
    "### 3. Create a function named `div_err` which functions like `div` but uses the `error_handler` decorator"
   ]
  },
  {
   "cell_type": "code",
   "execution_count": 2,
   "metadata": {},
   "outputs": [],
   "source": [
    "# TODO: Create a function named `div_err` which functions like div but uses the `error_handler` decorator\n"
   ]
  },
  {
   "cell_type": "code",
   "execution_count": null,
   "metadata": {},
   "outputs": [],
   "source": [
    "#@title #### Run this cell to check your solution { display-mode: \"form\", run: \"auto\" }\n",
    "\n",
    "assert \"div_err\" in globals(), \"You haven't defined the function 'div_err'.\"\n",
    "assert callable(div_err), \"'div_err' should be a function. Please, try again.\"\n",
    "\n",
    "marking_system.check_step_3(div_err)\n"
   ]
  }
 ],
 "metadata": {
  "kernelspec": {
   "display_name": "Python 3",
   "language": "python",
   "name": "python3"
  },
  "language_info": {
   "codemirror_mode": {
    "name": "ipython",
    "version": 3
   },
   "file_extension": ".py",
   "mimetype": "text/x-python",
   "name": "python",
   "nbconvert_exporter": "python",
   "pygments_lexer": "ipython3",
   "version": "3.10.12"
  }
 },
 "nbformat": 4,
 "nbformat_minor": 2
}
