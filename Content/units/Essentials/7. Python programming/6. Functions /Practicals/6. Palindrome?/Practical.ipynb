{
 "cells": [
  {
   "cell_type": "markdown",
   "id": "efc2903f",
   "metadata": {},
   "source": [
    "# Palindrome?"
   ]
  },
  {
   "cell_type": "code",
   "execution_count": null,
   "id": "eddcd283",
   "metadata": {},
   "outputs": [],
   "source": [
    "#@title ### Run the following cell to download the necessary files for this practical { display-mode: \"form\" } \n",
    "#@markdown Don't worry about what's in this collapsed cell\n",
    "\n",
    "print('Downloading the marking system')\n",
    "!wget https://s3-eu-west-1.amazonaws.com/aicore-portal-public-prod-307050600709/practical_files/95c8dcce-c456-490f-8fde-9868bdee6dfd/marking_system.py -q -O marking_system.py\n",
    "import marking_system\n",
    "import importlib\n",
    "importlib.reload(marking_system)\n",
    "import sys\n",
    "ipython = get_ipython()\n",
    "def hide_traceback(exc_tuple=None, filename=None, tb_offset=None, exception_only=False, running_compiled_code=False):\n",
    "    etype, value, tb = sys.exc_info()\n",
    "    value.__cause__ = None  # suppress chained exceptions\n",
    "    return ipython._showtraceback(etype, \"❌ \" + f\"\u001b[91m{value}\", ipython.InteractiveTB.get_exception_only(etype, \"❌ \" + f\"\u001b[91m{value}\"))\n",
    "ipython.showtraceback = hide_traceback\n"
   ]
  },
  {
   "attachments": {},
   "cell_type": "markdown",
   "id": "096c4062",
   "metadata": {},
   "source": [
    "A palindrome is a word, phrase, number, or other sequence of characters which reads the same backward or forward. This includes capital letters, punctuation, and other special characters.\n",
    "#### 1. Write a function that takes in a string and returns `True` if it is a palindrome and `False` otherwise\n",
    "\n",
    "Call the function `is_palindrome`"
   ]
  },
  {
   "cell_type": "code",
   "execution_count": null,
   "id": "77196240",
   "metadata": {},
   "outputs": [],
   "source": [
    "# TODO - Define a function called is_palindrome that takes a string as an argument and returns True if the string is a palindrome and False otherwise.\n"
   ]
  },
  {
   "cell_type": "code",
   "execution_count": null,
   "id": "e5e7c483",
   "metadata": {},
   "outputs": [],
   "source": [
    "#@title Run this cell to check your code { display-mode: \"form\" }\n",
    "\n",
    "assert \"is_palindrome\" in globals(), \"You haven't defined a function called 'is_palindrome'. Please, try again.\"\n",
    "assert callable(is_palindrome), \"'is_palindrome' should be a function. Please, try again.\"\n",
    "assert is_palindrome.__code__.co_argcount == 1, \"'is_palindrome' should take one argument. Please, try again.\"\n",
    "\n",
    "marking_system.check_step_1(is_palindrome)\n"
   ]
  },
  {
   "cell_type": "markdown",
   "id": "f178763b",
   "metadata": {},
   "source": [
    "#### 2. Write a function that takes in a string and returns `True` if it is a palindrome and `False` otherwise. This time, ignore capitalisation and punctuation.\n",
    "\n",
    "One tip, you can get a list of all the punctuation characters by importing the string module and using `string.punctuation`. Then, remove all punctuation from the string using the `replace` method."
   ]
  },
  {
   "cell_type": "code",
   "execution_count": 5,
   "id": "8d5834aa",
   "metadata": {},
   "outputs": [],
   "source": [
    "import string\n",
    "punctuation = string.punctuation\n",
    "# TODO - Repeat the previous exercise but ignore case sensitivity and punctuation.\n"
   ]
  },
  {
   "cell_type": "code",
   "execution_count": null,
   "id": "775351c6",
   "metadata": {},
   "outputs": [],
   "source": [
    "#@title Run this cell to check your code { display-mode: \"form\" }\n",
    "\n",
    "assert \"is_palindrome\" in globals(), \"You haven't defined a function called 'is_palindrome'. Please, try again.\"\n",
    "assert callable(is_palindrome), \"'is_palindrome' should be a function. Please, try again.\"\n",
    "assert is_palindrome.__code__.co_argcount == 1, \"'is_palindrome' should take one argument. Please, try again.\"\n",
    "\n",
    "marking_system.check_step_2(is_palindrome)\n"
   ]
  },
  {
   "attachments": {},
   "cell_type": "markdown",
   "id": "0af30b1f",
   "metadata": {},
   "source": [
    "There are several ways to implement this. Some require less code, but some are more efficient; which is yours, and can you think of how to implement the other way?"
   ]
  }
 ],
 "metadata": {
  "kernelspec": {
   "display_name": "content-projects_new",
   "language": "python",
   "name": "python3"
  },
  "language_info": {
   "codemirror_mode": {
    "name": "ipython",
    "version": 3
   },
   "file_extension": ".py",
   "mimetype": "text/x-python",
   "name": "python",
   "nbconvert_exporter": "python",
   "pygments_lexer": "ipython3",
   "version": "3.10.8"
  },
  "vscode": {
   "interpreter": {
    "hash": "4b961f8166aad6ccb4cf65d0f9c742ef9c6c23ffe83ad932438cd83ed96aebaf"
   }
  }
 },
 "nbformat": 4,
 "nbformat_minor": 5
}
