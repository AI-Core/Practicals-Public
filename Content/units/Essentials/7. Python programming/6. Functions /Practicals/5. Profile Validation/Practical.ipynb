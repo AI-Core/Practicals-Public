{
 "cells": [
  {
   "cell_type": "markdown",
   "id": "32453c8e",
   "metadata": {},
   "source": [
    "# Profile Validation"
   ]
  },
  {
   "cell_type": "code",
   "execution_count": null,
   "id": "6e46e86b",
   "metadata": {},
   "outputs": [],
   "source": [
    "#@title ### Run the following cell to download the necessary files for this practical { display-mode: \"form\" } \n",
    "#@markdown Don't worry about what's in this collapsed cell\n",
    "\n",
    "print('Downloading the marking system')\n",
    "!wget https://s3-eu-west-1.amazonaws.com/aicore-portal-public-prod-307050600709/practical_files/bb24e593-3ffb-4c13-a795-cc4cb79ec4db/marking_system.py -q -O marking_system.py\n",
    "import marking_system\n",
    "import importlib\n",
    "importlib.reload(marking_system)\n",
    "import sys\n",
    "ipython = get_ipython()\n",
    "def hide_traceback(exc_tuple=None, filename=None, tb_offset=None, exception_only=False, running_compiled_code=False):\n",
    "    etype, value, tb = sys.exc_info()\n",
    "    value.__cause__ = None  # suppress chained exceptions\n",
    "    return ipython._showtraceback(etype, \"❌ \" + f\"\u001b[91m{value}\", ipython.InteractiveTB.get_exception_only(etype, \"❌ \" + f\"\u001b[91m{value}\"))\n",
    "ipython.showtraceback = hide_traceback\n"
   ]
  },
  {
   "cell_type": "markdown",
   "id": "e93b3c58",
   "metadata": {},
   "source": [
    "#### 1. Create a function which takes in the `name`, `age`, and `email` of a user trying to create a new profile on our application\n",
    "\n",
    "Name the function `validate_profile`. In this first step, you can just have the function print out the values it receives.\n",
    "\n",
    "So, if it's passed the following values:\n",
    "\n",
    "```python\n",
    "validate_profile(\"John\", 34, \"john@hotmail.com\")\n",
    "```\n",
    "\n",
    "It should print out:\n",
    "\n",
    "```\n",
    "John\n",
    "34\n",
    "john@hotmail.com\n",
    "```"
   ]
  },
  {
   "cell_type": "code",
   "execution_count": null,
   "id": "c4bcbe3f",
   "metadata": {},
   "outputs": [],
   "source": [
    "# TODO - Create a function called validate_profile that takes in 3 parameters: name, age, email\n",
    "    # TODO - Print the name parameter\n",
    "    # TODO - Print the age parameter\n",
    "    # TODO - Print the email parameter\n"
   ]
  },
  {
   "cell_type": "code",
   "execution_count": null,
   "id": "8b2f29c8",
   "metadata": {},
   "outputs": [],
   "source": [
    "#@title Run this cell to check your code { display-mode: \"form\" }\n",
    "\n",
    "assert \"validate_profile\" in globals(), \"You haven't defined a function called 'validate_profile'. Please, try again.\"\n",
    "assert callable(validate_profile), \"'validate_profile' should be a function. Please, try again.\"\n",
    "\n",
    "marking_system.check_step_1(validate_profile)\n"
   ]
  },
  {
   "attachments": {},
   "cell_type": "markdown",
   "id": "6a3de084",
   "metadata": {},
   "source": [
    "#### 2. Check the name does not contain any of the following characters `!@£$%^&*()`\n",
    "\n",
    "If it does, __return__ the message `Invalid name`. You can remove the print statements from the previous step"
   ]
  },
  {
   "cell_type": "code",
   "execution_count": null,
   "id": "2eff1a01",
   "metadata": {},
   "outputs": [],
   "source": [
    "# TODO - Add an if statement to check if name contains any of the characters in '!@£$%^&*()'. If it does return \"Invalid name\"\n"
   ]
  },
  {
   "cell_type": "code",
   "execution_count": null,
   "id": "d83477e5",
   "metadata": {},
   "outputs": [],
   "source": [
    "#@title Run this cell to check your code { display-mode: \"form\" }\n",
    "\n",
    "assert \"validate_profile\" in globals(), \"You haven't defined a function called 'validate_profile'. Please, try again.\"\n",
    "assert callable(validate_profile), \"'validate_profile' should be a function. Please, try again.\"\n",
    "assert validate_profile.__code__.co_argcount == 3, \\\n",
    "    \"'validate_profile' should take 3 arguments. Please, try again.\"\n",
    "assert \"name\" in validate_profile.__code__.co_varnames, \\\n",
    "    \"'name' should be a parameter of 'validate_profile'. Please, try again.\"\n",
    "assert \"age\" in validate_profile.__code__.co_varnames, \\\n",
    "    \"'age' should be a parameter of 'validate_profile'. Please, try again.\"\n",
    "assert \"email\" in validate_profile.__code__.co_varnames, \\\n",
    "    \"'email' should be a parameter of 'validate_profile'. Please, try again.\"\n",
    "marking_system.check_step_2(validate_profile)\n"
   ]
  },
  {
   "attachments": {},
   "cell_type": "markdown",
   "id": "f199dfce",
   "metadata": {},
   "source": [
    "#### 3. Check the email is valid by making sure it contains `@`\n",
    "\n",
    "If it does not, return the message `Invalid email`. Add the check to the function from the previous step"
   ]
  },
  {
   "cell_type": "code",
   "execution_count": null,
   "id": "258f2fd0",
   "metadata": {},
   "outputs": [],
   "source": [
    "# TODO - Add an if statement to check if the email contains \"@\". If it doesn't return \"Invalid email\"\n"
   ]
  },
  {
   "cell_type": "code",
   "execution_count": null,
   "id": "e1969e35",
   "metadata": {},
   "outputs": [],
   "source": [
    "#@title Run this cell to check your code { display-mode: \"form\" }\n",
    "\n",
    "assert \"validate_profile\" in globals(), \"You haven't defined a function called 'validate_profile'. Please, try again.\"\n",
    "assert callable(validate_profile), \"'validate_profile' should be a function. Please, try again.\"\n",
    "assert validate_profile.__code__.co_argcount == 3, \\\n",
    "    \"'validate_profile' should take 3 arguments. Please, try again.\"\n",
    "assert \"name\" in validate_profile.__code__.co_varnames, \\\n",
    "    \"'name' should be a parameter of 'validate_profile'. Please, try again.\"\n",
    "assert \"age\" in validate_profile.__code__.co_varnames, \\\n",
    "    \"'age' should be a parameter of 'validate_profile'. Please, try again.\"\n",
    "assert \"email\" in validate_profile.__code__.co_varnames, \\\n",
    "    \"'email' should be a parameter of 'validate_profile'. Please, try again.\"\n",
    "marking_system.check_step_3(validate_profile)\n"
   ]
  },
  {
   "attachments": {},
   "cell_type": "markdown",
   "id": "3af54e35",
   "metadata": {},
   "source": [
    "#### 4. Check the `age` > 12\n",
    "\n",
    "If it is not, return the message `Invalid age`. Add the check to the function from the previous step"
   ]
  },
  {
   "cell_type": "code",
   "execution_count": null,
   "id": "461e54bd",
   "metadata": {},
   "outputs": [],
   "source": [
    "# TODO - Add an if statement to check if the age is less than 12. If it is return \"Invalid age\"\n"
   ]
  },
  {
   "cell_type": "code",
   "execution_count": null,
   "id": "d844fedd",
   "metadata": {},
   "outputs": [],
   "source": [
    "#@title Run this cell to check your code { display-mode: \"form\" }\n",
    "\n",
    "assert \"validate_profile\" in globals(), \"You haven't defined a function called 'validate_profile'. Please, try again.\"\n",
    "assert callable(validate_profile), \"'validate_profile' should be a function. Please, try again.\"\n",
    "assert validate_profile.__code__.co_argcount == 3, \\\n",
    "    \"'validate_profile' should take 3 arguments. Please, try again.\"\n",
    "assert \"name\" in validate_profile.__code__.co_varnames, \\\n",
    "    \"'name' should be a parameter of 'validate_profile'. Please, try again.\"\n",
    "assert \"age\" in validate_profile.__code__.co_varnames, \\\n",
    "    \"'age' should be a parameter of 'validate_profile'. Please, try again.\"\n",
    "assert \"email\" in validate_profile.__code__.co_varnames, \\\n",
    "    \"'email' should be a parameter of 'validate_profile'. Please, try again.\"\n",
    "marking_system.check_step_4(validate_profile)\n"
   ]
  },
  {
   "attachments": {},
   "cell_type": "markdown",
   "id": "c7b99a9d",
   "metadata": {},
   "source": [
    "#### 5. Turn each step above into a different function, so that you have one function, which calls three other functions inside\n",
    "\n",
    "So you will end up with four functions in total:\n",
    "\n",
    "- `check_name`\n",
    "- `check_email`\n",
    "- `check_age`\n",
    "- `validate_profile`\n",
    "\n",
    "`validate_profile` will call the other three functions, and if all of them return `True`, then it will return the message `\"Profile created\"`"
   ]
  },
  {
   "cell_type": "code",
   "execution_count": null,
   "id": "610dc793",
   "metadata": {},
   "outputs": [],
   "source": [
    "# TODO - Create a function called 'check_name' that takes in 1 parameter: name\n"
   ]
  },
  {
   "cell_type": "code",
   "execution_count": null,
   "id": "13783b1f",
   "metadata": {},
   "outputs": [],
   "source": [
    "# TODO - Create a function called 'check_email' that takes in 1 parameter: email\n"
   ]
  },
  {
   "cell_type": "code",
   "execution_count": null,
   "id": "ca28e500",
   "metadata": {},
   "outputs": [],
   "source": [
    "# TODO - Create a function called 'check_age' that takes in 1 parameter: age\n"
   ]
  },
  {
   "cell_type": "code",
   "execution_count": null,
   "id": "4998ecf9",
   "metadata": {},
   "outputs": [],
   "source": [
    "# TODO - Create a function called 'validate_profile' that takes in 3 parameters: name, age, email and calls the functions above\n"
   ]
  },
  {
   "cell_type": "code",
   "execution_count": null,
   "id": "d122e4d8",
   "metadata": {},
   "outputs": [],
   "source": [
    "#@title Run this cell to check your code { display-mode: \"form\" }\n",
    "\n",
    "assert \"check_name\" in globals(), \"You haven't defined a function called 'check_name'. Please, try again.\"\n",
    "assert callable(check_name), \"'check_name' should be a function. Please, try again.\"\n",
    "assert check_name.__code__.co_argcount == 1, \\\n",
    "    \"'check_name' should take 1 argument. Please, try again.\"\n",
    "assert \"name\" in check_name.__code__.co_varnames, \\\n",
    "    \"'name' should be a parameter of 'check_name'. Please, try again.\"\n",
    "\n",
    "assert \"check_email\" in globals(), \"You haven't defined a function called 'check_email'. Please, try again.\"\n",
    "assert callable(check_email), \"'check_email' should be a function. Please, try again.\"\n",
    "assert check_email.__code__.co_argcount == 1, \\\n",
    "    \"'check_email' should take 1 argument. Please, try again.\"\n",
    "assert \"email\" in check_email.__code__.co_varnames, \\\n",
    "    \"'email' should be a parameter of 'check_email'. Please, try again.\"\n",
    "\n",
    "assert \"check_age\" in globals(), \"You haven't defined a function called 'check_age'. Please, try again.\"\n",
    "assert callable(check_age), \"'check_age' should be a function. Please, try again.\"\n",
    "assert check_age.__code__.co_argcount == 1, \\\n",
    "    \"'check_age' should take 1 argument. Please, try again.\"\n",
    "assert \"age\" in check_age.__code__.co_varnames, \\\n",
    "    \"'age' should be a parameter of 'check_age'. Please, try again.\"\n",
    "\n",
    "assert \"validate_profile\" in globals(), \"You haven't defined a function called 'validate_profile'. Please, try again.\"\n",
    "assert callable(validate_profile), \"'validate_profile' should be a function. Please, try again.\"\n",
    "assert validate_profile.__code__.co_argcount == 3, \\\n",
    "    \"'validate_profile' should take 3 arguments. Please, try again.\"\n",
    "assert \"name\" in validate_profile.__code__.co_varnames, \\\n",
    "    \"'name' should be a parameter of 'validate_profile'. Please, try again.\"\n",
    "assert \"age\" in validate_profile.__code__.co_varnames, \\\n",
    "    \"'age' should be a parameter of 'validate_profile'. Please, try again.\"\n",
    "assert \"email\" in validate_profile.__code__.co_varnames, \\\n",
    "    \"'email' should be a parameter of 'validate_profile'. Please, try again.\"\n",
    "\n",
    "marking_system.check_step_5(check_name, check_email, check_age, validate_profile)\n"
   ]
  }
 ],
 "metadata": {
  "kernelspec": {
   "display_name": "content-projects",
   "language": "python",
   "name": "python3"
  },
  "language_info": {
   "codemirror_mode": {
    "name": "ipython",
    "version": 3
   },
   "file_extension": ".py",
   "mimetype": "text/x-python",
   "name": "python",
   "nbconvert_exporter": "python",
   "pygments_lexer": "ipython3",
   "version": "3.10.8"
  }
 },
 "nbformat": 4,
 "nbformat_minor": 5
}
