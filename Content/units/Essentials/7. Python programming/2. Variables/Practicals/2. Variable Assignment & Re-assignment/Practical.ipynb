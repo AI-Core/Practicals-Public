{
 "cells": [
  {
   "attachments": {},
   "cell_type": "markdown",
   "metadata": {},
   "source": [
    "# Variable Assignment & Re-assignment"
   ]
  },
  {
   "cell_type": "code",
   "execution_count": null,
   "id": "a95445f1",
   "metadata": {},
   "outputs": [],
   "source": [
    "#@title # Run the following cell to download the necessary files for this practical { display-mode: \"form\" } \n",
    "#@markdown Don't worry about what's in this collapsed cell\n",
    "\n",
    "print('Downloading test_practical.py...')\n",
    "!wget https://s3-eu-west-1.amazonaws.com/aicore-portal-public-prod-307050600709/practical_files/e42bd0b9-5e1f-46cf-979a-ea201a695007/test_practical.py -q\n",
    "import test_practical\n"
   ]
  },
  {
   "attachments": {},
   "cell_type": "markdown",
   "metadata": {},
   "source": [
    "#### 1. Define two variables `num1`, and `num2` with the values 37 and 52 respectively"
   ]
  },
  {
   "cell_type": "code",
   "execution_count": null,
   "metadata": {},
   "outputs": [],
   "source": []
  },
  {
   "cell_type": "code",
   "execution_count": null,
   "metadata": {},
   "outputs": [],
   "source": [
    "#@title Run this cell to check your solution { display-mode: \"form\", run: \"auto\" }\n",
    "\n",
    "assert \"num_1\" in globals(), \"You haven't defined the variable 'num_1'.\"\n",
    "assert \"num_2\" in globals(), \"You haven't defined the variable 'num_2'.\"\n",
    "test_practical.check_step_1(num_1=num_1, num_2=num_2)"
   ]
  },
  {
   "attachments": {},
   "cell_type": "markdown",
   "metadata": {},
   "source": [
    "#### 2: What is the sum of num1 and num2? What about the product?"
   ]
  },
  {
   "cell_type": "code",
   "execution_count": null,
   "metadata": {},
   "outputs": [],
   "source": []
  },
  {
   "cell_type": "code",
   "execution_count": null,
   "metadata": {},
   "outputs": [],
   "source": [
    "#@title Enter your solution here { display-mode: \"form\", run: \"auto\" }\n",
    "\n",
    "#@markdown What is the value of adding both variables together?\n",
    "sum_value = \"Select your option\" #@param [\"84\", \"98\", \"89\"] {allow-input: true}\n",
    "#@markdown What is the value of the product of both variables?\n",
    "prod_value = \"Select your option\" #@param [\"1924\", \"2960\", \"1789\"] {allow-input: true}"
   ]
  },
  {
   "cell_type": "code",
   "execution_count": null,
   "metadata": {},
   "outputs": [],
   "source": [
    "#@title Run this cell to check your solution { display-mode: \"form\", run: \"auto\" }\n",
    "\n",
    "assert \"num_1\" in globals(), \"You haven't defined the variable 'num_1'.\"\n",
    "assert \"num_2\" in globals(), \"You haven't defined the variable 'num_2'.\"\n",
    "assert \"sum_value\" in globals(), \"You haven't selected any value for 'sum_value'.\"\n",
    "assert \"prod_value\" in globals(), \"You haven't selected any value for 'prod_value'.\"\n",
    "test_practical.check_step_2(sum_value=sum_value, prod_value=prod_value)"
   ]
  },
  {
   "cell_type": "markdown",
   "metadata": {},
   "source": [
    "#### 3. Now reassign `num1` and `num2` to have the values 8 and 3 respectively"
   ]
  },
  {
   "cell_type": "code",
   "execution_count": null,
   "metadata": {},
   "outputs": [],
   "source": []
  },
  {
   "cell_type": "code",
   "execution_count": null,
   "metadata": {},
   "outputs": [],
   "source": [
    "#@title Run this cell to check your solution { display-mode: \"form\", run: \"auto\" }\n",
    "\n",
    "assert \"num_1\" in globals(), \"You haven't defined the variable 'num_1'.\"\n",
    "assert \"num_2\" in globals(), \"You haven't defined the variable 'num_2'.\"\n",
    "test_practical.check_step_3(num_1=num_1, num_2=num_2)"
   ]
  },
  {
   "attachments": {},
   "cell_type": "markdown",
   "metadata": {},
   "source": [
    "#### 4. Reuse the code to determine their sum and product"
   ]
  },
  {
   "cell_type": "code",
   "execution_count": null,
   "metadata": {},
   "outputs": [],
   "source": []
  },
  {
   "cell_type": "code",
   "execution_count": null,
   "metadata": {},
   "outputs": [],
   "source": [
    "#@title Enter your solution here { display-mode: \"form\", run: \"auto\" }\n",
    "\n",
    "#@markdown What is the value of adding both variables together?\n",
    "new_sum_value = \"Select your option\" #@param [\"84\", \"98\", \"89\"] {allow-input: true}\n",
    "#@markdown What is the value of the product of both variables?\n",
    "new_prod_value = \"Select your option\" #@param [\"1924\", \"2960\", \"1789\"] {allow-input: true}"
   ]
  },
  {
   "cell_type": "code",
   "execution_count": null,
   "metadata": {},
   "outputs": [],
   "source": [
    "#@title Run this cell to check your solution { display-mode: \"form\", run: \"auto\" }\n",
    "\n",
    "assert \"num_1\" in globals(), \"You haven't defined the variable 'num_1'.\"\n",
    "assert \"num_2\" in globals(), \"You haven't defined the variable 'num_2'.\"\n",
    "assert \"new_sum_value\" in globals(), \"You haven't selected any value for 'new_sum_value'.\"\n",
    "assert \"new_prod_value\" in globals(), \"You haven't selected any value for 'new_prod_value'.\"\n",
    "test_practical.check_step_4(sum_value=new_sum_value, prod_value=new_prod_value)"
   ]
  }
 ],
 "metadata": {
  "kernelspec": {
   "display_name": "content-projects_new",
   "language": "python",
   "name": "python3"
  },
  "language_info": {
   "codemirror_mode": {
    "name": "ipython",
    "version": 3
   },
   "file_extension": ".py",
   "mimetype": "text/x-python",
   "name": "python",
   "nbconvert_exporter": "python",
   "pygments_lexer": "ipython3",
   "version": "3.10.8"
  },
  "vscode": {
   "interpreter": {
    "hash": "4b961f8166aad6ccb4cf65d0f9c742ef9c6c23ffe83ad932438cd83ed96aebaf"
   }
  }
 },
 "nbformat": 4,
 "nbformat_minor": 2
}
