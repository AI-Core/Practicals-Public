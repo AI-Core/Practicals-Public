{
 "cells": [
  {
   "attachments": {},
   "cell_type": "markdown",
   "metadata": {},
   "source": [
    "# Different Variable Types"
   ]
  },
  {
   "cell_type": "code",
   "execution_count": null,
   "id": "4bce8c3a",
   "metadata": {},
   "outputs": [],
   "source": [
    "#@title ### Run the following cell to download the necessary files for this practical { display-mode: \"form\" } \n",
    "#@markdown Don't worry about what's in this collapsed cell\n",
    "\n",
    "print('Downloading the marking system')\n",
    "!wget https://s3-eu-west-1.amazonaws.com/aicore-portal-public-prod-307050600709/practical_files/008ee44f-5a60-4574-b00c-6f25230edc27/marking_system.py -q -O marking_system.py\n",
    "import marking_system\n",
    "import importlib\n",
    "importlib.reload(marking_system)\n",
    "import sys\n",
    "ipython = get_ipython()\n",
    "def hide_traceback(exc_tuple=None, filename=None, tb_offset=None, exception_only=False, running_compiled_code=False):\n",
    "    etype, value, tb = sys.exc_info()\n",
    "    value.__cause__ = None  # suppress chained exceptions\n",
    "    return ipython._showtraceback(etype, \"❌ \" + f\"\u001b[91m{value}\", ipython.InteractiveTB.get_exception_only(etype, \"❌ \" + f\"\u001b[91m{value}\"))\n",
    "ipython.showtraceback = hide_traceback\n"
   ]
  },
  {
   "attachments": {},
   "cell_type": "markdown",
   "metadata": {},
   "source": [
    "### 1. Define the the following variables:\n",
    "\n",
    "```python\n",
    "num = 23 \n",
    "text_num = \"57\"\n",
    "decimal_num = 98.3\n",
    "```"
   ]
  },
  {
   "cell_type": "code",
   "execution_count": null,
   "metadata": {},
   "outputs": [],
   "source": [
    "# TODO: Create a variable called 'num' and assign it the value 23\n",
    "# TODO: Create a variable called 'text_num' and assign it the value \"57\"\n",
    "# TODO: Create a variable called 'decimal_num' and assign it the value 98.3\n"
   ]
  },
  {
   "cell_type": "code",
   "execution_count": null,
   "metadata": {},
   "outputs": [],
   "source": [
    "#@title #### Run this cell to check your solution { display-mode: \"form\", run: \"auto\" }\n",
    "\n",
    "assert \"num\" in globals(), \"You haven't defined the variable 'num'.\"\n",
    "assert \"text_num\" in globals(), \"You haven't defined the variable 'text_num'.\"\n",
    "assert \"decimal_num\" in globals(), \"You haven't defined the variable 'decimal_num'.\"\n",
    "\n",
    "marking_system.check_step_1(num, text_num, decimal_num)\n"
   ]
  },
  {
   "attachments": {},
   "cell_type": "markdown",
   "metadata": {},
   "source": [
    "### 2. Print the types of each variable (hint: use the `type()` function)"
   ]
  },
  {
   "cell_type": "code",
   "execution_count": null,
   "metadata": {},
   "outputs": [],
   "source": [
    "# TODO: Print the type of the three variables you created above\n"
   ]
  },
  {
   "cell_type": "code",
   "execution_count": null,
   "metadata": {},
   "outputs": [],
   "source": [
    "#@title #### Enter your solution here { display-mode: \"form\", run: \"auto\" }\n",
    "\n",
    "#@markdown What is the type of the variable 'num'?\n",
    "num_type = \"Select your option\" #@param [\"int\", \"str\", \"float\"] {allow-input: true}\n",
    "#@markdown What is the type of the variable 'text_num'?\n",
    "text_num_type = \"Select your option\" #@param [\"int\", \"str\", \"float\"] {allow-input: true}\n",
    "#@markdown What is the type of the variable 'decimal_num'?\n",
    "decimal_num_type = \"Select your option\" #@param [\"int\", \"str\", \"float\"] {allow-input: true}\n",
    "marking_system.check_step_2(num_type, text_num_type, decimal_num_type)\n"
   ]
  }
 ],
 "metadata": {
  "kernelspec": {
   "display_name": "content-projects_new",
   "language": "python",
   "name": "python3"
  },
  "language_info": {
   "name": "python",
   "version": "3.10.8"
  },
  "vscode": {
   "interpreter": {
    "hash": "4b961f8166aad6ccb4cf65d0f9c742ef9c6c23ffe83ad932438cd83ed96aebaf"
   }
  }
 },
 "nbformat": 4,
 "nbformat_minor": 2
}
