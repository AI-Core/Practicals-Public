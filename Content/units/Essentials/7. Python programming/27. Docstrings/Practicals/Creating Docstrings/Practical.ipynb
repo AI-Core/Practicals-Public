{
 "cells": [
  {
   "cell_type": "markdown",
   "metadata": {},
   "source": [
    "# Add Docstrings to a Class"
   ]
  },
  {
   "cell_type": "markdown",
   "metadata": {},
   "source": [
    "Add docstrings to the below class and methods"
   ]
  },
  {
   "cell_type": "code",
   "execution_count": null,
   "metadata": {},
   "outputs": [],
   "source": [
    "class Temperature:\n",
    "    def __init__(self, temp_celsius):\n",
    "        self.temp_celsius = temp_celsius\n",
    "\n",
    "    def convert_temp_to_fahrenheit(self):\n",
    "        return (self.temp_celsius * 1.8) + 32\n",
    "\n",
    "    @staticmethod\n",
    "    def convert_fahrenheit_to_cel(temp_fah):\n",
    "        return (temp_fah - 32) * 1.8\n",
    "\n",
    "    @staticmethod\n",
    "    def check_valid_temp(temp):\n",
    "        if -273 <= temp <= 3000:\n",
    "            print(\"This is a valid temperature\")\n",
    "\n",
    "    @classmethod\n",
    "    def create_with_fahrenheit(cls, temperature):\n",
    "        return cls(Temperature.convert_fahrenheit_to_cel(temperature))\n",
    "\n",
    "    @classmethod\n",
    "    def standard(cls):\n",
    "        return cls(0)\n",
    "\n",
    "    def __repr__(self) -> str:\n",
    "        temp = str(self.temp_celsius)\n",
    "        return temp\n"
   ]
  }
 ],
 "metadata": {
  "language_info": {
   "name": "python"
  }
 },
 "nbformat": 4,
 "nbformat_minor": 2
}
