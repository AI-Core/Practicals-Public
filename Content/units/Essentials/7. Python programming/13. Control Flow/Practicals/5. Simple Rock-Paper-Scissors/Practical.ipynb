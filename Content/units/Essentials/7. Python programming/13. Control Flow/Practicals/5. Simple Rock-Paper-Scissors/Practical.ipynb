{
 "cells": [
  {
   "cell_type": "markdown",
   "id": "b7006b7b",
   "metadata": {},
   "source": [
    "# Simple Rock-Paper-Scissors"
   ]
  },
  {
   "cell_type": "code",
   "execution_count": null,
   "id": "07140d1e",
   "metadata": {},
   "outputs": [],
   "source": [
    "#@title ### Run the following cell to download the necessary files for this practical { display-mode: \"form\" } \n",
    "#@markdown Don't worry about what's in this collapsed cell\n",
    "\n",
    "!pip install -q timeout-decorator\n",
    "print('Downloading the marking system')\n",
    "!wget https://s3-eu-west-1.amazonaws.com/aicore-portal-public-prod-307050600709/practical_files/ca106cab-e46e-419f-85c5-72ea0ba9e2c5/marking_system.py -q -O marking_system.py\n",
    "import marking_system\n",
    "import importlib\n",
    "importlib.reload(marking_system)\n",
    "import sys\n",
    "ipython = get_ipython()\n",
    "def hide_traceback(exc_tuple=None, filename=None, tb_offset=None, exception_only=False, running_compiled_code=False):\n",
    "    etype, value, tb = sys.exc_info()\n",
    "    value.__cause__ = None  # suppress chained exceptions\n",
    "    return ipython._showtraceback(etype, \"❌ \" + f\"\u001b[91m{value}\", ipython.InteractiveTB.get_exception_only(etype, \"❌ \" + f\"\u001b[91m{value}\"))\n",
    "ipython.showtraceback = hide_traceback\n",
    "print('Downloading simple_rps.py...')\n",
    "!wget https://s3-eu-west-1.amazonaws.com/aicore-portal-public-prod-307050600709/practical_files/ca106cab-e46e-419f-85c5-72ea0ba9e2c5/simple_rps.py -q -O simple_rps.py\n"
   ]
  },
  {
   "cell_type": "markdown",
   "id": "81e438d9",
   "metadata": {},
   "source": [
    "\n",
    "<details>\n",
    "<summary>Some parts in this practical will require\n",
    "you to update a file. Click here to see how to do it.</summary>\n",
    "<ul>\n",
    "<li>Click on the folder logo on the left side of the screen</li>\n",
    "<p align=center><img src=\"images/update_1.png\"></p>\n",
    "<li>\n",
    "    Double click on the file you want to update. The image will appear on the right side of the screen.\n",
    "    You can edit the file by clicking on the text area, and then saving your changes.\n",
    "</li>\n",
    "<p align=center><img src=\"images/update_2.png\"></p>\n",
    "</ul>\n",
    "</details>\n",
    "    \n",
    "<details>\n",
    "<summary>Some parts in this practical will require\n",
    "you to run a code cell. Click here to see how to do it.</summary>\n",
    "<ul>\n",
    "<li>Check the name of the file you want to run</li>\n",
    "<p align=center><img src=\"images/run_1.png\"></p>\n",
    "<li>In a cell, type <code>!python \"name_of_the_file.py\"</code></li>\n",
    "<p align=center><img src=\"images/run_2.png\"></p>\n",
    "</ul>\n",
    "</details>\n",
    "    "
   ]
  },
  {
   "attachments": {},
   "cell_type": "markdown",
   "id": "17737207",
   "metadata": {},
   "source": [
    "The `simple_rps.py` file that you downloaded asks two inputs from the user: `player1` and `player2`. The inputs can be either 'rock', 'paper' or 'scissors'.\n",
    "\n",
    "#### 1. Code the logic of the game to see who wins. Print the result like: 'Player 1 wins' or 'Player 2 wins'\n",
    "\n",
    "The game logic is as follows:\n",
    "\n",
    "- `rock` beats `scissors`\n",
    "- `scissors` beats `paper`\n",
    "- `paper` beats `rock`\n",
    "\n",
    "<p style=\"font-size: 14px; color: #999999; margin-top: 0px; margin-bottom: 0px;\">The marking system will be case sensitive, so make sure you use the exact same words as above.</p>"
   ]
  },
  {
   "cell_type": "code",
   "execution_count": null,
   "id": "eb81965b",
   "metadata": {},
   "outputs": [],
   "source": [
    "# TODO - Change the 'simple_rps.py' file so it runs an RPS game that asks for two inputs and prints the winner. Test it by running the code\n",
    "!python simple_rps.py"
   ]
  },
  {
   "cell_type": "code",
   "execution_count": null,
   "id": "61e7dd3d",
   "metadata": {},
   "outputs": [],
   "source": [
    "#@title #### Run this cell to check if your code looks good { display-mode: \"form\"}\n",
    "\n",
    "marking_system.check_step_1()"
   ]
  },
  {
   "cell_type": "markdown",
   "id": "d5b2fa0d",
   "metadata": {},
   "source": [
    "#### 2. If one of the inputs is not 'rock', 'paper' or 'scissors', print 'Invalid input'"
   ]
  },
  {
   "cell_type": "code",
   "execution_count": null,
   "id": "1110ee8d",
   "metadata": {},
   "outputs": [],
   "source": [
    "# TODO - Change the 'simple_rps.py' file so it checks invalid inputs. Test it by running the code\n",
    "!python simple_rps.py"
   ]
  },
  {
   "cell_type": "code",
   "execution_count": null,
   "id": "c287b6d5",
   "metadata": {},
   "outputs": [],
   "source": [
    "#@title #### Run this cell to check if your code looks good { display-mode: \"form\"}\n",
    "\n",
    "marking_system.check_step_2()"
   ]
  },
  {
   "cell_type": "markdown",
   "id": "aa4e1c13",
   "metadata": {},
   "source": [
    "#### 3. If both inputs are the same, print \"It's a tie\""
   ]
  },
  {
   "cell_type": "code",
   "execution_count": null,
   "id": "2665ee84",
   "metadata": {},
   "outputs": [],
   "source": [
    "# TODO - Change the 'simple_rps.py' file so it checks for ties. Test it by running the code\n",
    "!python simple_rps.py"
   ]
  },
  {
   "cell_type": "code",
   "execution_count": null,
   "id": "3f126137",
   "metadata": {},
   "outputs": [],
   "source": [
    "#@title #### Run this cell to check if your code looks good { display-mode: \"form\"}\n",
    "\n",
    "marking_system.check_step_3()"
   ]
  },
  {
   "attachments": {},
   "cell_type": "markdown",
   "id": "50a2ca97",
   "metadata": {},
   "source": [
    "#### 4. Test your code with the following inputs:\n",
    "- Player 1: scissors, Player 2: paper (This should print 'Player 1 wins')\n",
    "- Player 1: scissors, Player 2: rock (This should print 'Player 2 wins')\n",
    "- Player 1: paper, Player 2: paper (This should print 'It's a tie')\n",
    "- Player 1: rock, Player 2: lizzard (This should print 'Invalid input')"
   ]
  },
  {
   "cell_type": "code",
   "execution_count": null,
   "id": "f9960b58",
   "metadata": {},
   "outputs": [],
   "source": []
  }
 ],
 "metadata": {
  "kernelspec": {
   "display_name": "content-projects_new",
   "language": "python",
   "name": "python3"
  },
  "language_info": {
   "codemirror_mode": {
    "name": "ipython",
    "version": 3
   },
   "file_extension": ".py",
   "mimetype": "text/x-python",
   "name": "python",
   "nbconvert_exporter": "python",
   "pygments_lexer": "ipython3",
   "version": "3.10.8 (main, Nov 24 2022, 14:13:03) [GCC 11.2.0]"
  },
  "vscode": {
   "interpreter": {
    "hash": "4b961f8166aad6ccb4cf65d0f9c742ef9c6c23ffe83ad932438cd83ed96aebaf"
   }
  }
 },
 "nbformat": 4,
 "nbformat_minor": 5
}
