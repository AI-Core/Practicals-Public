{
 "cells": [
  {
   "cell_type": "markdown",
   "id": "89107eb1",
   "metadata": {},
   "source": [
    "# Order of Conditions"
   ]
  },
  {
   "cell_type": "code",
   "execution_count": null,
   "id": "8c9f7c8f",
   "metadata": {},
   "outputs": [],
   "source": [
    "#@title ### Run the following cell to download the necessary files for this practical { display-mode: \"form\" } \n",
    "#@markdown Don't worry about what's in this collapsed cell\n",
    "\n",
    "print('Downloading the marking system')\n",
    "!wget https://s3-eu-west-1.amazonaws.com/aicore-portal-public-prod-307050600709/practical_files/e0ef4463-6a6a-4c0c-9448-0b9889fceaad/marking_system.py -q -O marking_system.py\n",
    "import marking_system\n",
    "import importlib\n",
    "importlib.reload(marking_system)\n",
    "import sys\n",
    "ipython = get_ipython()\n",
    "def hide_traceback(exc_tuple=None, filename=None, tb_offset=None, exception_only=False, running_compiled_code=False):\n",
    "    etype, value, tb = sys.exc_info()\n",
    "    value.__cause__ = None  # suppress chained exceptions\n",
    "    return ipython._showtraceback(etype, \"❌ \" + f\"\u001b[91m{value}\", ipython.InteractiveTB.get_exception_only(etype, \"❌ \" + f\"\u001b[91m{value}\"))\n",
    "ipython.showtraceback = hide_traceback\n",
    "print('Downloading order_conditions.py...')\n",
    "!wget https://s3-eu-west-1.amazonaws.com/aicore-portal-public-prod-307050600709/practical_files/e0ef4463-6a6a-4c0c-9448-0b9889fceaad/order_conditions.py -q -O order_conditions.py\n"
   ]
  },
  {
   "cell_type": "markdown",
   "id": "8c2e38b3",
   "metadata": {},
   "source": [
    "\n",
    "<details>\n",
    "<summary>Some parts in this practical will require\n",
    "you to run a code cell. Click here to see how to do it.</summary>\n",
    "<ul>\n",
    "<li>Check the name of the file you want to run</li>\n",
    "<p align=center><img src=\"images/run_1.png\"></p>\n",
    "<li>In a cell, type <code>!python \"name_of_the_file.py\"</code></li>\n",
    "<p align=center><img src=\"images/run_2.png\"></p>\n",
    "</ul>\n",
    "</details>\n",
    "    \n",
    "<details>\n",
    "<summary>Some parts in this practical will require\n",
    "you to update a file. Click here to see how to do it.</summary>\n",
    "<ul>\n",
    "<li>Click on the folder logo on the left side of the screen</li>\n",
    "<p align=center><img src=\"images/update_1.png\"></p>\n",
    "<li>\n",
    "    Double click on the file you want to update. The image will appear on the right side of the screen.\n",
    "    You can edit the file by clicking on the text area, and then saving your changes.\n",
    "</li>\n",
    "<p align=center><img src=\"images/update_2.png\"></p>\n",
    "</ul>\n",
    "</details>\n",
    "    "
   ]
  },
  {
   "attachments": {},
   "cell_type": "markdown",
   "id": "aed02924",
   "metadata": {},
   "source": [
    "#### 1. Run the order_conditions.py file and entering different values for the input."
   ]
  },
  {
   "cell_type": "code",
   "execution_count": null,
   "id": "a6beec03",
   "metadata": {},
   "outputs": [],
   "source": [
    "# TODO - Run the file and enter 5, 20 and 50. What do you notice?\n",
    "!python order_conditions.py "
   ]
  },
  {
   "attachments": {},
   "cell_type": "markdown",
   "id": "d9377a39",
   "metadata": {},
   "source": [
    "### 2. Change the order of the conditions so that the correct output is printed for each input.\n",
    "\n",
    "Remember that you can change the `order_conditions.py` file by clicking on the file name on the left hand side of the screen. You can then edit the file and save it."
   ]
  },
  {
   "cell_type": "code",
   "execution_count": null,
   "id": "732f6638",
   "metadata": {},
   "outputs": [],
   "source": [
    "# TODO - Change the orders of the conditions in the python file and run it again. Don't forget to save the file before running it."
   ]
  },
  {
   "cell_type": "code",
   "execution_count": null,
   "id": "72f3a5ee",
   "metadata": {},
   "outputs": [],
   "source": [
    "#@title #### Run this cell to check if your code looks good { display-mode: \"form\"}\n",
    "\n",
    "marking_system.check_step_1()"
   ]
  }
 ],
 "metadata": {
  "kernelspec": {
   "display_name": "content-projects_new",
   "language": "python",
   "name": "python3"
  },
  "language_info": {
   "codemirror_mode": {
    "name": "ipython",
    "version": 3
   },
   "file_extension": ".py",
   "mimetype": "text/x-python",
   "name": "python",
   "nbconvert_exporter": "python",
   "pygments_lexer": "ipython3",
   "version": "3.9.15"
  },
  "vscode": {
   "interpreter": {
    "hash": "4b961f8166aad6ccb4cf65d0f9c742ef9c6c23ffe83ad932438cd83ed96aebaf"
   }
  }
 },
 "nbformat": 4,
 "nbformat_minor": 5
}
