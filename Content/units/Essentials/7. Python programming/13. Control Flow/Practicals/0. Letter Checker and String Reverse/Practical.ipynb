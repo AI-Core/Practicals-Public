{
 "cells": [
  {
   "cell_type": "markdown",
   "id": "2a815162",
   "metadata": {},
   "source": [
    "# Letter Checker and String Reverse"
   ]
  },
  {
   "attachments": {},
   "cell_type": "markdown",
   "id": "521e89fc",
   "metadata": {},
   "source": [
    "### 1. Given the following strings, check if the first letter of each string is the same. If it is, print `True`, otherwise print `False`.\n",
    "``` python\n",
    "phrase_1 = 'Clean Couch'\n",
    "phrase_2 = 'Giant Table'\n",
    "```\n",
    "\n",
    "Try it again with the following strings:\n",
    "``` python\n",
    "phrase_3 = 'Clean Couch'\n",
    "phrase_4 = 'Cozy Sofa'\n",
    "```"
   ]
  },
  {
   "cell_type": "code",
   "execution_count": null,
   "id": "77e36b1e",
   "metadata": {},
   "outputs": [],
   "source": [
    "# TODO - Create a variable called 'phrase_1' and assign it the value \"Clean Couch\"\n",
    "# TODO - Create a variable called 'phrase_2' and assign it the value \"Giant Table\"\n"
   ]
  },
  {
   "attachments": {},
   "cell_type": "markdown",
   "id": "dda64a98",
   "metadata": {},
   "source": [
    "#### 2. Write a program that returns the following strings with the words reversed (Not the characters).\n",
    "\n",
    "- `my_string1 = 'This is a short phrase'`\n",
    "- `my_string2 = 'This is actually a significantly longer phrase than the previous one'`\n",
    "\n",
    "Tip: You can use the `split()` method to split a string into a list of words."
   ]
  },
  {
   "cell_type": "code",
   "execution_count": null,
   "id": "ae741cdb",
   "metadata": {},
   "outputs": [],
   "source": []
  }
 ],
 "metadata": {
  "kernelspec": {
   "display_name": "content-projects_new",
   "language": "python",
   "name": "python3"
  },
  "language_info": {
   "name": "python",
   "version": "3.10.8 (main, Nov 24 2022, 14:13:03) [GCC 11.2.0]"
  },
  "vscode": {
   "interpreter": {
    "hash": "4b961f8166aad6ccb4cf65d0f9c742ef9c6c23ffe83ad932438cd83ed96aebaf"
   }
  }
 },
 "nbformat": 4,
 "nbformat_minor": 5
}
