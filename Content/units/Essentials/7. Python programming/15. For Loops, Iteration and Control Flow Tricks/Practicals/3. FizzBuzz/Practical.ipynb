{
 "cells": [
  {
   "cell_type": "markdown",
   "id": "2a883c3a",
   "metadata": {},
   "source": [
    "# FizzBuzz"
   ]
  },
  {
   "cell_type": "code",
   "execution_count": null,
   "id": "570a5f63",
   "metadata": {},
   "outputs": [],
   "source": [
    "#@title ### Run the following cell to download the necessary files for this practical { display-mode: \"form\" } \n",
    "#@markdown Don't worry about what's in this collapsed cell\n",
    "\n",
    "!pip install -q timeout-decorator\n",
    "print('Downloading the marking system')\n",
    "!wget https://s3-eu-west-1.amazonaws.com/aicore-portal-public-prod-307050600709/practical_files/84dbbf46-a646-4a18-9c89-57867171ea5c/marking_system.py -q -O marking_system.py\n",
    "import marking_system\n",
    "import importlib\n",
    "importlib.reload(marking_system)\n",
    "import sys\n",
    "ipython = get_ipython()\n",
    "def hide_traceback(exc_tuple=None, filename=None, tb_offset=None, exception_only=False, running_compiled_code=False):\n",
    "    etype, value, tb = sys.exc_info()\n",
    "    value.__cause__ = None  # suppress chained exceptions\n",
    "    return ipython._showtraceback(etype, \"❌ \" + f\"\u001b[91m{value}\", ipython.InteractiveTB.get_exception_only(etype, \"❌ \" + f\"\u001b[91m{value}\"))\n",
    "ipython.showtraceback = hide_traceback\n"
   ]
  },
  {
   "attachments": {},
   "cell_type": "markdown",
   "id": "581a0998",
   "metadata": {},
   "source": [
    "#### Print all the numbers from 1 to 100 but you need to add the following rules:\n",
    "\n",
    "* If the number is divisible by 3, print `\"Fizz\"` instead of the number\n",
    "* If the number is divisible by 5, print `\"Buzz\"` instead of the number\n",
    "* If the number is divisible by 3 AND 5, print `\"FizzBuzz\"` instead of the number\n",
    "* If the number is divisible by neither 3 nor 5, print the number\n",
    "\n",
    "Be careful with the order of the conditions. Remember that the condition that is first met will be the one that will run, and the rest will be ignored."
   ]
  },
  {
   "cell_type": "code",
   "execution_count": null,
   "id": "37521151",
   "metadata": {},
   "outputs": [],
   "source": [
    "# Add your code below this line\n",
    "# TODO - Loop through the numbers from 1 to 100\n",
    "# TODO - Check if the number is divisible by 3, 5 or both. The order of the conditions is important!\n"
   ]
  },
  {
   "attachments": {},
   "cell_type": "markdown",
   "id": "da4030a7",
   "metadata": {},
   "source": [
    "The output should look like this:\n",
    "\n",
    "``` python\n",
    "1\n",
    "2\n",
    "Fizz\n",
    "4\n",
    "Buzz\n",
    "Fizz\n",
    "7\n",
    "8\n",
    "Fizz\n",
    "Buzz\n",
    "11\n",
    "Fizz\n",
    "13\n",
    "14\n",
    "FizzBuzz\n",
    "16\n",
    "17\n",
    "...\n",
    "```"
   ]
  },
  {
   "cell_type": "code",
   "execution_count": null,
   "id": "2f593690",
   "metadata": {},
   "outputs": [],
   "source": [
    "#@title #### Run this cell to check if your code looks good { display-mode: \"form\"}\n",
    "assert \"# Add your code below this line\" in _ih[-2], \"Before checking your code, make sure the last cell you ran contains your code. If you did, make sure you haven't deleted the comment that says '# Add your code below this line'.\"\n",
    "assert \"#@title\" not in _ih[-2], \"If you want to check your code, rerun the cell that contains your code. If you did, make sure you haven't deleted the comment that says '# Add your code below this line'.\"\n",
    "\n",
    "marking_system.check_step_1(_ih[-2])\n"
   ]
  }
 ],
 "metadata": {
  "kernelspec": {
   "display_name": "content-projects_new",
   "language": "python",
   "name": "python3"
  },
  "language_info": {
   "codemirror_mode": {
    "name": "ipython",
    "version": 3
   },
   "file_extension": ".py",
   "mimetype": "text/x-python",
   "name": "python",
   "nbconvert_exporter": "python",
   "pygments_lexer": "ipython3",
   "version": "3.10.8"
  },
  "vscode": {
   "interpreter": {
    "hash": "4b961f8166aad6ccb4cf65d0f9c742ef9c6c23ffe83ad932438cd83ed96aebaf"
   }
  }
 },
 "nbformat": 4,
 "nbformat_minor": 5
}
