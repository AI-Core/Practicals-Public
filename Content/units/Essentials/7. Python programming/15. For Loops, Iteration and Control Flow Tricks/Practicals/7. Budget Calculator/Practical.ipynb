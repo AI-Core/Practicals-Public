{
 "cells": [
  {
   "cell_type": "markdown",
   "id": "fe9a96ee",
   "metadata": {},
   "source": [
    "# Budget Calculator"
   ]
  },
  {
   "cell_type": "code",
   "execution_count": null,
   "id": "5a51c950",
   "metadata": {},
   "outputs": [],
   "source": [
    "#@title ### Run the following cell to download the necessary files for this practical { display-mode: \"form\" } \n",
    "#@markdown Don't worry about what's in this collapsed cell\n",
    "\n",
    "!pip install -q timeout-decorator\n",
    "print('Downloading the marking system')\n",
    "!wget https://s3-eu-west-1.amazonaws.com/aicore-portal-public-prod-307050600709/practical_files/2466a517-41ac-42b3-9b14-d9cd29585a69/marking_system.py -q -O marking_system.py\n",
    "import marking_system\n",
    "import importlib\n",
    "importlib.reload(marking_system)\n",
    "import sys\n",
    "ipython = get_ipython()\n",
    "def hide_traceback(exc_tuple=None, filename=None, tb_offset=None, exception_only=False, running_compiled_code=False):\n",
    "    etype, value, tb = sys.exc_info()\n",
    "    value.__cause__ = None  # suppress chained exceptions\n",
    "    return ipython._showtraceback(etype, \"❌ \" + f\"\u001b[91m{value}\", ipython.InteractiveTB.get_exception_only(etype, \"❌ \" + f\"\u001b[91m{value}\"))\n",
    "ipython.showtraceback = hide_traceback\n"
   ]
  },
  {
   "attachments": {},
   "cell_type": "markdown",
   "id": "3508dfda",
   "metadata": {},
   "source": [
    "Using the following variables\n",
    "\n",
    "- `order_list`: A list with tuples, where each tuple contains the code, the individual price and the quantity of each item in the order\n",
    "- `names`: A dictionary with the names of the items, where the key is the code of the item\n",
    "- `budget`: The budget of the customer\n",
    "- `running_total`: The total cost of the order so far\n",
    "- `receipt`: A list with the items in the order"
   ]
  },
  {
   "cell_type": "code",
   "execution_count": null,
   "id": "855096ba",
   "metadata": {},
   "outputs": [],
   "source": [
    "order_list = [(\"tom\", 0.87, 4),\n",
    "              (\"sug\", 1.09, 3),\n",
    "              (\"ws\", 0.29, 4),\n",
    "              (\"juc\", 1.89, 1),\n",
    "              (\"fo\", 1.29, 2)]\n",
    "\n",
    "# This dictionary gives the full name of each product code.\n",
    "names = {\"tom\": \"Tomatoes\",\n",
    "         \"sug\": \"Sugar\",\n",
    "         \"ws\": \"Washing Sponges\",\n",
    "         \"juc\": \"Juice\",\n",
    "         \"fo\": \"Foil\"}\n",
    "\n",
    "budget = 10.00\n",
    "running_total = 0\n",
    "receipt = []\n"
   ]
  },
  {
   "attachments": {},
   "cell_type": "markdown",
   "id": "c98fd2c5",
   "metadata": {},
   "source": [
    "#### 1. Using a `for` loop, iterate through the `order_list` and:\n",
    "\n",
    "- \"Translate\" the code of the item to the name of the item using the `names` dictionary\n",
    "- Add the name of the item to the `receipt` list\n",
    "- Add the total cost of the item to the `running_total` variable\n",
    "- Subtract the total cost of the item from the `budget` variable\n",
    "\n",
    "At each iteration, check if the running total plus the cost of the next item is greater than the budget. \n",
    "\n",
    "If it is, print the message `\"You can't afford this item: {item name}\"` and break the loop."
   ]
  },
  {
   "cell_type": "code",
   "execution_count": null,
   "id": "577cf816",
   "metadata": {},
   "outputs": [],
   "source": [
    "import marking_system\n",
    "# Add your code below this line\n",
    "# TODO - Loop through the order list\n",
    "    # TODO - Get the full name of the item\n",
    "    # TODO - Get the price of the item\n",
    "    # TODO - Check if you still have enough money\n",
    "        # TODO - If you can afford it, add the item to the receipt\n",
    "        # TODO - If you can afford it, add the price of the item to the running total\n",
    "    # TODO - If you can't afford it, print a message\n",
    "        # TODO - If you can't afford it, print a message\n",
    "        # TODO - If you can't afford it, break out of the loop\n"
   ]
  },
  {
   "cell_type": "code",
   "execution_count": null,
   "id": "2eddab74",
   "metadata": {},
   "outputs": [],
   "source": [
    "#@title #### Run this cell to check if your code looks good { display-mode: \"form\"}\n",
    "assert \"# Add your code below this line\" in _ih[-2], \"Before checking your code, make sure the last cell you ran contains your code. If you did, make sure you haven't deleted the comment that says '# Add your code below this line'.\"\n",
    "assert \"#@title\" not in _ih[-2], \"If you want to check your code, rerun the cell that contains your code. If you did, make sure you haven't deleted the comment that says '# Add your code below this line'.\"\n",
    "\n",
    "marking_system.check_step_1(_ih[-2])\n"
   ]
  },
  {
   "cell_type": "code",
   "execution_count": null,
   "id": "3db224a4",
   "metadata": {},
   "outputs": [],
   "source": [
    "#@title #### Run this cell to get a hint { display-mode: \"form\"}\n",
    "marking_system.hint_1()\n"
   ]
  },
  {
   "cell_type": "code",
   "execution_count": null,
   "id": "d9bbd406",
   "metadata": {},
   "outputs": [],
   "source": [
    "#@title #### Run this cell to get another hint { display-mode: \"form\"}\n",
    "marking_system.hint_2()\n"
   ]
  },
  {
   "cell_type": "code",
   "execution_count": null,
   "id": "384ca8fd",
   "metadata": {},
   "outputs": [],
   "source": [
    "#@title #### Run this cell to get one last hint { display-mode: \"form\"}\n",
    "marking_system.hint_3()\n"
   ]
  }
 ],
 "metadata": {
  "kernelspec": {
   "display_name": "content-projects_new",
   "language": "python",
   "name": "python3"
  },
  "language_info": {
   "codemirror_mode": {
    "name": "ipython",
    "version": 3
   },
   "file_extension": ".py",
   "mimetype": "text/x-python",
   "name": "python",
   "nbconvert_exporter": "python",
   "pygments_lexer": "ipython3",
   "version": "3.10.8"
  },
  "vscode": {
   "interpreter": {
    "hash": "4b961f8166aad6ccb4cf65d0f9c742ef9c6c23ffe83ad932438cd83ed96aebaf"
   }
  }
 },
 "nbformat": 4,
 "nbformat_minor": 5
}
