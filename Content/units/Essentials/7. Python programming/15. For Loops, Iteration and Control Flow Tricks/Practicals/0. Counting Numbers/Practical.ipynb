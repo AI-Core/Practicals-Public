{
 "cells": [
  {
   "cell_type": "markdown",
   "id": "e830bc05",
   "metadata": {},
   "source": [
    "# Counting Numbers"
   ]
  },
  {
   "cell_type": "code",
   "execution_count": null,
   "id": "4b026b61",
   "metadata": {},
   "outputs": [],
   "source": [
    "#@title ### Run the following cell to download the necessary files for this practical { display-mode: \"form\" } \n",
    "#@markdown Don't worry about what's in this collapsed cell\n",
    "\n",
    "!pip install -q timeout-decorator\n",
    "print('Downloading the marking system')\n",
    "!wget https://s3-eu-west-1.amazonaws.com/aicore-portal-public-prod-307050600709/practical_files/70bbb8fb-a9f1-4444-aa9e-ea35c0f69da1/marking_system.py -q -O marking_system.py\n",
    "import marking_system\n",
    "import importlib\n",
    "importlib.reload(marking_system)\n",
    "import sys\n",
    "ipython = get_ipython()\n",
    "def hide_traceback(exc_tuple=None, filename=None, tb_offset=None, exception_only=False, running_compiled_code=False):\n",
    "    etype, value, tb = sys.exc_info()\n",
    "    value.__cause__ = None  # suppress chained exceptions\n",
    "    return ipython._showtraceback(etype, \"❌ \" + f\"\u001b[91m{value}\", ipython.InteractiveTB.get_exception_only(etype, \"❌ \" + f\"\u001b[91m{value}\"))\n",
    "ipython.showtraceback = hide_traceback\n"
   ]
  },
  {
   "attachments": {},
   "cell_type": "markdown",
   "id": "99496996",
   "metadata": {},
   "source": [
    "Write a program that prints the numbers from 1 to 50.\n",
    "\n",
    "#### 1. Using a `while` loop.\n",
    "\n",
    "Create a variable called `n` and assign it the value `1`.\n",
    "\n",
    "Then, create a `while` loop that prints the value of `n` and then increments `n` by `1` until `n` is greater than `50`.\n",
    "\n",
    "__Be careful not to create an infinite loop!__"
   ]
  },
  {
   "cell_type": "code",
   "execution_count": null,
   "id": "d738a313",
   "metadata": {},
   "outputs": [],
   "source": [
    "# Add your code below this line\n",
    "# TODO - Create a variable called n and set it to 1\n",
    "# TODO - Create a while loop that runs while n is less than or equal to 50\n",
    "    # TODO - Inside the while loop, print the value of n\n",
    "    # TODO - Inside the while loop, increment n by 1\n"
   ]
  },
  {
   "cell_type": "code",
   "execution_count": null,
   "id": "0b30fc64",
   "metadata": {},
   "outputs": [],
   "source": [
    "#@title #### Run this cell to check if your code looks good { display-mode: \"form\"}\n",
    "assert \"# Add your code below this line\" in _ih[-2], \"Before checking your code, make sure the last cell you ran contains your code. If you did, make sure you haven't deleted the comment that says '# Add your code below this line'.\"\n",
    "assert \"#@title\" not in _ih[-2], \"If you want to check your code, rerun the cell that contains your code. If you did, make sure you haven't deleted the comment that says '# Add your code below this line'.\"\n",
    "\n",
    "marking_system.check_step_1(_ih[-2])\n"
   ]
  },
  {
   "attachments": {},
   "cell_type": "markdown",
   "id": "88e707ba",
   "metadata": {},
   "source": [
    "#### 2. Using a `for` loop to do so\n",
    "\n",
    "There are different ways to do this. \n",
    "\n",
    "For this practical, use the `range()` function to create a list of numbers from `1` to `50` and then use a `for` loop to print each number.\n",
    "\n",
    "Remember that `range()` does not include the last number in the list"
   ]
  },
  {
   "cell_type": "code",
   "execution_count": null,
   "id": "20767448",
   "metadata": {},
   "outputs": [],
   "source": [
    "# Add your code below this line\n",
    "# TODO - Create a for loop that runs from 1 to 50. Use the range() function.\n",
    "    # TODO - Inside the for loop, print the value of n\n"
   ]
  },
  {
   "cell_type": "code",
   "execution_count": null,
   "id": "14b39655",
   "metadata": {},
   "outputs": [],
   "source": [
    "#@title #### Run this cell to check if your code looks good { display-mode: \"form\"}\n",
    "assert \"# Add your code below this line\" in _ih[-2], \"Before checking your code, make sure the last cell you ran contains your code. If you did, make sure you haven't deleted the comment that says '# Add your code below this line'.\"\n",
    "assert \"#@title\" not in _ih[-2], \"If you want to check your code, rerun the cell that contains your code. If you did, make sure you haven't deleted the comment that says '# Add your code below this line'.\"\n",
    "\n",
    "marking_system.check_step_2(_ih[-2])\n"
   ]
  }
 ],
 "metadata": {
  "kernelspec": {
   "display_name": "content-projects",
   "language": "python",
   "name": "python3"
  },
  "language_info": {
   "codemirror_mode": {
    "name": "ipython",
    "version": 3
   },
   "file_extension": ".py",
   "mimetype": "text/x-python",
   "name": "python",
   "nbconvert_exporter": "python",
   "pygments_lexer": "ipython3",
   "version": "3.10.8"
  }
 },
 "nbformat": 4,
 "nbformat_minor": 5
}
