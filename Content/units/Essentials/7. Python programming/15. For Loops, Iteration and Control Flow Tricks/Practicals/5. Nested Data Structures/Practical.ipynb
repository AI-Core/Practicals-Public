{
 "cells": [
  {
   "attachments": {},
   "cell_type": "markdown",
   "metadata": {},
   "source": [
    "# Looping Through Nested Data Structures"
   ]
  },
  {
   "cell_type": "code",
   "execution_count": null,
   "id": "6e68a170",
   "metadata": {},
   "outputs": [],
   "source": [
    "#@title ### Run the following cell to download the necessary files for this practical { display-mode: \"form\" } \n",
    "#@markdown Don't worry about what's in this collapsed cell\n",
    "\n",
    "print('Downloading the marking system')\n",
    "!wget https://s3-eu-west-1.amazonaws.com/aicore-portal-public-prod-307050600709/practical_files/ef2d703b-761a-4287-99b3-70fbac5e06a3/marking_system.py -q -O marking_system.py\n",
    "import marking_system\n",
    "import importlib\n",
    "importlib.reload(marking_system)\n",
    "import sys\n",
    "ipython = get_ipython()\n",
    "def hide_traceback(exc_tuple=None, filename=None, tb_offset=None, exception_only=False, running_compiled_code=False):\n",
    "    etype, value, tb = sys.exc_info()\n",
    "    value.__cause__ = None  # suppress chained exceptions\n",
    "    return ipython._showtraceback(etype, \"❌ \" + f\"\u001b[91m{value}\", ipython.InteractiveTB.get_exception_only(etype, \"❌ \" + f\"\u001b[91m{value}\"))\n",
    "ipython.showtraceback = hide_traceback\n"
   ]
  },
  {
   "attachments": {},
   "cell_type": "markdown",
   "metadata": {},
   "source": [
    "#### 1. Create a list of three dictionaries named `my_list`, where each dictionary contains the keys `\"name\"`, `\"age\"` and `\"favourite_colour\"`. \n"
   ]
  },
  {
   "cell_type": "code",
   "execution_count": null,
   "metadata": {},
   "outputs": [],
   "source": [
    "import marking_system\n",
    "\n",
    "# TODO: Create a dictionary with the following keys: name, age, favourite_colour\n",
    "# TODO: Create a dictionary with the following keys: name, age, favourite_colour\n",
    "# TODO: Create a dictionary with the following keys: name, age, favourite_colour\n",
    "\n",
    "# TODO: Create a list of the three dictionaries\n"
   ]
  },
  {
   "cell_type": "code",
   "execution_count": null,
   "metadata": {},
   "outputs": [],
   "source": [
    "#@title #### Run this cell to check if your code looks good { display-mode: \"form\"}\n",
    "\n",
    "assert \"my_dict_1\" in globals(), \"You should create a dictionary called my_dict_1\"\n",
    "assert \"my_dict_2\" in globals(), \"You should create a dictionary called my_dict_2\"\n",
    "assert \"my_dict_3\" in globals(), \"You should create a dictionary called my_dict_3\"\n",
    "assert \"my_list\" in globals(), \"You should create a list called my_list\"\n",
    "marking_system.check_step_1(my_dict_1, my_dict_2, my_dict_3, my_list)\n"
   ]
  },
  {
   "attachments": {},
   "cell_type": "markdown",
   "metadata": {},
   "source": [
    "### 2. Using nested for loops, create a new dictionary where the value of each `\"name\"` key is a key. Name the new dictionary `names_dict`\n",
    "\n",
    "The values in the new dictionary should be a dictionary of the other two key-value pairs from each original dictionary.\n",
    "\n",
    "As an example, the new dictionary should have key-value pairs like this: \n",
    "\n",
    "``` python\n",
    "{\n",
    "    \"Sarah\" : {\n",
    "        \"age\": 25,\n",
    "        \"favourite_colour\", \"blue\"\n",
    "    },\n",
    "    \"John\" : {\n",
    "        \"age\": 30,\n",
    "        \"favourite_colour\", \"green\"\n",
    "    }\n",
    "}\n"
   ]
  },
  {
   "cell_type": "code",
   "execution_count": null,
   "metadata": {},
   "outputs": [],
   "source": [
    "# TODO: Create an empty dictionary called names_dict\n",
    "# TODO: Loop through the list of dictionaries\n",
    "    # TODO: Get the name of the person and store it in a variable called name\n",
    "    # TODO: Get the age of the person and store it in a variable called age\n",
    "    # TODO: Get the favourite colour of the person and store it in a variable called favourite_colour\n",
    "    # TODO: Create a new key in the names_dict dictionary with the name of the person as the key and a dictionary with the age and favourite colour as the value\n"
   ]
  },
  {
   "cell_type": "code",
   "execution_count": null,
   "metadata": {},
   "outputs": [],
   "source": [
    "#@title #### Run this cell to check if your code looks good { display-mode: \"form\"}\n",
    "\n",
    "assert \"my_dict_1\" in globals(), \"You should create a dictionary called my_dict_1\"\n",
    "assert \"my_dict_2\" in globals(), \"You should create a dictionary called my_dict_2\"\n",
    "assert \"my_dict_3\" in globals(), \"You should create a dictionary called my_dict_3\"\n",
    "assert \"my_list\" in globals(), \"You should create a list called my_list\"\n",
    "assert \"names_dict\" in globals(), \"You should create a dictionary called names_dict\"\n",
    "marking_system.check_step_2(my_dict_1, my_dict_2, my_dict_3, my_list, names_dict)\n"
   ]
  },
  {
   "cell_type": "code",
   "execution_count": null,
   "metadata": {},
   "outputs": [],
   "source": [
    "#@title #### Run this cell to get a hint { display-mode: \"form\" }\n",
    "\n",
    "assert \"my_dict_1\" in globals(), \"You should create a dictionary called my_dict_1\"\n",
    "assert \"my_dict_2\" in globals(), \"You should create a dictionary called my_dict_2\"\n",
    "assert \"my_dict_3\" in globals(), \"You should create a dictionary called my_dict_3\"\n",
    "assert \"my_list\" in globals(), \"You should create a list called my_list\"\n",
    "marking_system.hint_1(my_dict_1, my_dict_2, my_dict_3, my_list)\n"
   ]
  }
 ],
 "metadata": {
  "kernelspec": {
   "display_name": "content-projects_new",
   "language": "python",
   "name": "python3"
  },
  "language_info": {
   "name": "python",
   "version": "3.10.8"
  },
  "vscode": {
   "interpreter": {
    "hash": "4b961f8166aad6ccb4cf65d0f9c742ef9c6c23ffe83ad932438cd83ed96aebaf"
   }
  }
 },
 "nbformat": 4,
 "nbformat_minor": 2
}
