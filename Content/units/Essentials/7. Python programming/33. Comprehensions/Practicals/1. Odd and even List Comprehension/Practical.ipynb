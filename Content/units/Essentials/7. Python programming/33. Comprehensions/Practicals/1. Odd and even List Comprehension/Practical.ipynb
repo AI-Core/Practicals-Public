{
 "cells": [
  {
   "cell_type": "markdown",
   "id": "27035db0",
   "metadata": {},
   "source": [
    "# Odd and even List Comprehension"
   ]
  },
  {
   "attachments": {},
   "cell_type": "markdown",
   "id": "8bc77b02",
   "metadata": {},
   "source": [
    "#### 1. Create a list comprehension that squares even arguments, and squares odd arguments after adding one to them. Test it on `my_list`."
   ]
  },
  {
   "cell_type": "code",
   "execution_count": 1,
   "id": "7090583e",
   "metadata": {},
   "outputs": [
    {
     "name": "stdout",
     "output_type": "stream",
     "text": [
      "[4, 36, 64, 36, 484]\n"
     ]
    }
   ],
   "source": [
    "# TODO - Create a list comprehension that squares even arguments, and squares odd arguments after adding one to them. Test it on `my_list`.\n"
   ]
  },
  {
   "attachments": {},
   "cell_type": "markdown",
   "id": "95aac6b4",
   "metadata": {},
   "source": [
    "The output should be:\n",
    "\n",
    "`[4, 36, 64, 36, 484]`"
   ]
  }
 ],
 "metadata": {
  "kernelspec": {
   "display_name": "huggingface1",
   "language": "python",
   "name": "python3"
  },
  "language_info": {
   "codemirror_mode": {
    "name": "ipython",
    "version": 3
   },
   "file_extension": ".py",
   "mimetype": "text/x-python",
   "name": "python",
   "nbconvert_exporter": "python",
   "pygments_lexer": "ipython3",
   "version": "3.10.8"
  }
 },
 "nbformat": 4,
 "nbformat_minor": 5
}
