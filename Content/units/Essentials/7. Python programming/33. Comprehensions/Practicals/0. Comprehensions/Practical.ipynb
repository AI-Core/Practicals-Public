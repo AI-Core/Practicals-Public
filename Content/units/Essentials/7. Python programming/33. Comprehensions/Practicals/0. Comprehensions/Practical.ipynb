{
 "cells": [
  {
   "cell_type": "markdown",
   "id": "3bed4097",
   "metadata": {},
   "source": [
    "# Comprehensions"
   ]
  },
  {
   "attachments": {},
   "cell_type": "markdown",
   "id": "d50673b8",
   "metadata": {},
   "source": [
    "#### 1. Use a list comprehension to capitalise the first letter of every element in the list `['hello', 'world']`"
   ]
  },
  {
   "cell_type": "code",
   "execution_count": null,
   "id": "a2c25f40",
   "metadata": {},
   "outputs": [],
   "source": [
    "# TODO - Create a variable called word_list, and assign the values `['hello', 'world']`\n",
    "# TODO - Use list comprension to capitalise the first letter of every element in `word_list`. Assign to a variable called `capital_list`.\n",
    "print(capital_list)\n"
   ]
  },
  {
   "cell_type": "markdown",
   "id": "a02860a4",
   "metadata": {},
   "source": [
    "#### 2. Use a list comprehension to filter out every multiple of 5 from a range of numbers up to 100"
   ]
  },
  {
   "cell_type": "code",
   "execution_count": null,
   "id": "8319b8bf",
   "metadata": {},
   "outputs": [],
   "source": [
    "# TODO - Use a list comprehension to filter out every multiple of 5 from a range of numbers up to 100\n"
   ]
  },
  {
   "attachments": {},
   "cell_type": "markdown",
   "id": "8ec542df",
   "metadata": {},
   "source": [
    "#### 3. Use a dictionary comprehension to create a map between every integer up to 15 and it's value squared, and assign to a variable called `squared_dict`.\n",
    "\n"
   ]
  },
  {
   "cell_type": "code",
   "execution_count": null,
   "id": "85cba5c1",
   "metadata": {},
   "outputs": [],
   "source": [
    "# TODO - Use a dictionary comprehension to create a map between every integer up to 15 and it's value squared\n"
   ]
  },
  {
   "attachments": {},
   "cell_type": "markdown",
   "id": "e175232f",
   "metadata": {},
   "source": [
    "#### 4. Now, use a dictionary comprehension to create a dictionary that does the inverse! (hint: iterate over `squared_dict.items()` )."
   ]
  },
  {
   "cell_type": "code",
   "execution_count": null,
   "id": "c831b7b1",
   "metadata": {},
   "outputs": [],
   "source": [
    "# TODO -  use a dictionary comprehension to create a dictionary that does the inverse!\n"
   ]
  }
 ],
 "metadata": {
  "kernelspec": {
   "display_name": "content-projects_new",
   "language": "python",
   "name": "python3"
  },
  "language_info": {
   "codemirror_mode": {
    "name": "ipython",
    "version": 3
   },
   "file_extension": ".py",
   "mimetype": "text/x-python",
   "name": "python",
   "nbconvert_exporter": "python",
   "pygments_lexer": "ipython3",
   "version": "3.10.8"
  },
  "vscode": {
   "interpreter": {
    "hash": "4b961f8166aad6ccb4cf65d0f9c742ef9c6c23ffe83ad932438cd83ed96aebaf"
   }
  }
 },
 "nbformat": 4,
 "nbformat_minor": 5
}
