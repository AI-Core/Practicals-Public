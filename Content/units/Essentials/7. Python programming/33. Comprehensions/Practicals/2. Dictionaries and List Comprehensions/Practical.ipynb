{
 "cells": [
  {
   "cell_type": "markdown",
   "id": "bdef2a2d",
   "metadata": {},
   "source": [
    "# Dictionaries and List Comprehensions"
   ]
  },
  {
   "cell_type": "markdown",
   "id": "5a9e69e9",
   "metadata": {},
   "source": [
    "#### 1. Create two dictionaries named dict_1 and dict_2, each one with 2 keys\n",
    "- `name`: a string with a name\n",
    "- `skills`: a list of strings (at least 3) with your skills\n"
   ]
  },
  {
   "cell_type": "code",
   "execution_count": 17,
   "id": "a0eba8c7",
   "metadata": {},
   "outputs": [],
   "source": [
    "\n",
    "# TODO - Create a dictionaries named dict_1, according to the schema above\n",
    "# TODO - Create a dictionaries named dict_2, according to the schema above\n"
   ]
  },
  {
   "attachments": {},
   "cell_type": "markdown",
   "id": "90cd8391",
   "metadata": {},
   "source": [
    "#### 2. Put both of them in a list called `list_of_dictionaries`"
   ]
  },
  {
   "cell_type": "code",
   "execution_count": 18,
   "id": "a519d58f",
   "metadata": {},
   "outputs": [],
   "source": [
    "# TODO - Put both of them in a list called `list_of_dictionaries`\n"
   ]
  },
  {
   "attachments": {},
   "cell_type": "markdown",
   "id": "742c57e6",
   "metadata": {},
   "source": [
    "#### 3. Now index that list of dictionaries to find the last letter of the first skill of the last dictionary\n",
    "\n",
    "So, if you have a list of dictionaries like this:\n",
    "\n",
    "```python\n",
    "list_of_dictionaries = [\n",
    "    {\n",
    "        'name': 'John',\n",
    "        'skills': ['Python', 'JavaScript', 'HTML']\n",
    "    },\n",
    "    {\n",
    "        'name': 'Jane',\n",
    "        'skills': ['Python', 'JavaScript', 'CSS']\n",
    "    }\n",
    "]\n",
    "```\n",
    "\n",
    "The last letter of the first skill of the last dictionary would be `n`"
   ]
  },
  {
   "cell_type": "code",
   "execution_count": null,
   "id": "53e105d2",
   "metadata": {},
   "outputs": [],
   "source": [
    "# TODO - Now index that list of dictionaries to find the last letter of the first skill of the last dictionary.\n"
   ]
  },
  {
   "attachments": {},
   "cell_type": "markdown",
   "id": "6d8cd9fb",
   "metadata": {},
   "source": [
    "#### 4. Create a list comprehension which maps that list to a list of the length of names. Assign it to a variable called `name_lengths`.\n",
    "\n",
    "So, if you have a list of dictionaries like this:\n",
    "\n",
    "```python\n",
    "list_of_dictionaries = [\n",
    "    {\n",
    "        'name': 'John',\n",
    "        'skills': ['Python', 'JavaScript', 'HTML']\n",
    "    },\n",
    "    {\n",
    "        'name': 'Mayer',\n",
    "        'skills': ['Python', 'JavaScript', 'CSS']\n",
    "    }\n",
    "]\n",
    "```\n",
    "\n",
    "The result would be `[4, 5]` (because the length of `John` is 4 and the length of `Mayer` is 5)"
   ]
  },
  {
   "cell_type": "code",
   "execution_count": null,
   "id": "d392e5ab",
   "metadata": {},
   "outputs": [],
   "source": [
    "# TODO - Create a list comprehension which maps that list to a list of the length of names. Assign it to a variable called `name_lengths`.\n"
   ]
  },
  {
   "attachments": {},
   "cell_type": "markdown",
   "id": "b58bf91c",
   "metadata": {},
   "source": [
    "#### 5. Add that list together to get the total number of characters in all of the names\n",
    "\n",
    "So, if you have a list of dictionaries like this:\n",
    "\n",
    "```python\n",
    "list_of_dictionaries = [\n",
    "    {\n",
    "        'name': 'John',\n",
    "        'skills': ['Python', 'JavaScript', 'HTML']\n",
    "    },\n",
    "    {\n",
    "        'name': 'Mayer',\n",
    "        'skills': ['Python', 'JavaScript', 'CSS']\n",
    "    }\n",
    "]\n",
    "```\n",
    "\n",
    "The result would be `9` (because the length of `John` is 4 and the length of `Mayer` is 5, so 4 + 5 = 9)"
   ]
  },
  {
   "cell_type": "code",
   "execution_count": 31,
   "id": "4409b00d",
   "metadata": {},
   "outputs": [
    {
     "data": {
      "text/plain": [
       "9"
      ]
     },
     "execution_count": 31,
     "metadata": {},
     "output_type": "execute_result"
    }
   ],
   "source": [
    "# TODO - add the lengths together\n"
   ]
  }
 ],
 "metadata": {
  "kernelspec": {
   "display_name": "huggingface1",
   "language": "python",
   "name": "python3"
  },
  "language_info": {
   "codemirror_mode": {
    "name": "ipython",
    "version": 3
   },
   "file_extension": ".py",
   "mimetype": "text/x-python",
   "name": "python",
   "nbconvert_exporter": "python",
   "pygments_lexer": "ipython3",
   "version": "3.10.8"
  }
 },
 "nbformat": 4,
 "nbformat_minor": 5
}
