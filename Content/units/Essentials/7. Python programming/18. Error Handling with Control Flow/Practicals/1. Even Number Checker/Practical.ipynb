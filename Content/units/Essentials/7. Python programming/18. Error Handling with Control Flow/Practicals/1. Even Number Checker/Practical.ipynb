{
 "cells": [
  {
   "attachments": {},
   "cell_type": "markdown",
   "metadata": {},
   "source": [
    "# Even Number Checker"
   ]
  },
  {
   "attachments": {},
   "cell_type": "markdown",
   "metadata": {},
   "source": [
    "Write a custom function that:\n",
    "- Takes in an integer number as an input parameter\n",
    "- Returns `True` if the input is even\n",
    "- Raises a `ValueError` if the input is odd\n",
    "- Raises a `TypeError` if the input is not a valid integer"
   ]
  },
  {
   "cell_type": "code",
   "execution_count": null,
   "metadata": {},
   "outputs": [],
   "source": [
    "# TODO - write a function that takes in an integer as an input, returns True if it is even,\n",
    "# raises a ValueError if it is not, and a TypeError if the input is not an integer\n"
   ]
  },
  {
   "cell_type": "code",
   "execution_count": null,
   "metadata": {},
   "outputs": [],
   "source": []
  }
 ],
 "metadata": {
  "language_info": {
   "name": "python"
  }
 },
 "nbformat": 4,
 "nbformat_minor": 2
}
