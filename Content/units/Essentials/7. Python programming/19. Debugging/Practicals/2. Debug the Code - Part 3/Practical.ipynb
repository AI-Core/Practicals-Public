{
 "cells": [
  {
   "cell_type": "markdown",
   "id": "c92f4159",
   "metadata": {},
   "source": [
    "# Debug the Code - Part 3"
   ]
  },
  {
   "cell_type": "code",
   "execution_count": null,
   "id": "aab7a578",
   "metadata": {},
   "outputs": [],
   "source": [
    "#@title ### Run the following cell to download the necessary files for this practical { display-mode: \"form\" } \n",
    "#@markdown Don't worry about what's in this collapsed cell\n",
    "\n",
    "print('Downloading to_debug.py...')\n",
    "!wget https://s3-eu-west-1.amazonaws.com/aicore-portal-public-prod-307050600709/practical_files/e5159940-957b-4a5c-96da-c1523abb9f6a/to_debug.py -q -O to_debug.py\n",
    "print('Downloading expected_output.txt...')\n",
    "!wget https://s3-eu-west-1.amazonaws.com/aicore-portal-public-prod-307050600709/practical_files/e5159940-957b-4a5c-96da-c1523abb9f6a/expected_output.txt -q -O expected_output.txt\n"
   ]
  },
  {
   "cell_type": "markdown",
   "id": "cb308e98",
   "metadata": {},
   "source": [
    "\n",
    "<details>\n",
    "<summary>Some parts in this practical will require\n",
    "you to open a file. Click here to see how to do it.</summary>\n",
    "<ul>\n",
    "<li>Click on the folder logo on the left side of the screen</li>\n",
    "<p align=center><img src=\"images/read_1.png\"></p>\n",
    "<li>Double click on the file you want to open</li>\n",
    "<p align=center><img src=\"images/read_2.png\"></p>\n",
    "<li>The file will appear on the right side of the screen</li>\n",
    "<p align=center><img src=\"images/read_3.png\"></p>\n",
    "</ul>\n",
    "</details>\n",
    "    \n",
    "<details>\n",
    "<summary>Some parts in this practical will require\n",
    "you to update a file. Click here to see how to do it.</summary>\n",
    "<ul>\n",
    "<li>Click on the folder logo on the left side of the screen</li>\n",
    "<p align=center><img src=\"images/update_1.png\"></p>\n",
    "<li>\n",
    "    Double click on the file you want to update. The image will appear on the right side of the screen.\n",
    "    You can edit the file by clicking on the text area, and then saving your changes.\n",
    "</li>\n",
    "<p align=center><img src=\"images/update_2.png\"></p>\n",
    "</ul>\n",
    "</details>\n",
    "    "
   ]
  },
  {
   "attachments": {},
   "cell_type": "markdown",
   "id": "fa436326",
   "metadata": {},
   "source": [
    "#### 1. Run `to_debug.py` to find the errors"
   ]
  },
  {
   "cell_type": "code",
   "execution_count": null,
   "id": "c6d8107e",
   "metadata": {},
   "outputs": [],
   "source": []
  },
  {
   "attachments": {},
   "cell_type": "markdown",
   "id": "e99ff0f3",
   "metadata": {},
   "source": [
    "#### 2. Debug it, so it can run with no errors"
   ]
  },
  {
   "cell_type": "code",
   "execution_count": null,
   "id": "c574467e",
   "metadata": {},
   "outputs": [],
   "source": []
  },
  {
   "attachments": {},
   "cell_type": "markdown",
   "id": "5a5c6937",
   "metadata": {},
   "source": [
    "#### 3. The expected output after debugging it can be seen in `expected_output.txt`\n",
    "\n",
    "Extra points if you can also fix the code style errors. Take a look at this [link](https://www.python.org/dev/peps/pep-0008/) to learn more about coding style."
   ]
  },
  {
   "cell_type": "code",
   "execution_count": null,
   "id": "bfa4ee43",
   "metadata": {},
   "outputs": [],
   "source": []
  }
 ],
 "metadata": {
  "kernelspec": {
   "display_name": "content-projects_new",
   "language": "python",
   "name": "python3"
  },
  "language_info": {
   "codemirror_mode": {
    "name": "ipython",
    "version": 3
   },
   "file_extension": ".py",
   "mimetype": "text/x-python",
   "name": "python",
   "nbconvert_exporter": "python",
   "pygments_lexer": "ipython3",
   "version": "3.10.8"
  },
  "vscode": {
   "interpreter": {
    "hash": "4b961f8166aad6ccb4cf65d0f9c742ef9c6c23ffe83ad932438cd83ed96aebaf"
   }
  }
 },
 "nbformat": 4,
 "nbformat_minor": 5
}
