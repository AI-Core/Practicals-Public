{
 "cells": [
  {
   "cell_type": "markdown",
   "id": "9bc8f8a4",
   "metadata": {},
   "source": [
    "# Debug the Code - Part 2"
   ]
  },
  {
   "cell_type": "code",
   "execution_count": null,
   "id": "db9ea6f4",
   "metadata": {},
   "outputs": [],
   "source": [
    "#@title ### Run the following cell to download the necessary files for this practical { display-mode: \"form\" } \n",
    "#@markdown Don't worry about what's in this collapsed cell\n",
    "\n",
    "print('Downloading to_debug.py...')\n",
    "!wget https://s3-eu-west-1.amazonaws.com/aicore-portal-public-prod-307050600709/practical_files/a26cf6fa-cd2e-4811-b32f-eaaf80bbb440/to_debug.py -q -O to_debug.py\n",
    "print('Downloading expected_output.txt...')\n",
    "!wget https://s3-eu-west-1.amazonaws.com/aicore-portal-public-prod-307050600709/practical_files/a26cf6fa-cd2e-4811-b32f-eaaf80bbb440/expected_output.txt -q -O expected_output.txt\n"
   ]
  },
  {
   "cell_type": "markdown",
   "id": "77fc07fe",
   "metadata": {},
   "source": [
    "\n",
    "<details>\n",
    "<summary>Some parts in this practical will require\n",
    "you to open a file. Click here to see how to do it.</summary>\n",
    "<ul>\n",
    "<li>Click on the folder logo on the left side of the screen</li>\n",
    "<p align=center><img src=\"images/read_1.png\"></p>\n",
    "<li>Double click on the file you want to open</li>\n",
    "<p align=center><img src=\"images/read_2.png\"></p>\n",
    "<li>The file will appear on the right side of the screen</li>\n",
    "<p align=center><img src=\"images/read_3.png\"></p>\n",
    "</ul>\n",
    "</details>\n",
    "    \n",
    "<details>\n",
    "<summary>Some parts in this practical will require\n",
    "you to update a file. Click here to see how to do it.</summary>\n",
    "<ul>\n",
    "<li>Click on the folder logo on the left side of the screen</li>\n",
    "<p align=center><img src=\"images/update_1.png\"></p>\n",
    "<li>\n",
    "    Double click on the file you want to update. The image will appear on the right side of the screen.\n",
    "    You can edit the file by clicking on the text area, and then saving your changes.\n",
    "</li>\n",
    "<p align=center><img src=\"images/update_2.png\"></p>\n",
    "</ul>\n",
    "</details>\n",
    "    "
   ]
  },
  {
   "attachments": {},
   "cell_type": "markdown",
   "id": "314f29d0",
   "metadata": {},
   "source": [
    "#### 1. Run `to_debug.py` to find the errors"
   ]
  },
  {
   "cell_type": "code",
   "execution_count": null,
   "id": "23b0e6b2",
   "metadata": {},
   "outputs": [],
   "source": []
  },
  {
   "attachments": {},
   "cell_type": "markdown",
   "id": "21497664",
   "metadata": {},
   "source": [
    "#### 2. Debug it, so it can run with no errors"
   ]
  },
  {
   "cell_type": "code",
   "execution_count": null,
   "id": "303e5068",
   "metadata": {},
   "outputs": [],
   "source": []
  },
  {
   "attachments": {},
   "cell_type": "markdown",
   "id": "d128bb3f",
   "metadata": {},
   "source": [
    "#### 3. The expected output after debugging it can be seen in the `expected_output.txt` file"
   ]
  }
 ],
 "metadata": {
  "kernelspec": {
   "display_name": "content-projects_new",
   "language": "python",
   "name": "python3"
  },
  "language_info": {
   "codemirror_mode": {
    "name": "ipython",
    "version": 3
   },
   "file_extension": ".py",
   "mimetype": "text/x-python",
   "name": "python",
   "nbconvert_exporter": "python",
   "pygments_lexer": "ipython3",
   "version": "3.10.8"
  },
  "vscode": {
   "interpreter": {
    "hash": "4b961f8166aad6ccb4cf65d0f9c742ef9c6c23ffe83ad932438cd83ed96aebaf"
   }
  }
 },
 "nbformat": 4,
 "nbformat_minor": 5
}
