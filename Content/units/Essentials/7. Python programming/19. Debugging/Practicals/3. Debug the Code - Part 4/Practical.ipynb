{
 "cells": [
  {
   "cell_type": "markdown",
   "id": "fd58a55a",
   "metadata": {},
   "source": [
    "# Debug the Code - Part 4"
   ]
  },
  {
   "cell_type": "code",
   "execution_count": null,
   "id": "61825c60",
   "metadata": {},
   "outputs": [],
   "source": [
    "#@title ### Run the following cell to download the necessary files for this practical { display-mode: \"form\" } \n",
    "#@markdown Don't worry about what's in this collapsed cell\n",
    "\n",
    "print('Downloading expected_output.txt...')\n",
    "!wget https://s3-eu-west-1.amazonaws.com/aicore-portal-public-prod-307050600709/practical_files/55c4261b-403c-4448-8997-6d5f8addb15e/expected_output.txt -q -O expected_output.txt\n",
    "print('Downloading to_debug.py...')\n",
    "!wget https://s3-eu-west-1.amazonaws.com/aicore-portal-public-prod-307050600709/practical_files/55c4261b-403c-4448-8997-6d5f8addb15e/to_debug.py -q -O to_debug.py\n"
   ]
  },
  {
   "attachments": {},
   "cell_type": "markdown",
   "id": "fbdbf080",
   "metadata": {},
   "source": [
    "#### 1. Run `to_debug.py` to find the errors"
   ]
  },
  {
   "cell_type": "code",
   "execution_count": null,
   "id": "313da5e7",
   "metadata": {},
   "outputs": [],
   "source": []
  },
  {
   "attachments": {},
   "cell_type": "markdown",
   "id": "548f1b84",
   "metadata": {},
   "source": [
    "#### 2. Debug it, so it can run with no errors\n",
    "\n",
    "This code has a hidden bug, meaning that the code runs without errors, but the output is not what we expect. "
   ]
  },
  {
   "cell_type": "code",
   "execution_count": null,
   "id": "e157ac0a",
   "metadata": {},
   "outputs": [],
   "source": []
  },
  {
   "attachments": {},
   "cell_type": "markdown",
   "id": "6dd22aa4",
   "metadata": {},
   "source": [
    "#### 3. The expected output after debugging it can be seen in `expected_output.txt`"
   ]
  }
 ],
 "metadata": {
  "kernelspec": {
   "display_name": "content-projects_new",
   "language": "python",
   "name": "python3"
  },
  "language_info": {
   "codemirror_mode": {
    "name": "ipython",
    "version": 3
   },
   "file_extension": ".py",
   "mimetype": "text/x-python",
   "name": "python",
   "nbconvert_exporter": "python",
   "pygments_lexer": "ipython3",
   "version": "3.10.8"
  },
  "vscode": {
   "interpreter": {
    "hash": "4b961f8166aad6ccb4cf65d0f9c742ef9c6c23ffe83ad932438cd83ed96aebaf"
   }
  }
 },
 "nbformat": 4,
 "nbformat_minor": 5
}
