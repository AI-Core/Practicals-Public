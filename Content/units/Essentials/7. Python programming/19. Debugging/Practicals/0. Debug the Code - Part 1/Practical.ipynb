{
 "cells": [
  {
   "cell_type": "markdown",
   "id": "a99e436f",
   "metadata": {},
   "source": [
    "# Debug the Code - Part 1"
   ]
  },
  {
   "cell_type": "code",
   "execution_count": null,
   "id": "6b64a91c",
   "metadata": {},
   "outputs": [],
   "source": [
    "#@title ### Run the following cell to download the necessary files for this practical { display-mode: \"form\" } \n",
    "#@markdown Don't worry about what's in this collapsed cell\n",
    "\n",
    "print('Downloading expected_output.txt...')\n",
    "!wget https://s3-eu-west-1.amazonaws.com/aicore-portal-public-prod-307050600709/practical_files/fe85d96d-7c26-432a-a25e-999acff6c149/expected_output.txt -q -O expected_output.txt\n",
    "print('Downloading to_debug.py...')\n",
    "!wget https://s3-eu-west-1.amazonaws.com/aicore-portal-public-prod-307050600709/practical_files/fe85d96d-7c26-432a-a25e-999acff6c149/to_debug.py -q -O to_debug.py\n"
   ]
  },
  {
   "cell_type": "markdown",
   "id": "c72ed58c",
   "metadata": {},
   "source": [
    "\n",
    "<details>\n",
    "<summary>Some parts in this practical will require\n",
    "you to open a file. Click here to see how to do it.</summary>\n",
    "<ul>\n",
    "<li>Click on the folder logo on the left side of the screen</li>\n",
    "<p align=center><img src=\"images/read_1.png\"></p>\n",
    "<li>Double click on the file you want to open</li>\n",
    "<p align=center><img src=\"images/read_2.png\"></p>\n",
    "<li>The file will appear on the right side of the screen</li>\n",
    "<p align=center><img src=\"images/read_3.png\"></p>\n",
    "</ul>\n",
    "</details>\n",
    "    \n",
    "<details>\n",
    "<summary>Some parts in this practical will require\n",
    "you to update a file. Click here to see how to do it.</summary>\n",
    "<ul>\n",
    "<li>Click on the folder logo on the left side of the screen</li>\n",
    "<p align=center><img src=\"images/update_1.png\"></p>\n",
    "<li>\n",
    "    Double click on the file you want to update. The image will appear on the right side of the screen.\n",
    "    You can edit the file by clicking on the text area, and then saving your changes.\n",
    "</li>\n",
    "<p align=center><img src=\"images/update_2.png\"></p>\n",
    "</ul>\n",
    "</details>\n",
    "    "
   ]
  },
  {
   "attachments": {},
   "cell_type": "markdown",
   "id": "825fdbe1",
   "metadata": {},
   "source": [
    "### 1. Run `to_debug.py` to find the errors"
   ]
  },
  {
   "cell_type": "code",
   "execution_count": null,
   "id": "f03681e9",
   "metadata": {},
   "outputs": [],
   "source": []
  },
  {
   "attachments": {},
   "cell_type": "markdown",
   "id": "95b490e0",
   "metadata": {},
   "source": [
    "### 2. Debug it, so it can run with no errors"
   ]
  },
  {
   "cell_type": "code",
   "execution_count": null,
   "id": "280ac613",
   "metadata": {},
   "outputs": [],
   "source": []
  },
  {
   "attachments": {},
   "cell_type": "markdown",
   "id": "cf6662ff",
   "metadata": {},
   "source": [
    "### 3. The expected output after debugging it can be seen in the `expected_output.txt` file"
   ]
  },
  {
   "cell_type": "code",
   "execution_count": null,
   "id": "815cde88",
   "metadata": {},
   "outputs": [],
   "source": []
  }
 ],
 "metadata": {
  "language_info": {
   "name": "python"
  }
 },
 "nbformat": 4,
 "nbformat_minor": 5
}
