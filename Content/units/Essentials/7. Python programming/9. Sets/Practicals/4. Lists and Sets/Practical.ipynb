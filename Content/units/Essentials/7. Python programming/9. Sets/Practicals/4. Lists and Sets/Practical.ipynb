{
 "cells": [
  {
   "cell_type": "markdown",
   "id": "05523d8c",
   "metadata": {},
   "source": [
    "# Lists and Sets"
   ]
  },
  {
   "cell_type": "code",
   "execution_count": null,
   "id": "664204f6",
   "metadata": {},
   "outputs": [],
   "source": [
    "#@title ### Run the following cell to download the necessary files for this practical { display-mode: \"form\" } \n",
    "#@markdown Don't worry about what's in this collapsed cell\n",
    "\n",
    "print('Downloading the marking system')\n",
    "!wget https://s3-eu-west-1.amazonaws.com/aicore-portal-public-prod-307050600709/practical_files/471a614c-782f-47cb-a260-05f85c627250/marking_system.py -q -O marking_system.py\n",
    "import marking_system\n",
    "import importlib\n",
    "importlib.reload(marking_system)\n",
    "import sys\n",
    "ipython = get_ipython()\n",
    "def hide_traceback(exc_tuple=None, filename=None, tb_offset=None, exception_only=False, running_compiled_code=False):\n",
    "    etype, value, tb = sys.exc_info()\n",
    "    value.__cause__ = None  # suppress chained exceptions\n",
    "    return ipython._showtraceback(etype, \"❌ \" + f\"\u001b[91m{value}\", ipython.InteractiveTB.get_exception_only(etype, \"❌ \" + f\"\u001b[91m{value}\"))\n",
    "ipython.showtraceback = hide_traceback\n"
   ]
  },
  {
   "attachments": {},
   "cell_type": "markdown",
   "id": "da4b7923",
   "metadata": {},
   "source": [
    "### Find the common elements of three lists using sets."
   ]
  },
  {
   "cell_type": "code",
   "execution_count": null,
   "id": "c5ea0ad6",
   "metadata": {},
   "outputs": [],
   "source": [
    "list_1 = [1, 5, 10, 20, 40, 80]\n",
    "list_2 = [6, 7, 20, 80, 100]\n",
    "list_3 = [3, 4, 15, 20, 30, 70, 80, 120]\n"
   ]
  },
  {
   "attachments": {},
   "cell_type": "markdown",
   "id": "b1a0ac81",
   "metadata": {},
   "source": [
    "### 1. Find the common elements of list_1 and list_2 using sets.\n",
    "\n",
    "Name the new variable `common_1_2`. _Hint: You need to convert the lists to sets first._"
   ]
  },
  {
   "cell_type": "code",
   "execution_count": null,
   "id": "a3d6934d",
   "metadata": {},
   "outputs": [],
   "source": [
    "# TODO - create a set with the common elements between list_1 and list_2 and name it common_1_2\n"
   ]
  },
  {
   "cell_type": "code",
   "execution_count": null,
   "id": "cbca88ac",
   "metadata": {},
   "outputs": [],
   "source": [
    "#@title #### Run this cell to check your answer { display-mode: \"form\", run: \"auto\" }\n",
    "\n",
    "assert \"common_1_2\" in globals(), \"Please, make sure you create the variable 'common_1_2' and try again.\"\n",
    "assert \"list_1\" in globals(), \"Please, make sure you create the variable 'list_1' and try again.\"\n",
    "assert \"list_2\" in globals(), \"Please, make sure you create the variable 'list_2' and try again.\"\n",
    "assert \"list_3\" in globals(), \"Please, make sure you create the variable 'list_3' and try again.\"\n",
    "\n",
    "marking_system.check_step_1(common_1_2, list_1, list_2)\n"
   ]
  },
  {
   "attachments": {},
   "cell_type": "markdown",
   "id": "cbad73e6",
   "metadata": {},
   "source": [
    "### 2. Find the common elements between `common_1_2` and `list_3` using sets.\n",
    "\n",
    "Name the new variable `common_1_2_3`."
   ]
  },
  {
   "cell_type": "code",
   "execution_count": null,
   "id": "c25f1871",
   "metadata": {},
   "outputs": [],
   "source": [
    "# TODO - Find the common elements between common_1_2 and list_3 and name it common_1_2_3\n"
   ]
  },
  {
   "cell_type": "code",
   "execution_count": null,
   "id": "b8ea52b5",
   "metadata": {},
   "outputs": [],
   "source": [
    "#@title #### Run this cell to check your answer { display-mode: \"form\", run: \"auto\" }\n",
    "\n",
    "assert \"common_1_2\" in globals(), \"Please, make sure you create the variable 'common_1_2' and try again.\"\n",
    "assert \"common_1_2_3\" in globals(), \"Please, make sure you create the variable 'common_1_2_3' and try again.\"\n",
    "assert \"list_1\" in globals(), \"Please, make sure you create the variable 'list_1' and try again.\"\n",
    "assert \"list_2\" in globals(), \"Please, make sure you create the variable 'list_2' and try again.\"\n",
    "assert \"list_3\" in globals(), \"Please, make sure you create the variable 'list_3' and try again.\"\n",
    "\n",
    "marking_system.check_step_2(common_1_2_3, list_1, list_2, list_3)\n"
   ]
  }
 ],
 "metadata": {
  "kernelspec": {
   "display_name": "content-projects_new",
   "language": "python",
   "name": "python3"
  },
  "language_info": {
   "name": "python",
   "version": "3.10.8"
  },
  "vscode": {
   "interpreter": {
    "hash": "4b961f8166aad6ccb4cf65d0f9c742ef9c6c23ffe83ad932438cd83ed96aebaf"
   }
  }
 },
 "nbformat": 4,
 "nbformat_minor": 5
}
