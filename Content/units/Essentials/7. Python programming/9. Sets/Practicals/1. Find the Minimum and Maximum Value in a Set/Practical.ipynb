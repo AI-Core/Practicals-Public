{
 "cells": [
  {
   "cell_type": "markdown",
   "id": "32a1ddb6",
   "metadata": {},
   "source": [
    "# Find the Minimum and Maximum Value in a Set"
   ]
  },
  {
   "cell_type": "code",
   "execution_count": null,
   "id": "36e1b748",
   "metadata": {},
   "outputs": [],
   "source": [
    "#@title ### Run the following cell to download the necessary files for this practical { display-mode: \"form\" } \n",
    "#@markdown Don't worry about what's in this collapsed cell\n",
    "\n",
    "print('Downloading the marking system')\n",
    "!wget https://s3-eu-west-1.amazonaws.com/aicore-portal-public-prod-307050600709/practical_files/dca6cca0-5c59-4952-bb12-9e117dbdbeeb/marking_system.py -q -O marking_system.py\n",
    "import marking_system\n",
    "import importlib\n",
    "importlib.reload(marking_system)\n",
    "import sys\n",
    "ipython = get_ipython()\n",
    "def hide_traceback(exc_tuple=None, filename=None, tb_offset=None, exception_only=False, running_compiled_code=False):\n",
    "    etype, value, tb = sys.exc_info()\n",
    "    value.__cause__ = None  # suppress chained exceptions\n",
    "    return ipython._showtraceback(etype, \"❌ \" + f\"\u001b[91m{value}\", ipython.InteractiveTB.get_exception_only(etype, \"❌ \" + f\"\u001b[91m{value}\"))\n",
    "ipython.showtraceback = hide_traceback\n"
   ]
  },
  {
   "attachments": {},
   "cell_type": "markdown",
   "id": "899a7818",
   "metadata": {},
   "source": [
    "### 1. Find the maximum value in the following sets:\n"
   ]
  },
  {
   "cell_type": "code",
   "execution_count": 1,
   "id": "a3c39a48",
   "metadata": {},
   "outputs": [],
   "source": [
    "set_int = {8, 16, 24, 1, 25, 3, 10, 65, 55}\n",
    "set_str = {'f', 'l', 'k', 'a', 'w'}\n"
   ]
  },
  {
   "attachments": {},
   "cell_type": "markdown",
   "id": "3ec8c47b",
   "metadata": {},
   "source": [
    "Assign the maximum value to the variables `max_int` and `max_str` respectively."
   ]
  },
  {
   "cell_type": "code",
   "execution_count": null,
   "id": "a1bf4057",
   "metadata": {},
   "outputs": [],
   "source": [
    "# TODO - Find the maximum value in set_int and assign it to max_int\n",
    "# TODO - Find the maximum value in set_str and assign it to max_str\n"
   ]
  },
  {
   "cell_type": "code",
   "execution_count": null,
   "id": "ae56d9db",
   "metadata": {},
   "outputs": [],
   "source": [
    "#@title #### Run this cell to check your answer { display-mode: \"form\", run: \"auto\" }\n",
    "\n",
    "assert \"max_int\" in globals(), \"The variable 'max_int' does not exist. Please, create it and try again.\"\n",
    "assert \"max_str\" in globals(), \"The variable 'max_str' does not exist. Please, create it and try again.\"\n",
    "assert \"set_int\" in globals(), \"The variable 'set_int' does not exist. Please, create it and try again.\"\n",
    "assert \"set_str\" in globals(), \"The variable 'set_str' does not exist. Please, create it and try again.\"\n",
    "\n",
    "marking_system.check_step_1(max_int, max_str, set_int, set_str)\n"
   ]
  },
  {
   "attachments": {},
   "cell_type": "markdown",
   "id": "7baf8d08",
   "metadata": {},
   "source": [
    "### 2. Find the minimum value in the following sets:"
   ]
  },
  {
   "cell_type": "code",
   "execution_count": null,
   "id": "c0aba4a1",
   "metadata": {},
   "outputs": [],
   "source": [
    "set_int = {4, 12, 10, 9, 4, 13}\n",
    "set_str = {'b', 'z', 't', 'm', 'y', 'c'}\n"
   ]
  },
  {
   "attachments": {},
   "cell_type": "markdown",
   "id": "71b9799e",
   "metadata": {},
   "source": [
    "Assign the minimum value to the variables `min_int` and `min_str` respectively."
   ]
  },
  {
   "cell_type": "code",
   "execution_count": 2,
   "id": "093b9fbd",
   "metadata": {},
   "outputs": [],
   "source": [
    "# TODO - Find the minimum value in set_int and assign it to min_int\n",
    "# TODO - Find the minimum value in set_str and assign it to min_str\n"
   ]
  },
  {
   "cell_type": "code",
   "execution_count": null,
   "id": "de8993ff",
   "metadata": {},
   "outputs": [],
   "source": [
    "#@title #### Run this cell to check your answer { display-mode: \"form\", run: \"auto\" }\n",
    "\n",
    "assert \"min_int\" in globals(), \"The variable 'min_int' does not exist. Please, create it and try again.\"\n",
    "assert \"min_str\" in globals(), \"The variable 'min_str' does not exist. Please, create it and try again.\"\n",
    "assert \"set_int\" in globals(), \"The variable 'set_int' does not exist. Please, create it and try again.\"\n",
    "assert \"set_str\" in globals(), \"The variable 'set_str' does not exist. Please, create it and try again.\"\n",
    "\n",
    "marking_system.check_step_2(min_int, min_str, set_int, set_str)\n"
   ]
  }
 ],
 "metadata": {
  "kernelspec": {
   "display_name": "content-projects_new",
   "language": "python",
   "name": "python3"
  },
  "language_info": {
   "codemirror_mode": {
    "name": "ipython",
    "version": 3
   },
   "file_extension": ".py",
   "mimetype": "text/x-python",
   "name": "python",
   "nbconvert_exporter": "python",
   "pygments_lexer": "ipython3",
   "version": "3.10.8"
  },
  "vscode": {
   "interpreter": {
    "hash": "4b961f8166aad6ccb4cf65d0f9c742ef9c6c23ffe83ad932438cd83ed96aebaf"
   }
  }
 },
 "nbformat": 4,
 "nbformat_minor": 5
}
