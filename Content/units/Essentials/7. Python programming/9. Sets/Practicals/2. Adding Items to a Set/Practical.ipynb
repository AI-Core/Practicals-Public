{
 "cells": [
  {
   "cell_type": "markdown",
   "id": "76061b38",
   "metadata": {},
   "source": [
    "# Adding Items to a Set"
   ]
  },
  {
   "cell_type": "code",
   "execution_count": null,
   "id": "3434cc01",
   "metadata": {},
   "outputs": [],
   "source": [
    "#@title ### Run the following cell to download the necessary files for this practical { display-mode: \"form\" } \n",
    "#@markdown Don't worry about what's in this collapsed cell\n",
    "\n",
    "print('Downloading the marking system')\n",
    "!wget https://s3-eu-west-1.amazonaws.com/aicore-portal-public-prod-307050600709/practical_files/76b5b673-55a7-4c83-b35b-afe5f7e4867c/marking_system.py -q -O marking_system.py\n",
    "import marking_system\n",
    "import importlib\n",
    "importlib.reload(marking_system)\n",
    "import sys\n",
    "ipython = get_ipython()\n",
    "def hide_traceback(exc_tuple=None, filename=None, tb_offset=None, exception_only=False, running_compiled_code=False):\n",
    "    etype, value, tb = sys.exc_info()\n",
    "    value.__cause__ = None  # suppress chained exceptions\n",
    "    return ipython._showtraceback(etype, \"❌ \" + f\"\u001b[91m{value}\", ipython.InteractiveTB.get_exception_only(etype, \"❌ \" + f\"\u001b[91m{value}\"))\n",
    "ipython.showtraceback = hide_traceback\n"
   ]
  },
  {
   "attachments": {},
   "cell_type": "markdown",
   "id": "2c12aada",
   "metadata": {},
   "source": [
    "### 1. Add a single item to the following set.\n",
    "\n",
    "Make sure the item is not already in the set. Try that the new number is a prime number lower than 100."
   ]
  },
  {
   "cell_type": "code",
   "execution_count": null,
   "id": "b688c0c9",
   "metadata": {},
   "outputs": [],
   "source": [
    "prime_numbers = {2, 3, 5, 7, 11, 13}\n"
   ]
  },
  {
   "cell_type": "code",
   "execution_count": null,
   "id": "5da3c090",
   "metadata": {},
   "outputs": [],
   "source": [
    "# TODO - Add a prime number lower than 100 to the set\n"
   ]
  },
  {
   "cell_type": "code",
   "execution_count": null,
   "id": "b18145c6",
   "metadata": {},
   "outputs": [],
   "source": [
    "#@title #### Run this cell to check your answer { display-mode: \"form\", run: \"auto\" }\n",
    "\n",
    "assert \"prime_numbers\" in globals(), \"The variable 'prime_numbers' does not exist. Please, create it and try again.\"\n",
    "assert prime_numbers, \"The variable 'prime_numbers' is empty. This might have happened because you reassigned the output of the `add` method to the variable 'prime_numbers'. Please, try again bearing in mind that the `add` method does not return anything.\"\n",
    "\n",
    "marking_system.check_step_1(prime_numbers)\n"
   ]
  },
  {
   "attachments": {},
   "cell_type": "markdown",
   "id": "12d95158",
   "metadata": {},
   "source": [
    "### 2. Add a whole set to the following set.\n",
    "\n",
    "Create a new set with three integers and assign it to the variable `new_set`. Make sure that the new set does not contain any items that are already in the set `prime_numbers`.\n",
    "\n",
    "Add the values in `new_set` to the values in `prime_numbers`.\n",
    "\n",
    "Run the following code to reset the value of `prime_numbers` to the original set.\n",
    "\n",
    "_Hint: Use the `update()` method._"
   ]
  },
  {
   "cell_type": "code",
   "execution_count": null,
   "id": "d9bd1428",
   "metadata": {},
   "outputs": [],
   "source": [
    "prime_numbers = {2, 3, 5, 7, 11, 13}\n"
   ]
  },
  {
   "cell_type": "code",
   "execution_count": null,
   "id": "6d498900",
   "metadata": {},
   "outputs": [],
   "source": [
    "# TODO - Create a new set with three numbers that are not in the set 'prime_numbers'\n",
    "# TODO - Add the values in new_set to the set 'prime_numbers'\n"
   ]
  },
  {
   "cell_type": "code",
   "execution_count": null,
   "id": "30d718da",
   "metadata": {},
   "outputs": [],
   "source": [
    "#@title #### Run this cell to check your answer { display-mode: \"form\", run: \"auto\" }\n",
    "\n",
    "assert \"prime_numbers\" in globals(), \"The variable 'prime_numbers' does not exist. Please, create it and try again.\"\n",
    "assert \"new_set\" in globals(), \"The variable 'new_set' does not exist. Please, create it and try again.\"\n",
    "assert prime_numbers, \"The variable 'prime_numbers' is empty. This might have happened because you reassigned the output of the `update` method to the variable 'prime_numbers'. Please, try again bearing in mind that the `update` method does not return anything.\"\n",
    "\n",
    "marking_system.check_step_2(prime_numbers, new_set)\n"
   ]
  }
 ],
 "metadata": {
  "kernelspec": {
   "display_name": "content-projects",
   "language": "python",
   "name": "python3"
  },
  "language_info": {
   "codemirror_mode": {
    "name": "ipython",
    "version": 3
   },
   "file_extension": ".py",
   "mimetype": "text/x-python",
   "name": "python",
   "nbconvert_exporter": "python",
   "pygments_lexer": "ipython3",
   "version": "3.10.9"
  },
  "vscode": {
   "interpreter": {
    "hash": "09a03f703d9594344a2b9942d46f9fa7ca1a719272e47a84f9d4a0d86a51c104"
   }
  }
 },
 "nbformat": 4,
 "nbformat_minor": 5
}
