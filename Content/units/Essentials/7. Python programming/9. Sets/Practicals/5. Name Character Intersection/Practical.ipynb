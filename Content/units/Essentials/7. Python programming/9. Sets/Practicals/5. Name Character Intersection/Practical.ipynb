{
 "cells": [
  {
   "cell_type": "markdown",
   "id": "58a68ab0",
   "metadata": {},
   "source": [
    "# Name Character Intersection"
   ]
  },
  {
   "cell_type": "code",
   "execution_count": null,
   "id": "a1ae2a50",
   "metadata": {},
   "outputs": [],
   "source": [
    "#@title ### Run the following cell to download the necessary files for this practical { display-mode: \"form\" } \n",
    "#@markdown Don't worry about what's in this collapsed cell\n",
    "\n",
    "print('Downloading the marking system')\n",
    "!wget https://s3-eu-west-1.amazonaws.com/aicore-portal-public-prod-307050600709/practical_files/6463030e-09db-4fb5-80fb-c4c78719d6df/marking_system.py -q -O marking_system.py\n",
    "import marking_system\n",
    "import importlib\n",
    "importlib.reload(marking_system)\n",
    "import sys\n",
    "ipython = get_ipython()\n",
    "def hide_traceback(exc_tuple=None, filename=None, tb_offset=None, exception_only=False, running_compiled_code=False):\n",
    "    etype, value, tb = sys.exc_info()\n",
    "    value.__cause__ = None  # suppress chained exceptions\n",
    "    return ipython._showtraceback(etype, \"❌ \" + f\"\u001b[91m{value}\", ipython.InteractiveTB.get_exception_only(etype, \"❌ \" + f\"\u001b[91m{value}\"))\n",
    "ipython.showtraceback = hide_traceback\n"
   ]
  },
  {
   "attachments": {},
   "cell_type": "markdown",
   "id": "76b5a9e0",
   "metadata": {},
   "source": [
    "#### 1. Create two strings with at least 4 characters and assign them to `name_1` and `name_2`"
   ]
  },
  {
   "cell_type": "code",
   "execution_count": null,
   "id": "bae1053d",
   "metadata": {},
   "outputs": [],
   "source": [
    "# TODO - Create a string variable called 'name_1'\n",
    "# TODO - Create a string variable called 'name_2'\n"
   ]
  },
  {
   "cell_type": "code",
   "execution_count": null,
   "id": "ab19d22c",
   "metadata": {},
   "outputs": [],
   "source": [
    "#@title #### Run this cell to check your answer { display-mode: \"form\", run: \"auto\" }\n",
    "\n",
    "assert \"name_1\" in globals(), \"The variable 'name_1' does not exist. Please, create it and try again.\"\n",
    "assert \"name_2\" in globals(), \"The variable 'name_2' does not exist. Please, create it and try again.\"\n",
    "marking_system.check_step_1(name_1, name_2)\n"
   ]
  },
  {
   "attachments": {},
   "cell_type": "markdown",
   "id": "1df848c0",
   "metadata": {},
   "source": [
    "#### 2. Find the characters that appear in both names. \n",
    "\n",
    "Assign the result to `name_intersection`. _Hint: You can use the `set` function to convert a string to a set of characters._"
   ]
  },
  {
   "cell_type": "code",
   "execution_count": null,
   "id": "320742ed",
   "metadata": {},
   "outputs": [],
   "source": [
    "# TODO - Convert each name to a set and find the intersection between them\n"
   ]
  },
  {
   "cell_type": "code",
   "execution_count": null,
   "id": "05c05199",
   "metadata": {},
   "outputs": [],
   "source": [
    "#@title #### Run this cell to check your answer { display-mode: \"form\", run: \"auto\" }\n",
    "\n",
    "assert \"name_1\" in globals(), \"The variable 'name_1' does not exist. Please, create it and try again.\"\n",
    "assert \"name_2\" in globals(), \"The variable 'name_2' does not exist. Please, create it and try again.\"\n",
    "assert \"name_intersection\" in globals(), \"The variable 'name_intersection' does not exist. Please, create it and try again.\"\n",
    "marking_system.check_step_2(name_1, name_2, name_intersection)\n"
   ]
  }
 ],
 "metadata": {
  "kernelspec": {
   "display_name": "content-projects_new",
   "language": "python",
   "name": "python3"
  },
  "language_info": {
   "codemirror_mode": {
    "name": "ipython",
    "version": 3
   },
   "file_extension": ".py",
   "mimetype": "text/x-python",
   "name": "python",
   "nbconvert_exporter": "python",
   "pygments_lexer": "ipython3",
   "version": "3.10.8"
  },
  "vscode": {
   "interpreter": {
    "hash": "4b961f8166aad6ccb4cf65d0f9c742ef9c6c23ffe83ad932438cd83ed96aebaf"
   }
  }
 },
 "nbformat": 4,
 "nbformat_minor": 5
}
