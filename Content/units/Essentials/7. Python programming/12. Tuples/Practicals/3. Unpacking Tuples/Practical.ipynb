{
 "cells": [
  {
   "cell_type": "markdown",
   "id": "5a0cf04f",
   "metadata": {},
   "source": [
    "# Unpacking Tuples"
   ]
  },
  {
   "cell_type": "code",
   "execution_count": null,
   "id": "6d903013",
   "metadata": {},
   "outputs": [],
   "source": [
    "#@title ### Run the following cell to download the necessary files for this practical { display-mode: \"form\" } \n",
    "#@markdown Don't worry about what's in this collapsed cell\n",
    "\n",
    "print('Downloading the marking system')\n",
    "!wget https://s3-eu-west-1.amazonaws.com/aicore-portal-public-prod-307050600709/practical_files/f00eba2c-1e4f-4ed9-9388-0fc656b09364/marking_system.py -q -O marking_system.py\n",
    "import marking_system\n",
    "import importlib\n",
    "importlib.reload(marking_system)\n",
    "import sys\n",
    "ipython = get_ipython()\n",
    "def hide_traceback(exc_tuple=None, filename=None, tb_offset=None, exception_only=False, running_compiled_code=False):\n",
    "    etype, value, tb = sys.exc_info()\n",
    "    value.__cause__ = None  # suppress chained exceptions\n",
    "    return ipython._showtraceback(etype, \"❌ \" + f\"\u001b[91m{value}\", ipython.InteractiveTB.get_exception_only(etype, \"❌ \" + f\"\u001b[91m{value}\"))\n",
    "ipython.showtraceback = hide_traceback\n"
   ]
  },
  {
   "attachments": {},
   "cell_type": "markdown",
   "id": "8176477f",
   "metadata": {},
   "source": [
    "### Given the following tuple:"
   ]
  },
  {
   "cell_type": "code",
   "execution_count": 1,
   "id": "7dfd1f98",
   "metadata": {},
   "outputs": [],
   "source": [
    "my_tuple = (70, \"AiCore\", 10, \"Programming\", 70)\n"
   ]
  },
  {
   "attachments": {},
   "cell_type": "markdown",
   "id": "6cfb0457",
   "metadata": {},
   "source": [
    "### If we unpack it using:\n",
    "    \n",
    "```python\n",
    "x, *y, z = my_tuple\n",
    "```\n",
    "What are the values of `x`, `y` and `z`?"
   ]
  },
  {
   "cell_type": "code",
   "execution_count": null,
   "id": "898f982c",
   "metadata": {},
   "outputs": [],
   "source": [
    "#@title #### Enter your answer here { display-mode: \"form\", run: \"auto\" }\n",
    "\n",
    "#@markdown What is the value of `x`?\n",
    "ans_x = \"\" #@param [\"\", \"70\", \"[70]\", \"[70, 'AiCore']\", \"AiCore\", \"['AiCore', 10, 'Programming']\", \"['Programming', 70]\"]\n",
    "#@markdown What is the value of `y`?\n",
    "ans_y = \"\" #@param [\"\", \"70\", \"[70]\", \"[70, 'AiCore']\", \"AiCore\", \"['AiCore', 10, 'Programming']\", \"['Programming', 70]\"]\n",
    "#@markdown What is the value of `z`?\n",
    "ans_z = \"\" #@param [\"\", \"70\", \"[70]\", \"[70, 'AiCore']\", \"AiCore\", \"['AiCore', 10, 'Programming']\", \"['Programming', 70]\"]\n",
    "\n",
    "marking_system.check_step_2(ans_x, ans_y, ans_z, my_tuple)\n"
   ]
  },
  {
   "attachments": {},
   "cell_type": "markdown",
   "id": "2b699e75",
   "metadata": {},
   "source": [
    "### What if we unpack it using:\n",
    "    \n",
    "```python\n",
    "x, y, *z = my_tuple\n",
    "```\n",
    "What are the values of `x`, `y` and `z`?"
   ]
  },
  {
   "cell_type": "code",
   "execution_count": null,
   "id": "3c74deb8",
   "metadata": {},
   "outputs": [],
   "source": [
    "#@title #### Enter your answer here { display-mode: \"form\", run: \"auto\" }\n",
    "\n",
    "#@markdown What is the value of `x`?\n",
    "ans_x = \"\" #@param [\"\", \"70\", \"[70]\", \"[70, 'AiCore']\", \"AiCore\", \"['AiCore', 10, 'Programming']\", \"['Programming', 70]\", \"[10, 'Programming', 70]\"]\n",
    "#@markdown What is the value of `y`?\n",
    "ans_y = \"\" #@param [\"\", \"70\", \"[70]\", \"[70, 'AiCore']\", \"AiCore\", \"['AiCore', 10, 'Programming']\", \"['Programming', 70]\", \"[10, 'Programming', 70]\"]\n",
    "#@markdown What is the value of `z`?\n",
    "ans_z = \"\" #@param [\"\", \"70\", \"[70]\", \"[70, 'AiCore']\", \"AiCore\", \"['AiCore', 10, 'Programming']\", \"['Programming', 70]\", \"[10, 'Programming', 70]\"]\n",
    "\n",
    "marking_system.check_step_3(ans_x, ans_y, ans_z, my_tuple)\n"
   ]
  }
 ],
 "metadata": {
  "kernelspec": {
   "display_name": "content-projects_new",
   "language": "python",
   "name": "python3"
  },
  "language_info": {
   "codemirror_mode": {
    "name": "ipython",
    "version": 3
   },
   "file_extension": ".py",
   "mimetype": "text/x-python",
   "name": "python",
   "nbconvert_exporter": "python",
   "pygments_lexer": "ipython3",
   "version": "3.10.8"
  },
  "vscode": {
   "interpreter": {
    "hash": "4b961f8166aad6ccb4cf65d0f9c742ef9c6c23ffe83ad932438cd83ed96aebaf"
   }
  }
 },
 "nbformat": 4,
 "nbformat_minor": 5
}
