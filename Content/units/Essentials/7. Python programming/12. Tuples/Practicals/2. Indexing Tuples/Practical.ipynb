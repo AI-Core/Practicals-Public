{
 "cells": [
  {
   "cell_type": "markdown",
   "id": "545b630a",
   "metadata": {},
   "source": [
    "# Indexing Tuples"
   ]
  },
  {
   "cell_type": "code",
   "execution_count": null,
   "id": "f933deea",
   "metadata": {},
   "outputs": [],
   "source": [
    "#@title ### Run the following cell to download the necessary files for this practical { display-mode: \"form\" } \n",
    "#@markdown Don't worry about what's in this collapsed cell\n",
    "\n",
    "print('Downloading the marking system')\n",
    "!wget https://s3-eu-west-1.amazonaws.com/aicore-portal-public-prod-307050600709/practical_files/25cde45f-b3bc-44c7-aef2-2d6b553186e8/marking_system.py -q -O marking_system.py\n",
    "import marking_system\n",
    "import importlib\n",
    "importlib.reload(marking_system)\n",
    "import sys\n",
    "ipython = get_ipython()\n",
    "def hide_traceback(exc_tuple=None, filename=None, tb_offset=None, exception_only=False, running_compiled_code=False):\n",
    "    etype, value, tb = sys.exc_info()\n",
    "    value.__cause__ = None  # suppress chained exceptions\n",
    "    return ipython._showtraceback(etype, \"❌ \" + f\"\u001b[91m{value}\", ipython.InteractiveTB.get_exception_only(etype, \"❌ \" + f\"\u001b[91m{value}\"))\n",
    "ipython.showtraceback = hide_traceback\n"
   ]
  },
  {
   "attachments": {},
   "cell_type": "markdown",
   "id": "ffde8a93",
   "metadata": {},
   "source": [
    "### Given the following tuple"
   ]
  },
  {
   "cell_type": "code",
   "execution_count": null,
   "id": "f39d26ef",
   "metadata": {},
   "outputs": [],
   "source": [
    "vowels = ('a', 'e', 'i', 'o', 'i', 'u')\n"
   ]
  },
  {
   "attachments": {},
   "cell_type": "markdown",
   "id": "4e9c7de7",
   "metadata": {},
   "source": [
    "### 1. Find the first occurrence of `e` element and assign it to a variable called `first_e`\n",
    "\n",
    "_Hint: Use the `index()` method_"
   ]
  },
  {
   "cell_type": "code",
   "execution_count": null,
   "id": "a4252213",
   "metadata": {},
   "outputs": [],
   "source": [
    "# TODO - find the index of the first 'e' in the tuple\n"
   ]
  },
  {
   "cell_type": "code",
   "execution_count": null,
   "id": "a6cf9cae",
   "metadata": {},
   "outputs": [],
   "source": [
    "#@title #### Run this cell to check your answer { display-mode: \"form\", run: \"auto\" }\n",
    "\n",
    "assert \"first_e\" in globals(), \"You need to define the variable 'first_e'.\"\n",
    "marking_system.check_step_1(first_e)\n"
   ]
  },
  {
   "attachments": {},
   "cell_type": "markdown",
   "id": "ccf5eb31",
   "metadata": {},
   "source": [
    "### 2. Find the first occurrence of `i` element.\n",
    "\n",
    "Assign it to a variable called `first_i`"
   ]
  },
  {
   "cell_type": "code",
   "execution_count": null,
   "id": "daf5edee",
   "metadata": {},
   "outputs": [],
   "source": [
    "# TODO - find the index of the first 'i' in the tuple\n"
   ]
  },
  {
   "cell_type": "code",
   "execution_count": null,
   "id": "7df663be",
   "metadata": {},
   "outputs": [],
   "source": [
    "#@title #### Run this cell to check your answer { display-mode: \"form\", run: \"auto\" }\n",
    "\n",
    "assert \"first_i\" in globals(), \"You need to define the variable 'first_i'.\"\n",
    "\n",
    "#@markdown How many elements does `first_i` contain?\n",
    "ans = \"\" #@param [\"\", \"1\", \"2\", \"3\", \"4\"]\n",
    "\n",
    "marking_system.check_step_2(first_i, ans)\n"
   ]
  },
  {
   "attachments": {},
   "cell_type": "markdown",
   "id": "7cedae76",
   "metadata": {},
   "source": [
    "### 3. Find the first occurrence of `b` element. What does this return? What is the meaning of this error?"
   ]
  },
  {
   "cell_type": "code",
   "execution_count": null,
   "id": "6b5249e6",
   "metadata": {},
   "outputs": [],
   "source": [
    "# TODO - Try to find the index of 'b' in the tuple\n"
   ]
  },
  {
   "cell_type": "code",
   "execution_count": null,
   "id": "7bd16f5d",
   "metadata": {},
   "outputs": [],
   "source": [
    "#@title #### Run this cell to check your answer { display-mode: \"form\", run: \"auto\" }\n",
    "\n",
    "#@markdown What message do you get?\n",
    "ans = \"\" #@param [\"\", \"No message\", \"IndexError: tuple.index(x): x not in tuple\", \"ValueError: tuple.index(x): x not in tuple\", \"TypeError: tuple.index(x): x not in tuple\"]\n",
    "\n",
    "marking_system.check_step_3(ans)\n"
   ]
  },
  {
   "attachments": {},
   "cell_type": "markdown",
   "id": "21d25008",
   "metadata": {},
   "source": [
    "### 4. Find the first occurrence of `i` elements starting from index 4."
   ]
  },
  {
   "cell_type": "code",
   "execution_count": null,
   "id": "5c24300f",
   "metadata": {},
   "outputs": [],
   "source": [
    "letters_tuple = ('a', 'e', 'i', 'o', 'u', 'g', 'l', 'm', 'n', 'p', 'r', 's', 't', 'i', 'v', 'w', 'y')\n"
   ]
  },
  {
   "cell_type": "code",
   "execution_count": null,
   "id": "e516175e",
   "metadata": {},
   "outputs": [],
   "source": [
    "# TODO - find the index of the first 'i' in the tuple after index 4\n"
   ]
  },
  {
   "cell_type": "code",
   "execution_count": null,
   "id": "e5b0ce86",
   "metadata": {},
   "outputs": [],
   "source": [
    "#@title #### Enter your answer here { display-mode: \"form\", run: \"auto\" }\n",
    "\n",
    "#@markdown What is the index of the 'i' character starting from index 4?\n",
    "ans = \"\" #@param [\"\", \"4\", \"5\", \"6\", \"7\", \"8\", \"9\", \"10\", \"11\", \"12\", \"13\", \"14\", \"15\"]\n",
    "\n",
    "marking_system.check_step_4(ans)\n"
   ]
  }
 ],
 "metadata": {
  "kernelspec": {
   "display_name": "content-projects_new",
   "language": "python",
   "name": "python3"
  },
  "language_info": {
   "codemirror_mode": {
    "name": "ipython",
    "version": 3
   },
   "file_extension": ".py",
   "mimetype": "text/x-python",
   "name": "python",
   "nbconvert_exporter": "python",
   "pygments_lexer": "ipython3",
   "version": "3.10.8"
  },
  "vscode": {
   "interpreter": {
    "hash": "4b961f8166aad6ccb4cf65d0f9c742ef9c6c23ffe83ad932438cd83ed96aebaf"
   }
  }
 },
 "nbformat": 4,
 "nbformat_minor": 5
}
