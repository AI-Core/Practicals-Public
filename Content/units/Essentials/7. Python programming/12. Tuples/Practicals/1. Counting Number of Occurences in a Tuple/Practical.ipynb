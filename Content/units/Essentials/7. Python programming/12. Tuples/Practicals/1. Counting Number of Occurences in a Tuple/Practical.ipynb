{
 "cells": [
  {
   "cell_type": "markdown",
   "id": "e5bc15ed",
   "metadata": {},
   "source": [
    "# Counting Number of Occurences in a Tuple"
   ]
  },
  {
   "cell_type": "code",
   "execution_count": null,
   "id": "f55110c2",
   "metadata": {},
   "outputs": [],
   "source": [
    "#@title ### Run the following cell to download the necessary files for this practical { display-mode: \"form\" } \n",
    "#@markdown Don't worry about what's in this collapsed cell\n",
    "\n",
    "print('Downloading the marking system')\n",
    "!wget https://s3-eu-west-1.amazonaws.com/aicore-portal-public-prod-307050600709/practical_files/7bf6f6bf-84e6-4031-b63f-8d86be5d9945/marking_system.py -q -O marking_system.py\n",
    "import marking_system\n",
    "import importlib\n",
    "importlib.reload(marking_system)\n",
    "import sys\n",
    "ipython = get_ipython()\n",
    "def hide_traceback(exc_tuple=None, filename=None, tb_offset=None, exception_only=False, running_compiled_code=False):\n",
    "    etype, value, tb = sys.exc_info()\n",
    "    value.__cause__ = None  # suppress chained exceptions\n",
    "    return ipython._showtraceback(etype, \"❌ \" + f\"\u001b[91m{value}\", ipython.InteractiveTB.get_exception_only(etype, \"❌ \" + f\"\u001b[91m{value}\"))\n",
    "ipython.showtraceback = hide_traceback\n"
   ]
  },
  {
   "attachments": {},
   "cell_type": "markdown",
   "id": "925f968a",
   "metadata": {},
   "source": [
    "### Given the following tuple:"
   ]
  },
  {
   "cell_type": "code",
   "execution_count": null,
   "id": "cd4f8b58",
   "metadata": {},
   "outputs": [],
   "source": [
    "vowels = ('a', 'e', 'i', 'o', 'i', 'u')\n"
   ]
  },
  {
   "attachments": {},
   "cell_type": "markdown",
   "id": "b22128ba",
   "metadata": {},
   "source": [
    "### 1. Count the number of `i`'s in the tuple."
   ]
  },
  {
   "cell_type": "code",
   "execution_count": null,
   "id": "e243d202",
   "metadata": {},
   "outputs": [],
   "source": [
    "# TODO - Count the number of occurences of 'i' in the tuple\n"
   ]
  },
  {
   "cell_type": "code",
   "execution_count": null,
   "id": "8f664d8d",
   "metadata": {},
   "outputs": [],
   "source": [
    "#@title #### Enter your answer here { display-mode: \"form\", run: \"auto\" }\n",
    "\n",
    "#@markdown What method did you use to count the number of occurences of 'i' in the tuple?\n",
    "ans = \"\" #@param [\"len()\", \"count()\", \"index()\", \"sort()\", \"\"] \n",
    "marking_system.check_step_1(ans)\n"
   ]
  },
  {
   "attachments": {},
   "cell_type": "markdown",
   "id": "8197e816",
   "metadata": {},
   "source": [
    "### Given the following tuple:"
   ]
  },
  {
   "cell_type": "code",
   "execution_count": null,
   "id": "42f60ca0",
   "metadata": {},
   "outputs": [],
   "source": [
    "my_tuple = (1, 'f', [1, 2, 3], [4, 5], ('f', 'd'), ('f', 'd', 'e'), [1, 2, 3], 'a')\n"
   ]
  },
  {
   "attachments": {},
   "cell_type": "markdown",
   "id": "af683ae6",
   "metadata": {},
   "source": [
    "### 2. Count the number of `[1, 2, 3]`'s and `('f', 'd')`'s in the tuple.\n",
    "\n",
    "Assign each number to the variables `count_1`, and `count_2` respectively."
   ]
  },
  {
   "cell_type": "code",
   "execution_count": null,
   "id": "19d66d54",
   "metadata": {},
   "outputs": [],
   "source": [
    "# TODO - Count the number of occurences of [1, 2, 3] in the tuple\n",
    "# TODO - Count the number of occurences of ('f', 'd') in the tuple\n"
   ]
  },
  {
   "cell_type": "code",
   "execution_count": null,
   "id": "7d815c46",
   "metadata": {},
   "outputs": [],
   "source": [
    "#@title #### Run this cell to check your code { display-mode: \"form\", run: \"auto\" }\n",
    "assert \"my_tuple\" in globals(), \"You did not create the tuple.\"\n",
    "assert \"count_1\" in globals(), \"You did not use the 'count()' method to count the number of occurences of [1, 2, 3] in the tuple.\"\n",
    "assert \"count_2\" in globals(), \"You did not use the 'count()' method to count the number of occurences of ('f', 'd') in the tuple.\"\n",
    "\n",
    "marking_system.check_step_2(count_1, count_2, my_tuple)\n"
   ]
  }
 ],
 "metadata": {
  "kernelspec": {
   "display_name": "content-projects_new",
   "language": "python",
   "name": "python3"
  },
  "language_info": {
   "codemirror_mode": {
    "name": "ipython",
    "version": 3
   },
   "file_extension": ".py",
   "mimetype": "text/x-python",
   "name": "python",
   "nbconvert_exporter": "python",
   "pygments_lexer": "ipython3",
   "version": "3.9.15"
  },
  "vscode": {
   "interpreter": {
    "hash": "4b961f8166aad6ccb4cf65d0f9c742ef9c6c23ffe83ad932438cd83ed96aebaf"
   }
  }
 },
 "nbformat": 4,
 "nbformat_minor": 5
}
