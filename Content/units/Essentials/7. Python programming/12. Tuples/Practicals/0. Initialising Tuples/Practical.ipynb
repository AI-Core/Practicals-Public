{
 "cells": [
  {
   "cell_type": "markdown",
   "id": "be99e903",
   "metadata": {},
   "source": [
    "# Initialising Tuples"
   ]
  },
  {
   "cell_type": "code",
   "execution_count": null,
   "id": "a5313338",
   "metadata": {},
   "outputs": [],
   "source": [
    "#@title ### Run the following cell to download the necessary files for this practical { display-mode: \"form\" } \n",
    "#@markdown Don't worry about what's in this collapsed cell\n",
    "\n",
    "print('Downloading the marking system')\n",
    "!wget https://s3-eu-west-1.amazonaws.com/aicore-portal-public-prod-307050600709/practical_files/7de11d53-0f58-4188-bef9-1eaa1df42634/marking_system.py -q -O marking_system.py\n",
    "import marking_system\n",
    "import importlib\n",
    "importlib.reload(marking_system)\n",
    "import sys\n",
    "ipython = get_ipython()\n",
    "def hide_traceback(exc_tuple=None, filename=None, tb_offset=None, exception_only=False, running_compiled_code=False):\n",
    "    etype, value, tb = sys.exc_info()\n",
    "    value.__cause__ = None  # suppress chained exceptions\n",
    "    return ipython._showtraceback(etype, \"❌ \" + f\"\u001b[91m{value}\", ipython.InteractiveTB.get_exception_only(etype, \"❌ \" + f\"\u001b[91m{value}\"))\n",
    "ipython.showtraceback = hide_traceback\n"
   ]
  },
  {
   "attachments": {},
   "cell_type": "markdown",
   "id": "dfe0bbf7",
   "metadata": {},
   "source": [
    "#### 1. Create an empty tuple without Python's built-in function.\n",
    "\n",
    "Assign the tuple to a variable named `empty_tuple`."
   ]
  },
  {
   "cell_type": "code",
   "execution_count": null,
   "id": "9f8c33b6",
   "metadata": {},
   "outputs": [],
   "source": [
    "# TODO - Create an empty tuple without using the tuple() function\n"
   ]
  },
  {
   "cell_type": "code",
   "execution_count": null,
   "id": "e75d6dcf",
   "metadata": {},
   "outputs": [],
   "source": [
    "#@title #### Run this cell to check your code { display-mode: \"form\", run: \"auto\" }\n",
    "\n",
    "assert \"empty_tuple\" in globals(), \"You need to create an empty tuple without using the tuple() function.\"\n",
    "marking_system.check_step_1(empty_tuple)\n"
   ]
  },
  {
   "attachments": {},
   "cell_type": "markdown",
   "id": "c750c048",
   "metadata": {},
   "source": [
    "### 2. Create an empty tuple with Python's built-in function\n",
    "\n",
    "Assign the tuple to a variable named `empty_tuple_2`."
   ]
  },
  {
   "cell_type": "code",
   "execution_count": null,
   "id": "da5c13cb",
   "metadata": {},
   "outputs": [],
   "source": [
    "# TODO - Create an empty tuple using the tuple() function\n"
   ]
  },
  {
   "cell_type": "code",
   "execution_count": null,
   "id": "03458a5f",
   "metadata": {},
   "outputs": [],
   "source": [
    "#@title #### Enter your answer here { display-mode: \"form\", run: \"auto\" }\n",
    "\n",
    "assert \"empty_tuple\" in globals(), \"You need to create an empty tuple without using the tuple() function.\"\n",
    "assert \"empty_tuple_2\" in globals(), \"You need to create an empty tuple using the tuple() function.\"\n",
    "#@markdown Is there any difference between the two methods?\n",
    "ans = \"\" #@param [\"\", \"Yes\", \"No\"]\n",
    "marking_system.check_step_2(empty_tuple, empty_tuple_2, ans)\n"
   ]
  },
  {
   "attachments": {},
   "cell_type": "markdown",
   "id": "99733851",
   "metadata": {},
   "source": [
    "#### 3. Create two tuples that contains three different data types\n",
    "\n",
    "Assign the tuple to a variable named `my_tuple_1` and `my_tuple_2`."
   ]
  },
  {
   "cell_type": "code",
   "execution_count": null,
   "id": "04a00ca1",
   "metadata": {},
   "outputs": [],
   "source": [
    "# TODO - Create a tuple with three elements with different data types\n",
    "# TODO - Create a tuple with three elements with different data types\n"
   ]
  },
  {
   "attachments": {},
   "cell_type": "markdown",
   "id": "4c895ac3",
   "metadata": {},
   "source": [
    "#### 4. Merge the two tuples created in the previous question using the `+` operator\n",
    "\n",
    "Assign the tuple to a variable named `my_tuple_3`."
   ]
  },
  {
   "cell_type": "code",
   "execution_count": null,
   "id": "83d5a957",
   "metadata": {},
   "outputs": [],
   "source": [
    "# TODO - Create a new tuple by concatenating my_tuple_1 and my_tuple_2\n"
   ]
  },
  {
   "cell_type": "code",
   "execution_count": null,
   "id": "b9b09d12",
   "metadata": {},
   "outputs": [],
   "source": [
    "#@title #### Check your answer here { display-mode: \"form\", run: \"auto\" }\n",
    "\n",
    "assert \"my_tuple_1\" in globals(), \"The variable 'my_tuple_1' does not exist. Please, try again.\"\n",
    "assert \"my_tuple_2\" in globals(), \"The variable 'my_tuple_2' does not exist. Please, try again.\"\n",
    "assert \"my_tuple_3\" in globals(), \"The variable 'my_tuple_3' does not exist. Please, try again.\"\n",
    "marking_system.check_step_3(my_tuple_1, my_tuple_2, my_tuple_3)\n"
   ]
  },
  {
   "cell_type": "code",
   "execution_count": null,
   "id": "f4f89c03",
   "metadata": {},
   "outputs": [],
   "source": []
  }
 ],
 "metadata": {
  "kernelspec": {
   "display_name": "content-projects_new",
   "language": "python",
   "name": "python3"
  },
  "language_info": {
   "codemirror_mode": {
    "name": "ipython",
    "version": 3
   },
   "file_extension": ".py",
   "mimetype": "text/x-python",
   "name": "python",
   "nbconvert_exporter": "python",
   "pygments_lexer": "ipython3",
   "version": "3.10.8"
  },
  "vscode": {
   "interpreter": {
    "hash": "4b961f8166aad6ccb4cf65d0f9c742ef9c6c23ffe83ad932438cd83ed96aebaf"
   }
  }
 },
 "nbformat": 4,
 "nbformat_minor": 5
}
