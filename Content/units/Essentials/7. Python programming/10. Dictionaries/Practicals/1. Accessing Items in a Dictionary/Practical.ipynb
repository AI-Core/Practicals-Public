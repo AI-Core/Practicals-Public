{
 "cells": [
  {
   "cell_type": "markdown",
   "id": "5d71a15b",
   "metadata": {},
   "source": [
    "# Accessing Items in a Dictionary"
   ]
  },
  {
   "cell_type": "code",
   "execution_count": null,
   "id": "75fe179b",
   "metadata": {},
   "outputs": [],
   "source": [
    "#@title ### Run the following cell to download the necessary files for this practical { display-mode: \"form\" } \n",
    "#@markdown Don't worry about what's in this collapsed cell\n",
    "\n",
    "print('Downloading the marking system')\n",
    "!wget https://s3-eu-west-1.amazonaws.com/aicore-portal-public-prod-307050600709/practical_files/28095a28-576f-4683-9d9a-886d43d3f583/marking_system.py -q -O marking_system.py\n",
    "import marking_system\n",
    "import importlib\n",
    "importlib.reload(marking_system)\n",
    "import sys\n",
    "ipython = get_ipython()\n",
    "def hide_traceback(exc_tuple=None, filename=None, tb_offset=None, exception_only=False, running_compiled_code=False):\n",
    "    etype, value, tb = sys.exc_info()\n",
    "    value.__cause__ = None  # suppress chained exceptions\n",
    "    return ipython._showtraceback(etype, \"❌ \" + f\"\u001b[91m{value}\", ipython.InteractiveTB.get_exception_only(etype, \"❌ \" + f\"\u001b[91m{value}\"))\n",
    "ipython.showtraceback = hide_traceback\n"
   ]
  },
  {
   "attachments": {},
   "cell_type": "markdown",
   "id": "9a0ae94f",
   "metadata": {},
   "source": [
    "### 1. Create a variable called `my_dict` and assign it the value `{\"key_1\": 1, \"key_2\": 2}`"
   ]
  },
  {
   "cell_type": "code",
   "execution_count": null,
   "id": "52f97b75",
   "metadata": {},
   "outputs": [],
   "source": [
    "# TODO - Create the variable called my_dict\n"
   ]
  },
  {
   "cell_type": "code",
   "execution_count": null,
   "id": "ac1afcdf",
   "metadata": {},
   "outputs": [],
   "source": [
    "#@title #### Run this cell to check your answer { display-mode: \"form\", run: \"auto\" }\n",
    "\n",
    "assert \"my_dict\" in globals(), \"The variable 'my_dict' does not exist. Please, create it.\"\n",
    "marking_system.check_step_1(my_dict)\n"
   ]
  },
  {
   "attachments": {},
   "cell_type": "markdown",
   "id": "2b0f13b2",
   "metadata": {},
   "source": [
    "### 2. Assign the values corresponding to the key `\"key_1\"` and `\"key_2\"` to variables.\n",
    "\n",
    "Create 2 variables called `key_1` and `key_2` and assign them the values corresponding to the keys `\"key_1\"` and `\"key_2\"`."
   ]
  },
  {
   "cell_type": "code",
   "execution_count": null,
   "id": "d1994fcc",
   "metadata": {},
   "outputs": [],
   "source": [
    "# TODO - Access the value of the key \"key_1\" in the dictionary my_dict\n",
    "# TODO - Access the value of the key \"key_2\" in the dictionary my_dict\n"
   ]
  },
  {
   "cell_type": "code",
   "execution_count": null,
   "id": "a6bfbc64",
   "metadata": {},
   "outputs": [],
   "source": [
    "#@title #### Enter your solution here { display-mode: \"form\", run: \"auto\" }\n",
    "\n",
    "assert \"my_dict\" in globals(), \"The variable 'my_dict' does not exist. Please, create it.\"\n",
    "assert \"key_1\" in globals(), \"The variable 'key_1' does not exist. Please, create it.\"\n",
    "assert \"key_2\" in globals(), \"The variable 'key_2' does not exist. Please, create it.\"\n",
    "#@markdown How did you access the values of key_1?\n",
    "ans_1 = \"\" #@param [\"my_dict('key_1')\", \"my_dict['key_1']\", \"my_dict.key_1\", \"my_dict.key_1()\", \"\"]\n",
    "#@markdown How did you access the values of key_2?\n",
    "ans_2 = \"\" #@param [\"my_dict('key_2')\", \"my_dict['key_2']\", \"my_dict.key_2\", \"my_dict.key_2()\", \"\"]\n",
    "marking_system.check_step_2(my_dict, key_1, key_2, ans_1, ans_2)\n"
   ]
  },
  {
   "attachments": {},
   "cell_type": "markdown",
   "id": "901004fa",
   "metadata": {},
   "source": [
    "### 3. What happens if you try to access the value corresponding to the key `\"key_3\"`?"
   ]
  },
  {
   "cell_type": "code",
   "execution_count": null,
   "id": "541ebb7e",
   "metadata": {},
   "outputs": [],
   "source": [
    "# TODO - Try to access a key that does not exist in the dictionary\n"
   ]
  },
  {
   "cell_type": "code",
   "execution_count": null,
   "id": "4260947c",
   "metadata": {},
   "outputs": [],
   "source": [
    "#@title #### Enter your solution here { display-mode: \"form\", run: \"auto\" }\n",
    "\n",
    "assert \"my_dict\" in globals(), \"The variable 'my_dict' does not exist. Please, create it.\"\n",
    "#@markdown What happens when you try to access the value of \"key_3\"?\n",
    "ans = \"\" #@param [\"KeyError\", \"None\", \"Nothing happens\", \"The program crashes\", \"\"]\n",
    "marking_system.check_step_3(my_dict, ans)\n"
   ]
  },
  {
   "attachments": {},
   "cell_type": "markdown",
   "id": "661b3d7b",
   "metadata": {},
   "source": [
    "### 4. Get all the keys of `my_dict` and assign them to a variable called `my_keys`.\n",
    "\n",
    "_Hint: Use the `keys()` method_"
   ]
  },
  {
   "cell_type": "code",
   "execution_count": null,
   "id": "b47c2540",
   "metadata": {},
   "outputs": [],
   "source": [
    "# TODO - Get the keys of the dictionary my_dict and store them in the variable my_keys\n"
   ]
  },
  {
   "cell_type": "code",
   "execution_count": null,
   "id": "7e0b1d92",
   "metadata": {},
   "outputs": [],
   "source": [
    "expected_keys = my_dict.keys()\n",
    "\n",
    "assert my_keys == expected_keys, \"The variable 'my_keys' does not contain the keys of the dictionary 'my_dict'.\"\n"
   ]
  },
  {
   "cell_type": "code",
   "execution_count": null,
   "id": "5a0691b4",
   "metadata": {},
   "outputs": [],
   "source": [
    "#@title #### Run this cell to check your answer { display-mode: \"form\", run: \"auto\" }\n",
    "\n",
    "assert \"my_dict\" in globals(), \"The variable 'my_dict' does not exist. Please, create it.\"\n",
    "assert \"my_keys\" in globals(), \"The variable 'my_keys' does not exist. Please, create it.\"\n",
    "marking_system.check_step_4(my_dict, my_keys)\n"
   ]
  },
  {
   "attachments": {},
   "cell_type": "markdown",
   "id": "2db853a4",
   "metadata": {},
   "source": [
    "### 5. Get all the values of `my_dict` and assign them to a variable called `my_values`.\n",
    "\n",
    "_Hint: Use the `values()` method_"
   ]
  },
  {
   "cell_type": "code",
   "execution_count": null,
   "id": "7446b3a2",
   "metadata": {},
   "outputs": [],
   "source": [
    "# TODO - Get the values of the dictionary my_dict and store them in the variable my_values\n"
   ]
  },
  {
   "cell_type": "code",
   "execution_count": null,
   "id": "763954e5",
   "metadata": {},
   "outputs": [],
   "source": [
    "#@title #### Run this cell to check your answer { display-mode: \"form\", run: \"auto\" }\n",
    "\n",
    "assert \"my_dict\" in globals(), \"The variable 'my_dict' does not exist. Please, create it.\"\n",
    "assert \"my_values\" in globals(), \"The variable 'my_values' does not exist. Please, create it.\"\n",
    "marking_system.check_step_5(my_dict, my_values)\n"
   ]
  },
  {
   "attachments": {},
   "cell_type": "markdown",
   "id": "f00f09b3",
   "metadata": {},
   "source": [
    "### 6. Print the items of `my_dict` and assign it to a variable called `my_items`.\n",
    "\n",
    "_Hint: Use the `items()` method_\n",
    "\n",
    "Print `my_items` and see what you get."
   ]
  },
  {
   "cell_type": "code",
   "execution_count": null,
   "id": "71a0351e",
   "metadata": {},
   "outputs": [],
   "source": [
    "# TODO - Get the items of the dictionary my_dict and store them in the variable my_items\n",
    "# TODO - Print the variable my_items\n"
   ]
  },
  {
   "cell_type": "code",
   "execution_count": null,
   "id": "2fbdac0c",
   "metadata": {},
   "outputs": [],
   "source": [
    "#@title #### Run this cell to check your answer { display-mode: \"form\", run: \"auto\" }\n",
    "\n",
    "assert \"my_dict\" in globals(), \"The variable 'my_dict' does not exist. Please, create it.\"\n",
    "assert \"my_items\" in globals(), \"The variable 'my_items' does not exist. Please, create it.\"\n",
    "#@markdown The type of my_items is a dict_items. You can convert it to a list by using the list() function. Inside the list, what is the type of each item?\n",
    "ans = \"\" #@param [\"list\", \"tuple\", \"dict\", \"int\", \"\"]\n",
    "marking_system.check_step_6(my_dict, my_items, ans)\n"
   ]
  }
 ],
 "metadata": {
  "kernelspec": {
   "display_name": "content-projects_new",
   "language": "python",
   "name": "python3"
  },
  "language_info": {
   "codemirror_mode": {
    "name": "ipython",
    "version": 3
   },
   "file_extension": ".py",
   "mimetype": "text/x-python",
   "name": "python",
   "nbconvert_exporter": "python",
   "pygments_lexer": "ipython3",
   "version": "3.10.8"
  },
  "vscode": {
   "interpreter": {
    "hash": "4b961f8166aad6ccb4cf65d0f9c742ef9c6c23ffe83ad932438cd83ed96aebaf"
   }
  }
 },
 "nbformat": 4,
 "nbformat_minor": 5
}
