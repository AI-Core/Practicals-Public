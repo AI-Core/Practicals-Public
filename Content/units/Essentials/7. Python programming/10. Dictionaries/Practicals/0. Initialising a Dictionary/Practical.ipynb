{
 "cells": [
  {
   "cell_type": "markdown",
   "id": "2794d541",
   "metadata": {},
   "source": [
    "# Initialising a Dictionary"
   ]
  },
  {
   "cell_type": "code",
   "execution_count": null,
   "id": "a82f8629",
   "metadata": {},
   "outputs": [],
   "source": [
    "#@title ### Run the following cell to download the necessary files for this practical { display-mode: \"form\" } \n",
    "#@markdown Don't worry about what's in this collapsed cell\n",
    "\n",
    "print('Downloading the marking system')\n",
    "!wget https://s3-eu-west-1.amazonaws.com/aicore-portal-public-prod-307050600709/practical_files/a2fca72c-fd8a-4f7a-8127-2f726b6b1603/marking_system.py -q -O marking_system.py\n",
    "import marking_system\n",
    "import importlib\n",
    "importlib.reload(marking_system)\n",
    "import sys\n",
    "ipython = get_ipython()\n",
    "def hide_traceback(exc_tuple=None, filename=None, tb_offset=None, exception_only=False, running_compiled_code=False):\n",
    "    etype, value, tb = sys.exc_info()\n",
    "    value.__cause__ = None  # suppress chained exceptions\n",
    "    return ipython._showtraceback(etype, \"❌ \" + f\"\u001b[91m{value}\", ipython.InteractiveTB.get_exception_only(etype, \"❌ \" + f\"\u001b[91m{value}\"))\n",
    "ipython.showtraceback = hide_traceback\n"
   ]
  },
  {
   "attachments": {},
   "cell_type": "markdown",
   "id": "6b548bbc",
   "metadata": {},
   "source": [
    "### 1. Create a variable called `my_dict` and assign it the value `{}`.\n",
    "\n",
    "Print the type of `my_dict`."
   ]
  },
  {
   "cell_type": "code",
   "execution_count": null,
   "id": "f2b3b1b5",
   "metadata": {},
   "outputs": [],
   "source": [
    "# TODO - Create a variable called my_dict and assign it {}\n",
    "# TODO - Print the type of my_dict\n"
   ]
  },
  {
   "cell_type": "code",
   "execution_count": null,
   "id": "1d86aa9c",
   "metadata": {},
   "outputs": [],
   "source": [
    "#@title #### Enter your solution here { display-mode: \"form\", run: \"auto\" }\n",
    "\n",
    "assert \"my_dict\" in globals(), \"The variable 'my_dict' does not exist. Please, create it.\"\n",
    "#@markdown What is the type of my_dict?\n",
    "ans = \"\" #@param [\"int\", \"float\", \"str\", \"list\", \"tuple\", \"set\", \"dict\", \"bool\", \"\"]\n",
    "marking_system.check_step_1(my_dict, ans)\n"
   ]
  },
  {
   "attachments": {},
   "cell_type": "markdown",
   "id": "7a696ca9",
   "metadata": {},
   "source": [
    "### 2. Now, create a variable called `my_var` and assign it the value `{4}`\n",
    "\n",
    "Print the type of `my_var`."
   ]
  },
  {
   "cell_type": "code",
   "execution_count": null,
   "id": "ee4a7830",
   "metadata": {},
   "outputs": [],
   "source": [
    "# TODO - Create a variable called my_var and assign it {4}\n",
    "# TODO - Print the type of my_var\n"
   ]
  },
  {
   "cell_type": "code",
   "execution_count": null,
   "id": "1193c40b",
   "metadata": {},
   "outputs": [],
   "source": [
    "#@title #### Enter your solution here { display-mode: \"form\", run: \"auto\" }\n",
    "\n",
    "assert \"my_var\" in globals(), \"The variable 'my_var' does not exist. Please, create it.\"\n",
    "#@markdown What is the type of my_var?\n",
    "ans = \"\" #@param [\"int\", \"float\", \"str\", \"list\", \"tuple\", \"set\", \"dict\", \"bool\", \"\"]\n",
    "marking_system.check_step_2(my_var, ans)\n"
   ]
  },
  {
   "attachments": {},
   "cell_type": "markdown",
   "id": "7ffb24ec",
   "metadata": {},
   "source": [
    "### 3. Finally, create a variable called `my_var_2` and assign it the value `{4: 5}`\n",
    "\n",
    "Print the type of `my_var_2`."
   ]
  },
  {
   "cell_type": "code",
   "execution_count": null,
   "id": "2a9eea8a",
   "metadata": {},
   "outputs": [],
   "source": [
    "# TODO - Create a variable called my_var_2 and assign it {4: 5}\n",
    "# TODO - Print the type of my_var_2\n"
   ]
  },
  {
   "cell_type": "code",
   "execution_count": null,
   "id": "f99a1057",
   "metadata": {},
   "outputs": [],
   "source": [
    "#@title #### Enter your solution here { display-mode: \"form\", run: \"auto\" }\n",
    "\n",
    "assert \"my_var_2\" in globals(), \"The variable 'my_var_2' does not exist. Please, create it.\"\n",
    "#@markdown What is the type of my_var_2?\n",
    "ans = \"\" #@param [\"int\", \"float\", \"str\", \"list\", \"tuple\", \"set\", \"dict\", \"bool\", \"\"]\n",
    "marking_system.check_step_3(my_var_2, ans)\n"
   ]
  }
 ],
 "metadata": {
  "kernelspec": {
   "display_name": "content-projects_new",
   "language": "python",
   "name": "python3"
  },
  "language_info": {
   "name": "python",
   "version": "3.10.8"
  },
  "vscode": {
   "interpreter": {
    "hash": "4b961f8166aad6ccb4cf65d0f9c742ef9c6c23ffe83ad932438cd83ed96aebaf"
   }
  }
 },
 "nbformat": 4,
 "nbformat_minor": 5
}
