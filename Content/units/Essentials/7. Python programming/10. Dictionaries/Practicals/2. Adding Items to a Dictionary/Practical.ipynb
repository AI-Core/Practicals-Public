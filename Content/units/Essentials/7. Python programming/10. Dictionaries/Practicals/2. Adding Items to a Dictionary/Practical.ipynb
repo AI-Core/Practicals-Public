{
 "cells": [
  {
   "cell_type": "markdown",
   "id": "597cace2",
   "metadata": {},
   "source": [
    "# Adding Items to a Dictionary"
   ]
  },
  {
   "cell_type": "code",
   "execution_count": null,
   "id": "3add5045",
   "metadata": {},
   "outputs": [],
   "source": [
    "#@title ### Run the following cell to download the necessary files for this practical { display-mode: \"form\" } \n",
    "#@markdown Don't worry about what's in this collapsed cell\n",
    "\n",
    "print('Downloading the marking system')\n",
    "!wget https://s3-eu-west-1.amazonaws.com/aicore-portal-public-prod-307050600709/practical_files/c964189b-9d49-4c6b-a27d-1d8c13647f59/marking_system.py -q -O marking_system.py\n",
    "import marking_system\n",
    "import importlib\n",
    "importlib.reload(marking_system)\n",
    "import sys\n",
    "ipython = get_ipython()\n",
    "def hide_traceback(exc_tuple=None, filename=None, tb_offset=None, exception_only=False, running_compiled_code=False):\n",
    "    etype, value, tb = sys.exc_info()\n",
    "    value.__cause__ = None  # suppress chained exceptions\n",
    "    return ipython._showtraceback(etype, \"❌ \" + f\"\u001b[91m{value}\", ipython.InteractiveTB.get_exception_only(etype, \"❌ \" + f\"\u001b[91m{value}\"))\n",
    "ipython.showtraceback = hide_traceback\n"
   ]
  },
  {
   "attachments": {},
   "cell_type": "markdown",
   "id": "be9b46a3",
   "metadata": {},
   "source": [
    "### 1. Create a variable called `my_dict` and assign it the value `{\"key_1\": 1, \"key_2\": 2}`"
   ]
  },
  {
   "cell_type": "code",
   "execution_count": null,
   "id": "3a9ced68",
   "metadata": {},
   "outputs": [],
   "source": [
    "# TODO - Create a variable called my_dict and assign it a dictionary with two key-value pairs.\n"
   ]
  },
  {
   "attachments": {},
   "cell_type": "markdown",
   "id": "3bd1ffc0",
   "metadata": {},
   "source": [
    "### 2. Add a new key called `key_3` with the value `3` using indexing."
   ]
  },
  {
   "cell_type": "code",
   "execution_count": null,
   "id": "3c72bb19",
   "metadata": {},
   "outputs": [],
   "source": [
    "# TODO - Add a new key-value pair to my_dict with the key \"key_3\" and the value 3.\n"
   ]
  },
  {
   "cell_type": "code",
   "execution_count": null,
   "id": "bf4983d6",
   "metadata": {},
   "outputs": [],
   "source": [
    "#@title #### Run this cell to check your answer { display-mode: \"form\", run: \"auto\" }\n",
    "\n",
    "assert \"my_dict\" in globals(), \"The variable 'my_dict' does not exist. Please, create it.\"\n",
    "marking_system.check_step_1(my_dict)\n"
   ]
  },
  {
   "attachments": {},
   "cell_type": "markdown",
   "id": "f06f10be",
   "metadata": {},
   "source": [
    "### 3. Add a new key called `key_4` with the value `4` using the `update()` method"
   ]
  },
  {
   "cell_type": "code",
   "execution_count": null,
   "id": "843a1f62",
   "metadata": {},
   "outputs": [],
   "source": [
    "# TODO - Add a new key-value pair to my_dict with key \"key_4\" and value 4 using the update method.\n"
   ]
  },
  {
   "cell_type": "code",
   "execution_count": null,
   "id": "81b945e7",
   "metadata": {},
   "outputs": [],
   "source": [
    "#@title #### Run this cell to check your answer { display-mode: \"form\", run: \"auto\" }\n",
    "\n",
    "assert \"my_dict\" in globals(), \"The variable 'my_dict' does not exist. Please, create it.\"\n",
    "#@markdown What's the type of the argument you have to pass to the update method?\n",
    "ans = \"\" #@param [\"dictionary\", \"list\", \"tuple\", \"string\", \"\"]\n",
    "marking_system.check_step_2(my_dict, ans)\n"
   ]
  }
 ],
 "metadata": {
  "kernelspec": {
   "display_name": "content-projects_new",
   "language": "python",
   "name": "python3"
  },
  "language_info": {
   "codemirror_mode": {
    "name": "ipython",
    "version": 3
   },
   "file_extension": ".py",
   "mimetype": "text/x-python",
   "name": "python",
   "nbconvert_exporter": "python",
   "pygments_lexer": "ipython3",
   "version": "3.10.8"
  },
  "vscode": {
   "interpreter": {
    "hash": "4b961f8166aad6ccb4cf65d0f9c742ef9c6c23ffe83ad932438cd83ed96aebaf"
   }
  }
 },
 "nbformat": 4,
 "nbformat_minor": 5
}
