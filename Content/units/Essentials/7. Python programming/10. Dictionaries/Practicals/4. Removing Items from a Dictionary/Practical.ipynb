{
 "cells": [
  {
   "cell_type": "markdown",
   "id": "e68fda91",
   "metadata": {},
   "source": [
    "# Removing Items from a Dictionary"
   ]
  },
  {
   "cell_type": "code",
   "execution_count": null,
   "id": "8149dbac",
   "metadata": {},
   "outputs": [],
   "source": [
    "#@title ### Run the following cell to download the necessary files for this practical { display-mode: \"form\" } \n",
    "#@markdown Don't worry about what's in this collapsed cell\n",
    "\n",
    "print('Downloading the marking system')\n",
    "!wget https://s3-eu-west-1.amazonaws.com/aicore-portal-public-prod-307050600709/practical_files/5fc67e29-3d5b-43ec-bba5-ab808f62ee69/marking_system.py -q -O marking_system.py\n",
    "import marking_system\n",
    "import importlib\n",
    "importlib.reload(marking_system)\n",
    "import sys\n",
    "ipython = get_ipython()\n",
    "def hide_traceback(exc_tuple=None, filename=None, tb_offset=None, exception_only=False, running_compiled_code=False):\n",
    "    etype, value, tb = sys.exc_info()\n",
    "    value.__cause__ = None  # suppress chained exceptions\n",
    "    return ipython._showtraceback(etype, \"❌ \" + f\"\u001b[91m{value}\", ipython.InteractiveTB.get_exception_only(etype, \"❌ \" + f\"\u001b[91m{value}\"))\n",
    "ipython.showtraceback = hide_traceback\n"
   ]
  },
  {
   "attachments": {},
   "cell_type": "markdown",
   "id": "b005ad90",
   "metadata": {},
   "source": [
    "### Given the following dictionary:"
   ]
  },
  {
   "cell_type": "code",
   "execution_count": null,
   "id": "3362ed78",
   "metadata": {},
   "outputs": [],
   "source": [
    "my_dict = {\"key_1\": 1, \"key_2\": 2, \"key_3\": 3}\n"
   ]
  },
  {
   "attachments": {},
   "cell_type": "markdown",
   "id": "66982c13",
   "metadata": {},
   "source": [
    "### 1. Delete the key-value pair with the key `key_1`.\n",
    "\n",
    "Use the `del` keyword to delete the key-value pair with the key `key_1`.\n",
    "\n"
   ]
  },
  {
   "cell_type": "code",
   "execution_count": null,
   "id": "c56dc0d1",
   "metadata": {},
   "outputs": [],
   "source": [
    "# TODO - Use the del keyword to remove the key \"key_1\" from the dictionary\n"
   ]
  },
  {
   "cell_type": "code",
   "execution_count": null,
   "id": "273e0ba4",
   "metadata": {},
   "outputs": [],
   "source": [
    "#@title #### Run this cell to check your answer { display-mode: \"form\", run: \"auto\" }\n",
    "\n",
    "assert \"my_dict\" in globals(), \"The variable 'my_dict' does not exist. Please, create it.\"\n",
    "#@markdown What do you need to add after the `del` keyword to remove the key-value pair with key `\"key_1\"` from the dictionary `my_dict`?\n",
    "ans = \"\" #@param [\"\", \"del key_1\", \"del my_dict['key_1']\", \"del my_dict.key_1\", \"del my_dict.key_1()\"]\n",
    "marking_system.check_step_1(my_dict, ans)\n"
   ]
  },
  {
   "attachments": {},
   "cell_type": "markdown",
   "id": "0db8491f",
   "metadata": {},
   "source": [
    "### 2. Remove `key_2` from `my_dict`\n",
    "\n",
    "Use the pop method to remove it. Create a new variable called `my_value` and assign the output of the pop method to it."
   ]
  },
  {
   "cell_type": "code",
   "execution_count": null,
   "id": "a19264eb",
   "metadata": {},
   "outputs": [],
   "source": [
    "# TODO - Use the pop() method to remove the key \"key_2\" from the dictionary and assign the value to the variable my_value\n"
   ]
  },
  {
   "cell_type": "code",
   "execution_count": null,
   "id": "b583eb46",
   "metadata": {},
   "outputs": [],
   "source": [
    "#@title #### Run this cell to check your answer { display-mode: \"form\", run: \"auto\" }\n",
    "\n",
    "assert \"my_dict\" in globals(), \"The variable 'my_dict' does not exist. Please, create it.\"\n",
    "assert \"my_value\" in globals(), \"The variable 'my_value' does not exist. Please, create it.\"\n",
    "marking_system.check_step_2(my_dict, my_value)\n"
   ]
  }
 ],
 "metadata": {
  "kernelspec": {
   "display_name": "content-projects_new",
   "language": "python",
   "name": "python3"
  },
  "language_info": {
   "codemirror_mode": {
    "name": "ipython",
    "version": 3
   },
   "file_extension": ".py",
   "mimetype": "text/x-python",
   "name": "python",
   "nbconvert_exporter": "python",
   "pygments_lexer": "ipython3",
   "version": "3.10.8"
  },
  "vscode": {
   "interpreter": {
    "hash": "4b961f8166aad6ccb4cf65d0f9c742ef9c6c23ffe83ad932438cd83ed96aebaf"
   }
  }
 },
 "nbformat": 4,
 "nbformat_minor": 5
}
