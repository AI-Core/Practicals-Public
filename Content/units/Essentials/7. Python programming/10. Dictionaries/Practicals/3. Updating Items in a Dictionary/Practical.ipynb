{
 "cells": [
  {
   "cell_type": "markdown",
   "id": "a2521d48",
   "metadata": {},
   "source": [
    "# Updating Items in a Dictionary"
   ]
  },
  {
   "cell_type": "code",
   "execution_count": null,
   "id": "e26825cf",
   "metadata": {},
   "outputs": [],
   "source": [
    "#@title ### Run the following cell to download the necessary files for this practical { display-mode: \"form\" } \n",
    "#@markdown Don't worry about what's in this collapsed cell\n",
    "\n",
    "print('Downloading the marking system')\n",
    "!wget https://s3-eu-west-1.amazonaws.com/aicore-portal-public-prod-307050600709/practical_files/ad2cde9e-a56f-4a25-a1bd-e059f0ff1700/marking_system.py -q -O marking_system.py\n",
    "import marking_system\n",
    "import importlib\n",
    "importlib.reload(marking_system)\n",
    "import sys\n",
    "ipython = get_ipython()\n",
    "def hide_traceback(exc_tuple=None, filename=None, tb_offset=None, exception_only=False, running_compiled_code=False):\n",
    "    etype, value, tb = sys.exc_info()\n",
    "    value.__cause__ = None  # suppress chained exceptions\n",
    "    return ipython._showtraceback(etype, \"❌ \" + f\"\u001b[91m{value}\", ipython.InteractiveTB.get_exception_only(etype, \"❌ \" + f\"\u001b[91m{value}\"))\n",
    "ipython.showtraceback = hide_traceback\n"
   ]
  },
  {
   "attachments": {},
   "cell_type": "markdown",
   "id": "3c4cd400",
   "metadata": {},
   "source": [
    "### 1. Create a variable called `my_dict` and assign it the value `{\"key_1\": 1, \"key_2\": 2}`"
   ]
  },
  {
   "cell_type": "code",
   "execution_count": 1,
   "id": "b6146563",
   "metadata": {},
   "outputs": [],
   "source": [
    "# TODO - Create a variable called my_dict and assign it a dictionary with two key-value pairs.\n"
   ]
  },
  {
   "attachments": {},
   "cell_type": "markdown",
   "id": "1468d658",
   "metadata": {},
   "source": [
    "### 2. Update the value of `key_1` to `3`.\n",
    "\n",
    "Update the dictionary by using indexing (i.e. `my_dict[<existing key>] = <new value>`)."
   ]
  },
  {
   "cell_type": "code",
   "execution_count": null,
   "id": "f2cf79dc",
   "metadata": {},
   "outputs": [],
   "source": [
    "# TODO - Update the value of the key 'key_1' to 3.\n"
   ]
  },
  {
   "cell_type": "code",
   "execution_count": null,
   "id": "46f8fc95",
   "metadata": {},
   "outputs": [],
   "source": [
    "#@title #### Run this cell to check your answer { display-mode: \"form\", run: \"auto\" }\n",
    "\n",
    "assert \"my_dict\" in globals(), \"The variable 'my_dict' does not exist. Please, create it.\"\n",
    "marking_system.check_step_1(my_dict)\n"
   ]
  },
  {
   "attachments": {},
   "cell_type": "markdown",
   "id": "22944335",
   "metadata": {},
   "source": [
    "### 3. Update the value of `key_2` to `4`\n",
    "\n",
    "Update the dictionary by using the `update()` method (i.e. `my_dict.update({<existing key>: <new value>})`)."
   ]
  },
  {
   "cell_type": "code",
   "execution_count": null,
   "id": "22ad4fb3",
   "metadata": {},
   "outputs": [],
   "source": [
    "# TODO - Update the value of the key 'key_2' to 4 using the update() method.\n"
   ]
  },
  {
   "cell_type": "code",
   "execution_count": null,
   "id": "013e0d24",
   "metadata": {},
   "outputs": [],
   "source": [
    "#@title #### Run this cell to check your answer { display-mode: \"form\", run: \"auto\" }\n",
    "\n",
    "assert \"my_dict\" in globals(), \"The variable 'my_dict' does not exist. Please, create it.\"\n",
    "marking_system.check_step_2(my_dict)\n"
   ]
  }
 ],
 "metadata": {
  "kernelspec": {
   "display_name": "content-projects_new",
   "language": "python",
   "name": "python3"
  },
  "language_info": {
   "codemirror_mode": {
    "name": "ipython",
    "version": 3
   },
   "file_extension": ".py",
   "mimetype": "text/x-python",
   "name": "python",
   "nbconvert_exporter": "python",
   "pygments_lexer": "ipython3",
   "version": "3.10.8"
  },
  "vscode": {
   "interpreter": {
    "hash": "4b961f8166aad6ccb4cf65d0f9c742ef9c6c23ffe83ad932438cd83ed96aebaf"
   }
  }
 },
 "nbformat": 4,
 "nbformat_minor": 5
}
