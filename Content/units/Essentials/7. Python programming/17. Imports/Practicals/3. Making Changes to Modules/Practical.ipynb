{
 "cells": [
  {
   "cell_type": "markdown",
   "id": "3ded6894",
   "metadata": {},
   "source": [
    "# Making Changes to Modules"
   ]
  },
  {
   "cell_type": "code",
   "execution_count": null,
   "id": "1b4bcf59",
   "metadata": {},
   "outputs": [],
   "source": [
    "#@title # Run the following cell to download the necessary files for this practical. { display-mode: \"form\" } \n",
    "#@markdown Don't worry about what's in this collapsed cell\n",
    "\n",
    "print('Downloading import_local.zip...')\n",
    "!wget https://s3-eu-west-1.amazonaws.com/aicore-portal-public-prod-307050600709/practicals_files/9bea2bee-7d94-43ee-8b76-3174f291bcef/import_local.zip -q\n",
    "!unzip import_local.zip > /dev/null\n",
    "!rm import_local.zip\n"
   ]
  },
  {
   "cell_type": "markdown",
   "id": "32517b4d",
   "metadata": {},
   "source": [
    "\n",
    "<details>\n",
    "<summary>Some parts in this practical will require\n",
    "you to open a file. Click here to see how to do it.</summary>\n",
    "<ul>\n",
    "<li>Click on the folder logo on the left side of the screen</li>\n",
    "<p align=center><img src=\"images/read_1.png\"></p>\n",
    "<li>Double click on the file you want to open</li>\n",
    "<p align=center><img src=\"images/read_2.png\"></p>\n",
    "<li>The file will appear on the right side of the screen</li>\n",
    "<p align=center><img src=\"images/read_3.png\"></p>\n",
    "</ul>\n",
    "</details>\n",
    "    \n",
    "<details>\n",
    "<summary>Some parts in this practical will require\n",
    "you to update a file. Click here to see how to do it.</summary>\n",
    "<ul>\n",
    "<li>Click on the folder logo on the left side of the screen</li>\n",
    "<p align=center><img src=\"images/update_1.png\"></p>\n",
    "<li>\n",
    "    Double click on the file you want to update. The image will appear on the right side of the screen.\n",
    "    You can edit the file by clicking on the text area, and then saving your changes.\n",
    "</li>\n",
    "<p align=center><img src=\"images/update_2.png\"></p>\n",
    "</ul>\n",
    "</details>\n",
    "    "
   ]
  },
  {
   "attachments": {},
   "cell_type": "markdown",
   "id": "27b2554d",
   "metadata": {},
   "source": [
    "#### 1. From `module_1`, import `function_1` and call it. T\n",
    "\n",
    "You should see the message \"This is function 1 in module 1\""
   ]
  },
  {
   "cell_type": "code",
   "execution_count": null,
   "id": "16f01923",
   "metadata": {},
   "outputs": [],
   "source": []
  },
  {
   "attachments": {},
   "cell_type": "markdown",
   "id": "23f50f94",
   "metadata": {},
   "source": [
    "#### 2. Now, open `module_1.py` and change the message to \"This is function 1 in module 1. I have been changed!\". Then, import `function_1` again and call it.\n",
    "\n",
    "Has the message changed?"
   ]
  },
  {
   "cell_type": "code",
   "execution_count": null,
   "id": "3d4e0669",
   "metadata": {},
   "outputs": [],
   "source": []
  },
  {
   "attachments": {},
   "cell_type": "markdown",
   "id": "d7c65fcb",
   "metadata": {},
   "source": [
    "The message is the same as before, even though you changed it in `module_1.py`. This is because you imported `function_1` before you made the change. If you want to see the changes, you will need to restart the kernel and run the cell again."
   ]
  },
  {
   "attachments": {},
   "cell_type": "markdown",
   "id": "de9fc9ca",
   "metadata": {},
   "source": [
    "#### 3. Restart the kernel, import `function_1` again and call it.\n",
    "\n",
    "To restart the kernel on Google Colab, you need to click on the \"Runtime\" menu and then click on \"Restart runtime\""
   ]
  },
  {
   "cell_type": "code",
   "execution_count": null,
   "id": "25101f5a",
   "metadata": {},
   "outputs": [],
   "source": []
  },
  {
   "attachments": {},
   "cell_type": "markdown",
   "id": "38a8e0ab",
   "metadata": {},
   "source": [
    "You should see the message \"This is function 1 in module 1. I have been changed!\""
   ]
  }
 ],
 "metadata": {
  "kernelspec": {
   "display_name": "content-projects_new",
   "language": "python",
   "name": "python3"
  },
  "language_info": {
   "name": "python",
   "version": "3.10.8 (main, Nov 24 2022, 14:13:03) [GCC 11.2.0]"
  },
  "vscode": {
   "interpreter": {
    "hash": "4b961f8166aad6ccb4cf65d0f9c742ef9c6c23ffe83ad932438cd83ed96aebaf"
   }
  }
 },
 "nbformat": 4,
 "nbformat_minor": 5
}
