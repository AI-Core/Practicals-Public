{
 "cells": [
  {
   "cell_type": "markdown",
   "id": "5469fb2c",
   "metadata": {},
   "source": [
    "# Import Variables from Modules"
   ]
  },
  {
   "cell_type": "code",
   "execution_count": null,
   "id": "cd4fea93",
   "metadata": {},
   "outputs": [],
   "source": [
    "#@title ### Run the following cell to download the necessary files for this practical { display-mode: \"form\" } \n",
    "#@markdown Don't worry about what's in this collapsed cell\n",
    "\n",
    "print('Downloading import_local.zip...')\n",
    "!wget https://s3-eu-west-1.amazonaws.com/aicore-portal-public-prod-307050600709/practical_files/dbc3a9f7-a407-44cc-91bf-b0145dff3d79/import_local.zip -q -O import_local.zip\n",
    "!unzip import_local.zip > /dev/null\n",
    "!rm import_local.zip\n"
   ]
  },
  {
   "cell_type": "markdown",
   "id": "7ff28a47",
   "metadata": {},
   "source": [
    "\n",
    "<details>\n",
    "<summary>Some parts in this practical will require\n",
    "you to open a file. Click here to see how to do it.</summary>\n",
    "<ul>\n",
    "<li>Click on the folder logo on the left side of the screen</li>\n",
    "<p align=center><img src=\"images/read_1.png\"></p>\n",
    "<li>Double click on the file you want to open</li>\n",
    "<p align=center><img src=\"images/read_2.png\"></p>\n",
    "<li>The file will appear on the right side of the screen</li>\n",
    "<p align=center><img src=\"images/read_3.png\"></p>\n",
    "</ul>\n",
    "</details>\n",
    "    "
   ]
  },
  {
   "attachments": {},
   "cell_type": "markdown",
   "id": "7b6170da",
   "metadata": {},
   "source": [
    "#### 1. Import `x` from `module_2` and print it. \n",
    "\n",
    "You should see the message 'Hello, I am in module 2'"
   ]
  },
  {
   "cell_type": "code",
   "execution_count": null,
   "id": "f0e721ad",
   "metadata": {},
   "outputs": [],
   "source": []
  },
  {
   "attachments": {},
   "cell_type": "markdown",
   "id": "63d269bf",
   "metadata": {},
   "source": [
    "#### 2. Create another variable called `x` and assign it the value \"Hello, I am in main.py\". \n",
    "\n",
    "Then, print `x`. You should see the message \"Hello, I am in main.py\""
   ]
  },
  {
   "cell_type": "code",
   "execution_count": null,
   "id": "40db6beb",
   "metadata": {},
   "outputs": [],
   "source": []
  },
  {
   "attachments": {},
   "cell_type": "markdown",
   "id": "67f798cd",
   "metadata": {},
   "source": [
    "Notice that the value of `x` has changed now. This is because you overwrote the value of `x` when running `main.py`."
   ]
  }
 ],
 "metadata": {
  "kernelspec": {
   "display_name": "content-projects_new",
   "language": "python",
   "name": "python3"
  },
  "language_info": {
   "name": "python",
   "version": "3.10.8 (main, Nov 24 2022, 14:13:03) [GCC 11.2.0]"
  },
  "vscode": {
   "interpreter": {
    "hash": "4b961f8166aad6ccb4cf65d0f9c742ef9c6c23ffe83ad932438cd83ed96aebaf"
   }
  }
 },
 "nbformat": 4,
 "nbformat_minor": 5
}
