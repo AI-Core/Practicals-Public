{
 "cells": [
  {
   "cell_type": "markdown",
   "id": "915a9dec",
   "metadata": {},
   "source": [
    "# Import Local Modules"
   ]
  },
  {
   "cell_type": "code",
   "execution_count": null,
   "id": "f4ede2fb",
   "metadata": {},
   "outputs": [],
   "source": [
    "#@title # Run the following cell to download the necessary files for this practical. { display-mode: \"form\" } \n",
    "#@markdown Don't worry about what's in this collapsed cell\n",
    "\n",
    "print('Downloading import_local.zip...')\n",
    "!wget https://s3-eu-west-1.amazonaws.com/aicore-portal-public-prod-307050600709/practicals_files/5fe644aa-5562-43c5-a59c-ae2f0af68b93/import_local.zip -q\n",
    "!unzip import_local.zip > /dev/null\n",
    "!rm import_local.zip\n"
   ]
  },
  {
   "cell_type": "markdown",
   "id": "c0a6db2b",
   "metadata": {},
   "source": [
    "\n",
    "<details>\n",
    "<summary>Some parts in this practical will require\n",
    "you to open a file. Click here to see how to do it.</summary>\n",
    "<ul>\n",
    "<li>Click on the folder logo on the left side of the screen</li>\n",
    "<p align=center><img src=\"images/read_1.png\"></p>\n",
    "<li>Double click on the file you want to open</li>\n",
    "<p align=center><img src=\"images/read_2.png\"></p>\n",
    "<li>The file will appear on the right side of the screen</li>\n",
    "<p align=center><img src=\"images/read_3.png\"></p>\n",
    "</ul>\n",
    "</details>\n",
    "    "
   ]
  },
  {
   "attachments": {},
   "cell_type": "markdown",
   "id": "397ee34f",
   "metadata": {},
   "source": [
    "\n",
    "#### 1. Import function_1 from `module_1` and call it. \n",
    "\n",
    "You should see the message \"This is function 1 in module 1\""
   ]
  },
  {
   "cell_type": "code",
   "execution_count": null,
   "id": "7c1d7926",
   "metadata": {},
   "outputs": [],
   "source": []
  },
  {
   "attachments": {},
   "cell_type": "markdown",
   "id": "4ca4577d",
   "metadata": {},
   "source": [
    "#### 2. Import function_2 from `module_1` and call it.\n",
    "\n",
    "You should see the message \"This is function 2 in module 1\""
   ]
  },
  {
   "cell_type": "code",
   "execution_count": null,
   "id": "05db345d",
   "metadata": {},
   "outputs": [],
   "source": []
  },
  {
   "attachments": {},
   "cell_type": "markdown",
   "id": "bd06c2b4",
   "metadata": {},
   "source": [
    "#### 3. Now, import function_1 from `module_2` and call it. \n",
    "\n",
    "You should see the message \"This is function 1 in module 2\""
   ]
  },
  {
   "cell_type": "code",
   "execution_count": null,
   "id": "662b86d2",
   "metadata": {},
   "outputs": [],
   "source": []
  },
  {
   "attachments": {},
   "cell_type": "markdown",
   "id": "3f204195",
   "metadata": {},
   "source": [
    "Notice that you imported `function_1` twice. Which one got called when you ran `python main.py`? Why?"
   ]
  }
 ],
 "metadata": {
  "kernelspec": {
   "display_name": "content-projects_new",
   "language": "python",
   "name": "python3"
  },
  "language_info": {
   "codemirror_mode": {
    "name": "ipython",
    "version": 3
   },
   "file_extension": ".py",
   "mimetype": "text/x-python",
   "name": "python",
   "nbconvert_exporter": "python",
   "pygments_lexer": "ipython3",
   "version": "3.10.8 (main, Nov 24 2022, 14:13:03) [GCC 11.2.0]"
  },
  "vscode": {
   "interpreter": {
    "hash": "4b961f8166aad6ccb4cf65d0f9c742ef9c6c23ffe83ad932438cd83ed96aebaf"
   }
  }
 },
 "nbformat": 4,
 "nbformat_minor": 5
}
