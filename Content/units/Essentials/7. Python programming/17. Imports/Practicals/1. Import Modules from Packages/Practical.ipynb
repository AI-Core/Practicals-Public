{
 "cells": [
  {
   "cell_type": "markdown",
   "id": "2e043e27",
   "metadata": {},
   "source": [
    "# Import Modules from Packages"
   ]
  },
  {
   "cell_type": "code",
   "execution_count": null,
   "id": "0fb48205",
   "metadata": {},
   "outputs": [],
   "source": [
    "#@title # Run the following cell to download the necessary files for this practical. { display-mode: \"form\" } \n",
    "#@markdown Don't worry about what's in this collapsed cell\n",
    "\n",
    "print('Downloading import_local.zip...')\n",
    "!wget https://s3-eu-west-1.amazonaws.com/aicore-portal-public-prod-307050600709/practicals_files/8f9b0e85-9d24-4053-a515-b54d4cb9f775/import_local.zip -q\n",
    "!unzip import_local.zip > /dev/null\n",
    "!rm import_local.zip\n"
   ]
  },
  {
   "cell_type": "markdown",
   "id": "0457bded",
   "metadata": {},
   "source": [
    "\n",
    "<details>\n",
    "<summary>Some parts in this practical will require\n",
    "you to open a file. Click here to see how to do it.</summary>\n",
    "<ul>\n",
    "<li>Click on the folder logo on the left side of the screen</li>\n",
    "<p align=center><img src=\"images/read_1.png\"></p>\n",
    "<li>Double click on the file you want to open</li>\n",
    "<p align=center><img src=\"images/read_2.png\"></p>\n",
    "<li>The file will appear on the right side of the screen</li>\n",
    "<p align=center><img src=\"images/read_3.png\"></p>\n",
    "</ul>\n",
    "</details>\n",
    "    "
   ]
  },
  {
   "attachments": {},
   "cell_type": "markdown",
   "id": "82c947a8",
   "metadata": {},
   "source": [
    "#### 1. Import the function_package() from `package_1.module_1` and call it. \n",
    "\n",
    "You should see the message `\"I am in function_package() in package_1/module_1.py\"`"
   ]
  },
  {
   "cell_type": "code",
   "execution_count": null,
   "id": "c20f5e8c",
   "metadata": {},
   "outputs": [],
   "source": []
  },
  {
   "attachments": {},
   "cell_type": "markdown",
   "id": "006d0047",
   "metadata": {},
   "source": [
    "Notice that you can import modules that are inside a package, just like you can import modules that are in the same folder as your main file. This makes it easier to organise your code into different files and folders."
   ]
  },
  {
   "cell_type": "code",
   "execution_count": null,
   "id": "9ebf553c",
   "metadata": {},
   "outputs": [],
   "source": []
  }
 ],
 "metadata": {
  "kernelspec": {
   "display_name": "content-projects_new",
   "language": "python",
   "name": "python3"
  },
  "language_info": {
   "name": "python",
   "version": "3.10.8 (main, Nov 24 2022, 14:13:03) [GCC 11.2.0]"
  },
  "vscode": {
   "interpreter": {
    "hash": "4b961f8166aad6ccb4cf65d0f9c742ef9c6c23ffe83ad932438cd83ed96aebaf"
   }
  }
 },
 "nbformat": 4,
 "nbformat_minor": 5
}
