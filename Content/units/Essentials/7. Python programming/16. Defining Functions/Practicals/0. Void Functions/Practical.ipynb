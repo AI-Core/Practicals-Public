{
 "cells": [
  {
   "cell_type": "markdown",
   "id": "48f22344",
   "metadata": {},
   "source": [
    "# Void Functions"
   ]
  },
  {
   "cell_type": "code",
   "execution_count": null,
   "id": "733cd8f6",
   "metadata": {},
   "outputs": [],
   "source": [
    "#@title ### Run the following cell to download the necessary files for this practical { display-mode: \"form\" } \n",
    "#@markdown Don't worry about what's in this collapsed cell\n",
    "\n",
    "print('Downloading the marking system')\n",
    "!wget https://s3-eu-west-1.amazonaws.com/aicore-portal-public-prod-307050600709/practical_files/b9e60720-627c-4dee-a8ef-9989fd51703e/marking_system.py -q -O marking_system.py\n",
    "import marking_system\n",
    "import importlib\n",
    "importlib.reload(marking_system)\n",
    "import sys\n",
    "ipython = get_ipython()\n",
    "def hide_traceback(exc_tuple=None, filename=None, tb_offset=None, exception_only=False, running_compiled_code=False):\n",
    "    etype, value, tb = sys.exc_info()\n",
    "    value.__cause__ = None  # suppress chained exceptions\n",
    "    return ipython._showtraceback(etype, \"❌ \" + f\"\u001b[91m{value}\", ipython.InteractiveTB.get_exception_only(etype, \"❌ \" + f\"\u001b[91m{value}\"))\n",
    "ipython.showtraceback = hide_traceback\n"
   ]
  },
  {
   "attachments": {},
   "cell_type": "markdown",
   "id": "83ffba99",
   "metadata": {},
   "source": [
    "A function that doesn't return anything is called a void function. In Python, you can define a void function by simply not including a return statement.\n",
    "\n",
    "#### 1. Create a function called `void_function` that doesn't return anything\n",
    "\n",
    "Inside the function, print the string `\"This is a void function.\"`. Then, call the function to check it works (you should see the string printed)"
   ]
  },
  {
   "cell_type": "code",
   "execution_count": 1,
   "id": "c6da58d0",
   "metadata": {},
   "outputs": [],
   "source": [
    "# TODO - Use the \"def\" keyword to define a function called \"void_function\".\n",
    "    # TODO - Inside the function, print the string \"This is a void function.\".\n"
   ]
  },
  {
   "cell_type": "code",
   "execution_count": 3,
   "id": "0a30389d",
   "metadata": {},
   "outputs": [],
   "source": [
    "#@title Run this cell to check your code { display-mode: \"form\" }\n",
    "\n",
    "assert \"void_function\" in globals(), \"You haven't defined a function called 'void_function'. Please, try again.\"\n",
    "assert callable(void_function), \"'void_function' should be a function. Please, try again.\"\n",
    "assert void_function.__code__.co_argcount == 0, \"'void_function' should not have any arguments. Please, try again.\"\n",
    "\n",
    "marking_system.check_step_1(void_function)\n"
   ]
  },
  {
   "attachments": {},
   "cell_type": "markdown",
   "id": "de2ee638",
   "metadata": {},
   "source": [
    "### 2. Call the function and assign the result to a variable called `void_result`\n",
    "\n",
    "Print the value of `void_result`. What do you see?"
   ]
  },
  {
   "cell_type": "code",
   "execution_count": null,
   "id": "8a06c038",
   "metadata": {},
   "outputs": [],
   "source": []
  },
  {
   "attachments": {},
   "cell_type": "markdown",
   "id": "0051f6b4",
   "metadata": {},
   "source": [
    "Notice that even though the function doesn't return anything, it still prints the string `\"This is a void function.\"` to the console.\n",
    "\n",
    "This is because the `print` function still runs inside the function, even though the function doesn't return anything.\n",
    "\n",
    "This is important to remember, sometimes you want your functions to perform actions without returning anything."
   ]
  }
 ],
 "metadata": {
  "kernelspec": {
   "display_name": "content-projects_new",
   "language": "python",
   "name": "python3"
  },
  "language_info": {
   "codemirror_mode": {
    "name": "ipython",
    "version": 3
   },
   "file_extension": ".py",
   "mimetype": "text/x-python",
   "name": "python",
   "nbconvert_exporter": "python",
   "pygments_lexer": "ipython3",
   "version": "3.10.8"
  },
  "vscode": {
   "interpreter": {
    "hash": "4b961f8166aad6ccb4cf65d0f9c742ef9c6c23ffe83ad932438cd83ed96aebaf"
   }
  }
 },
 "nbformat": 4,
 "nbformat_minor": 5
}
