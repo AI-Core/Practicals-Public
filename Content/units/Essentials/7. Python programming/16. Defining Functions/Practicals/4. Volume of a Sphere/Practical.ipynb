{
 "cells": [
  {
   "cell_type": "markdown",
   "id": "5f585403",
   "metadata": {},
   "source": [
    "# Volume of a Sphere"
   ]
  },
  {
   "cell_type": "code",
   "execution_count": null,
   "id": "ab483cc8",
   "metadata": {},
   "outputs": [],
   "source": [
    "#@title ### Run the following cell to download the necessary files for this practical { display-mode: \"form\" } \n",
    "#@markdown Don't worry about what's in this collapsed cell\n",
    "\n",
    "print('Downloading the marking system')\n",
    "!wget https://s3-eu-west-1.amazonaws.com/aicore-portal-public-prod-307050600709/practical_files/46c69857-5d73-4c48-a72f-8aec995bf871/marking_system.py -q -O marking_system.py\n",
    "import marking_system\n",
    "import importlib\n",
    "importlib.reload(marking_system)\n",
    "import sys\n",
    "ipython = get_ipython()\n",
    "def hide_traceback(exc_tuple=None, filename=None, tb_offset=None, exception_only=False, running_compiled_code=False):\n",
    "    etype, value, tb = sys.exc_info()\n",
    "    value.__cause__ = None  # suppress chained exceptions\n",
    "    return ipython._showtraceback(etype, \"❌ \" + f\"\u001b[91m{value}\", ipython.InteractiveTB.get_exception_only(etype, \"❌ \" + f\"\u001b[91m{value}\"))\n",
    "ipython.showtraceback = hide_traceback\n"
   ]
  },
  {
   "attachments": {},
   "cell_type": "markdown",
   "id": "520e01db",
   "metadata": {},
   "source": [
    "#### 1. Write a function called `volume_of_sphere` that takes in a variable called `radius` which is the radius of a sphere\n",
    "\n",
    "- The function calculates the volume of a sphere. Search online for the formula for calculating the volume and use `PI = 3.14`\n",
    "- The function should return the volume of the sphere rounded to 2 decimal points"
   ]
  },
  {
   "cell_type": "code",
   "execution_count": null,
   "id": "fbb47c16",
   "metadata": {},
   "outputs": [],
   "source": [
    "# TODO - Create a function that calculates the volume of a sphere given its radius\n"
   ]
  },
  {
   "cell_type": "code",
   "execution_count": null,
   "id": "dbc23811",
   "metadata": {},
   "outputs": [],
   "source": [
    "#@title Run this cell to check your code { display-mode: \"form\" }\n",
    "\n",
    "assert \"volume_of_sphere\" in globals(), \"You haven't defined a function called 'volume_of_sphere'. Please, try again.\"\n",
    "assert callable(volume_of_sphere), \"'volume_of_sphere' should be a function. Please, try again.\"\n",
    "assert volume_of_sphere.__code__.co_argcount == 1, \"'volume_of_sphere' should take 1 argument. Please, try again.\"\n",
    "\n",
    "marking_system.check_step_1(volume_of_sphere)\n"
   ]
  },
  {
   "attachments": {},
   "cell_type": "markdown",
   "id": "bd91383b",
   "metadata": {},
   "source": [
    "#### 4. Call your function to test it\n",
    "\n",
    "Use the following code to test your function:"
   ]
  },
  {
   "cell_type": "code",
   "execution_count": null,
   "id": "3f726e2f",
   "metadata": {},
   "outputs": [],
   "source": [
    "volume_of_sphere(2)\n"
   ]
  },
  {
   "attachments": {},
   "cell_type": "markdown",
   "id": "736670e7",
   "metadata": {},
   "source": [
    "The output should be `33.51`"
   ]
  }
 ],
 "metadata": {
  "language_info": {
   "name": "python"
  }
 },
 "nbformat": 4,
 "nbformat_minor": 5
}
