{
 "cells": [
  {
   "cell_type": "markdown",
   "id": "4bbe020b",
   "metadata": {},
   "source": [
    "# Default Arguments"
   ]
  },
  {
   "cell_type": "code",
   "execution_count": null,
   "id": "5326f304",
   "metadata": {},
   "outputs": [],
   "source": [
    "#@title ### Run the following cell to download the necessary files for this practical { display-mode: \"form\" } \n",
    "#@markdown Don't worry about what's in this collapsed cell\n",
    "\n",
    "print('Downloading the marking system')\n",
    "!wget https://s3-eu-west-1.amazonaws.com/aicore-portal-public-prod-307050600709/practical_files/502573c9-1415-4956-9379-fcf0ae8bb1a2/marking_system.py -q -O marking_system.py\n",
    "import marking_system\n",
    "import importlib\n",
    "importlib.reload(marking_system)\n",
    "import sys\n",
    "ipython = get_ipython()\n",
    "def hide_traceback(exc_tuple=None, filename=None, tb_offset=None, exception_only=False, running_compiled_code=False):\n",
    "    etype, value, tb = sys.exc_info()\n",
    "    value.__cause__ = None  # suppress chained exceptions\n",
    "    return ipython._showtraceback(etype, \"❌ \" + f\"\u001b[91m{value}\", ipython.InteractiveTB.get_exception_only(etype, \"❌ \" + f\"\u001b[91m{value}\"))\n",
    "ipython.showtraceback = hide_traceback\n"
   ]
  },
  {
   "attachments": {},
   "cell_type": "markdown",
   "id": "6b489c60",
   "metadata": {},
   "source": [
    "### 1. Create a function named `display_attributes` which takes in a dictionary of attributes about a piece of clothing and prints each of the key-value pairs on a line\n",
    "\n",
    "The function should take one argument for now called attributes. \n",
    "\n",
    "For example, if the dictionary is:\n",
    "\n",
    "```python\n",
    "attributes = {\n",
    "    \"color\": \"red\",\n",
    "    \"size\": \"small\",\n",
    "    \"material\": \"cotton\"\n",
    "}\n",
    "```\n",
    "\n",
    "Then the function should print:\n",
    "\n",
    "``` python\n",
    "color: red\n",
    "size: small\n",
    "material: cotton\n",
    "```\n",
    "\n",
    "_Hint: You don't know how many key-value pairs there are in the dictionary, so you can't use a for loop to iterate through the dictionary_\n"
   ]
  },
  {
   "cell_type": "code",
   "execution_count": null,
   "id": "1e2fc8ae",
   "metadata": {},
   "outputs": [],
   "source": [
    "# TODO - Create a function called display_attributes that takes a dictionary as an argument and prints each key-value pair on a new line.\n"
   ]
  },
  {
   "cell_type": "code",
   "execution_count": null,
   "id": "0af01931",
   "metadata": {},
   "outputs": [],
   "source": [
    "#@title Run this cell to check your code { display-mode: \"form\" }\n",
    "\n",
    "assert \"display_attributes\" in globals(), \"You haven't defined a function called 'display_attributes'. Please, try again.\"\n",
    "assert callable(display_attributes), \"'display_attributes' should be a function. Please, try again.\"\n",
    "assert display_attributes.__code__.co_argcount == 1, \"'display_attributes' should take 1 argument. Please, try again.\"\n",
    "assert display_attributes.__code__.co_varnames[0] == \"attributes\", \"'display_attributes' should take 1 argument called 'attributes'. Please, try again.\"\n",
    "\n",
    "marking_system.check_step_1(display_attributes)\n"
   ]
  },
  {
   "attachments": {},
   "cell_type": "markdown",
   "id": "0e872b17",
   "metadata": {},
   "source": [
    "### 2. Add a parameter to the function called `attributes_to_print` with a default argument of 'all'\n",
    "\n",
    "If a list is passed into the function as the `attributes_to_print`, print only the key-value pairs of the dictionary where the key exists in `attributes_to_print`. Otherwise, print them all.\n",
    "\n",
    "For example, if the dictionary is:\n",
    "\n",
    "``` python\n",
    "\n",
    "attributes = {\n",
    "    \"color\": \"red\",\n",
    "    \"size\": \"small\",\n",
    "    \"material\": \"cotton\"\n",
    "}\n",
    "\n",
    "```\n",
    "\n",
    "And the function is called like this:\n",
    "\n",
    "```python\n",
    "display_attributes(attributes, [\"color\", \"size\"])\n",
    "```\n",
    "\n",
    "Then the function should print:\n",
    "\n",
    "```python\n",
    "color: red\n",
    "size: small\n",
    "```"
   ]
  },
  {
   "cell_type": "code",
   "execution_count": null,
   "id": "cdba3cfe",
   "metadata": {},
   "outputs": [],
   "source": [
    "# TODO - Add the argument attributes_to_print to the function definition and set its default value to \"all\".\n"
   ]
  },
  {
   "cell_type": "code",
   "execution_count": null,
   "id": "1b245d57",
   "metadata": {},
   "outputs": [],
   "source": [
    "#@title Run this cell to check your code { display-mode: \"form\" }\n",
    "\n",
    "assert \"display_attributes\" in globals(), \"You haven't defined a function called 'display_attributes'. Please, try again.\"\n",
    "assert callable(display_attributes), \"'display_attributes' should be a function. Please, try again.\"\n",
    "assert display_attributes.__code__.co_argcount == 2, \"'display_attributes' should take 2 arguments: 'attributes' and 'attributes_to_print'. Please, try again.\"\n",
    "assert display_attributes.__code__.co_varnames[1] == \"attributes_to_print\", \"'display_attributes' should have an argument called 'attributes_to_print'. Please, try again.\"\n",
    "assert len(display_attributes.__defaults__) == 1, \"'display_attributes' should have only one default argument called 'attributes_to_print' with a default value of 'all'. Please, try again.\"\n",
    "assert display_attributes.__defaults__[0] == \"all\", \"'display_attributes' should have a default value of 'all' for the argument 'attributes_to_print'. Please, try again.\"\n",
    "\n",
    "marking_system.check_step_2(display_attributes)\n"
   ]
  },
  {
   "attachments": {},
   "cell_type": "markdown",
   "id": "23530d00",
   "metadata": {},
   "source": [
    "### 3. Print a message to tell the user if a key doesn't exist. \n",
    "\n",
    "The message should be in the format:\n",
    "\n",
    "```\n",
    "The key 'key_name' does not exist\n",
    "```"
   ]
  },
  {
   "cell_type": "code",
   "execution_count": null,
   "id": "5912d522",
   "metadata": {},
   "outputs": [],
   "source": [
    "# TODO - Add an else statement to the for loop that prints a message saying that the attribute is not in the dictionary.\n"
   ]
  },
  {
   "cell_type": "code",
   "execution_count": null,
   "id": "d4379ad4",
   "metadata": {},
   "outputs": [],
   "source": [
    "#@title Run this cell to check your code { display-mode: \"form\" }\n",
    "\n",
    "assert \"display_attributes\" in globals(), \"You haven't defined a function called 'display_attributes'. Please, try again.\"\n",
    "assert callable(display_attributes), \"'display_attributes' should be a function. Please, try again.\"\n",
    "assert display_attributes.__code__.co_argcount == 2, \"'display_attributes' should take 2 arguments: 'attributes' and 'attributes_to_print'. Please, try again.\"\n",
    "assert display_attributes.__code__.co_varnames[1] == \"attributes_to_print\", \"'display_attributes' should have an argument called 'attributes_to_print'. Please, try again.\"\n",
    "assert len(display_attributes.__defaults__) == 1, \"'display_attributes' should have only one default argument called 'attributes_to_print' with a default value of 'all'. Please, try again.\"\n",
    "assert display_attributes.__defaults__[0] == \"all\", \"'display_attributes' should have a default value of 'all' for the argument 'attributes_to_print'. Please, try again.\"\n",
    "\n",
    "marking_system.check_step_3(display_attributes)\n"
   ]
  },
  {
   "attachments": {},
   "cell_type": "markdown",
   "id": "ac5ee549",
   "metadata": {},
   "source": [
    "### 4. Call your function to test it\n",
    "\n",
    "Use the following dictionary:\n",
    "\n",
    "```python\n",
    "attributes = {\n",
    "    \"color\": \"red\",\n",
    "    \"size\": \"small\",\n",
    "    \"material\": \"cotton\"\n",
    "}\n",
    "```\n",
    "\n",
    "And call the function like this:\n",
    "\n",
    "```python\n",
    "display_attributes(attributes, [\"color\", \"size\", \"price\"])\n",
    "```\n",
    "\n",
    "It should print:\n",
    "\n",
    "```\n",
    "color: red\n",
    "size: small\n",
    "The key 'price' does not exist\n",
    "```\n",
    "\n",
    "Test it also running the function like this\n",
    "\n",
    "```python\n",
    "display_attributes(attributes)\n",
    "```\n",
    "\n",
    "It should print:\n",
    "\n",
    "```\n",
    "color: red\n",
    "size: small\n",
    "material: cotton\n",
    "```\n"
   ]
  },
  {
   "cell_type": "code",
   "execution_count": null,
   "id": "85ac6f42",
   "metadata": {},
   "outputs": [],
   "source": []
  }
 ],
 "metadata": {
  "kernelspec": {
   "display_name": "content-projects_new",
   "language": "python",
   "name": "python3"
  },
  "language_info": {
   "codemirror_mode": {
    "name": "ipython",
    "version": 3
   },
   "file_extension": ".py",
   "mimetype": "text/x-python",
   "name": "python",
   "nbconvert_exporter": "python",
   "pygments_lexer": "ipython3",
   "version": "3.10.8"
  }
 },
 "nbformat": 4,
 "nbformat_minor": 5
}
