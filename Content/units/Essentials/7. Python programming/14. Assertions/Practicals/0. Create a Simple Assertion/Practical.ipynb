{
 "cells": [
  {
   "cell_type": "markdown",
   "id": "d6368a57",
   "metadata": {},
   "source": [
    "# Create a Simple Assertion"
   ]
  },
  {
   "cell_type": "code",
   "execution_count": null,
   "id": "dd97d6c1",
   "metadata": {},
   "outputs": [],
   "source": [
    "#@title ### Run the following cell to download the necessary files for this practical { display-mode: \"form\" } \n",
    "#@markdown Don't worry about what's in this collapsed cell\n",
    "\n",
    "!pip install -q timeout-decorator\n",
    "print('Downloading the marking system')\n",
    "!wget https://s3-eu-west-1.amazonaws.com/aicore-portal-public-prod-307050600709/practical_files/f485d466-699c-449a-b954-128c32693a2e/marking_system.py -q -O marking_system.py\n",
    "import marking_system\n",
    "import importlib\n",
    "importlib.reload(marking_system)\n",
    "import sys\n",
    "ipython = get_ipython()\n",
    "def hide_traceback(exc_tuple=None, filename=None, tb_offset=None, exception_only=False, running_compiled_code=False):\n",
    "    etype, value, tb = sys.exc_info()\n",
    "    value.__cause__ = None  # suppress chained exceptions\n",
    "    return ipython._showtraceback(etype, \"❌ \" + f\"\u001b[91m{value}\", ipython.InteractiveTB.get_exception_only(etype, \"❌ \" + f\"\u001b[91m{value}\"))\n",
    "ipython.showtraceback = hide_traceback\n"
   ]
  },
  {
   "cell_type": "markdown",
   "id": "38cfa4cf",
   "metadata": {},
   "source": [
    "#### 1. Create a python file called \"assertions.py\""
   ]
  },
  {
   "cell_type": "code",
   "execution_count": null,
   "id": "d8876a57",
   "metadata": {},
   "outputs": [],
   "source": []
  },
  {
   "cell_type": "markdown",
   "id": "1cca5035",
   "metadata": {},
   "source": [
    "#### 2. Ask the user for their name and store it in a variable called `name`"
   ]
  },
  {
   "cell_type": "code",
   "execution_count": null,
   "id": "ab967056",
   "metadata": {},
   "outputs": [],
   "source": []
  },
  {
   "cell_type": "markdown",
   "id": "ecdd8dc7",
   "metadata": {},
   "source": [
    "#### 3. Add an assertion that checks if the name is \"John\". If it is, print out the message \"Hello, John\". If it isn't, raise an AssertionError with the message \"You are not John\""
   ]
  },
  {
   "cell_type": "code",
   "execution_count": null,
   "id": "5b91e8e9",
   "metadata": {},
   "outputs": [],
   "source": []
  },
  {
   "cell_type": "markdown",
   "id": "4bf0551e",
   "metadata": {},
   "source": [
    "#### 4. Run the file"
   ]
  },
  {
   "cell_type": "code",
   "execution_count": null,
   "id": "ed309805",
   "metadata": {},
   "outputs": [],
   "source": []
  },
  {
   "cell_type": "markdown",
   "id": "f2adb291",
   "metadata": {},
   "source": [
    "#### 5. When asked for your name, enter anything other than \"John\""
   ]
  },
  {
   "cell_type": "code",
   "execution_count": null,
   "id": "653d84fb",
   "metadata": {},
   "outputs": [],
   "source": []
  },
  {
   "cell_type": "markdown",
   "id": "d1d88370",
   "metadata": {},
   "source": [
    "#### 6. What happened?"
   ]
  },
  {
   "cell_type": "code",
   "execution_count": null,
   "id": "5c2b00ee",
   "metadata": {},
   "outputs": [],
   "source": []
  }
 ],
 "metadata": {},
 "nbformat": 4,
 "nbformat_minor": 5
}
