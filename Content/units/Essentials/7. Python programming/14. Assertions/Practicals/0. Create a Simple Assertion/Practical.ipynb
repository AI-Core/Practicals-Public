{
 "cells": [
  {
   "cell_type": "markdown",
   "id": "d6368a57",
   "metadata": {},
   "source": [
    "# Create a Simple Assertion"
   ]
  },
  {
   "cell_type": "code",
   "execution_count": null,
   "id": "17094c75",
   "metadata": {},
   "outputs": [],
   "source": [
    "#@title ### Run the following cell to download the necessary files for this practical { display-mode: \"form\" } \n",
    "#@markdown Don't worry about what's in this collapsed cell\n",
    "\n",
    "!pip install -q timeout-decorator\n",
    "print('Downloading the marking system')\n",
    "!wget https://s3-eu-west-1.amazonaws.com/aicore-portal-public-prod-307050600709/practical_files/f485d466-699c-449a-b954-128c32693a2e/marking_system.py -q -O marking_system.py\n",
    "import marking_system\n",
    "import importlib\n",
    "importlib.reload(marking_system)\n",
    "import sys\n",
    "ipython = get_ipython()\n",
    "def hide_traceback(exc_tuple=None, filename=None, tb_offset=None, exception_only=False, running_compiled_code=False):\n",
    "    etype, value, tb = sys.exc_info()\n",
    "    value.__cause__ = None  # suppress chained exceptions\n",
    "    return ipython._showtraceback(etype, \"❌ \" + f\"\u001b[91m{value}\", ipython.InteractiveTB.get_exception_only(etype, \"❌ \" + f\"\u001b[91m{value}\"))\n",
    "ipython.showtraceback = hide_traceback\n"
   ]
  },
  {
   "attachments": {},
   "cell_type": "markdown",
   "id": "ecdd8dc7",
   "metadata": {},
   "source": [
    "### 1. Add an assertion that checks if the name is `\"John\"`.\n",
    "\n",
    "If it is, print out the message `\"Hello, John\"`. If it isn't, raise an `AssertionError` with the message `\"You are not John\"`\n",
    "\n",
    "Use the following code to get started\n",
    "\n",
    "__The marking system will be case sensitive__"
   ]
  },
  {
   "cell_type": "code",
   "execution_count": null,
   "id": "5b91e8e9",
   "metadata": {},
   "outputs": [],
   "source": [
    "name = input(\"Please, enter your name: \")\n",
    "\n",
    "# Add your code below this line\n",
    "# TODO - Assert that the name is John\n",
    "# Add your code above this line\n",
    "print(\"Hello, John\")\n"
   ]
  },
  {
   "cell_type": "code",
   "execution_count": null,
   "id": "491cc27c",
   "metadata": {},
   "outputs": [],
   "source": [
    "#@title #### Run this cell to check if your code looks good { display-mode: \"form\"}\n",
    "assert \"# Add your code below this line\" in _ih[-2], \"Before checking your code, make sure the last cell you ran contains your code. If you did, make sure you haven't deleted the comment that says '# Add your code below this line'.\"\n",
    "assert \"#@title\" not in _ih[-2], \"If you want to check your code, rerun the cell that contains your code. If you did, make sure you haven't deleted the comment that says '# Add your code below this line'.\"\n",
    "\n",
    "marking_system.check_step_1(_ih[-2])\n"
   ]
  },
  {
   "attachments": {},
   "cell_type": "markdown",
   "id": "f2adb291",
   "metadata": {},
   "source": [
    "### 2. Test the code using the following inputs:\n",
    "\n",
    "- \"John\"\n",
    "- \"Jane\""
   ]
  },
  {
   "cell_type": "code",
   "execution_count": null,
   "id": "653d84fb",
   "metadata": {},
   "outputs": [],
   "source": []
  }
 ],
 "metadata": {
  "kernelspec": {
   "display_name": "content-projects",
   "language": "python",
   "name": "python3"
  },
  "language_info": {
   "codemirror_mode": {
    "name": "ipython",
    "version": 3
   },
   "file_extension": ".py",
   "mimetype": "text/x-python",
   "name": "python",
   "nbconvert_exporter": "python",
   "pygments_lexer": "ipython3",
   "version": "3.10.8"
  }
 },
 "nbformat": 4,
 "nbformat_minor": 5
}
