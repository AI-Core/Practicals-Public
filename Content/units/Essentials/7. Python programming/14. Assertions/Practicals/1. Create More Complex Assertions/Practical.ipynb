{
 "cells": [
  {
   "cell_type": "markdown",
   "id": "c2449855",
   "metadata": {},
   "source": [
    "# Create More Complex Assertions"
   ]
  },
  {
   "cell_type": "code",
   "execution_count": null,
   "id": "c0b80d3a",
   "metadata": {},
   "outputs": [],
   "source": [
    "#@title ### Run the following cell to download the necessary files for this practical { display-mode: \"form\" } \n",
    "#@markdown Don't worry about what's in this collapsed cell\n",
    "\n",
    "!pip install -q timeout-decorator\n",
    "print('Downloading the marking system')\n",
    "!wget https://s3-eu-west-1.amazonaws.com/aicore-portal-public-prod-307050600709/practical_files/9a75bb25-3fb5-40fa-84e6-9989212f8a0b/marking_system.py -q -O marking_system.py\n",
    "import marking_system\n",
    "import importlib\n",
    "importlib.reload(marking_system)\n",
    "import sys\n",
    "ipython = get_ipython()\n",
    "def hide_traceback(exc_tuple=None, filename=None, tb_offset=None, exception_only=False, running_compiled_code=False):\n",
    "    etype, value, tb = sys.exc_info()\n",
    "    value.__cause__ = None  # suppress chained exceptions\n",
    "    return ipython._showtraceback(etype, \"❌ \" + f\"\u001b[91m{value}\", ipython.InteractiveTB.get_exception_only(etype, \"❌ \" + f\"\u001b[91m{value}\"))\n",
    "ipython.showtraceback = hide_traceback\n"
   ]
  },
  {
   "cell_type": "markdown",
   "id": "55e5a394",
   "metadata": {},
   "source": [
    "\n",
    "<details>\n",
    "<summary>Some parts in this practical will require\n",
    "you to create a new file. Click here to see how to do it.</summary>\n",
    "<ul>\n",
    "<li>Click on the folder logo on the left side of the screen</li>\n",
    "<p align=center><img src=\"images/create_1.png\"></p>\n",
    "<li>Right click anywhere on the panel and click \"New file\"</li>\n",
    "<p align=center><img src=\"images/create_2.png\"></p>\n",
    "</ul>\n",
    "</details>\n",
    "    \n",
    "<details>\n",
    "<summary>Some parts in this practical will require\n",
    "you to run a code cell. Click here to see how to do it.</summary>\n",
    "<ul>\n",
    "<li>Check the name of the file you want to run</li>\n",
    "<p align=center><img src=\"images/run_1.png\"></p>\n",
    "<li>In a cell, type <code>!python \"name_of_the_file.py\"</code></li>\n",
    "<p align=center><img src=\"images/run_2.png\"></p>\n",
    "</ul>\n",
    "</details>\n",
    "    "
   ]
  },
  {
   "attachments": {},
   "cell_type": "markdown",
   "id": "c0915f32",
   "metadata": {},
   "source": [
    "### 1. Create a new file called `assertions.py`.\n",
    "\n",
    "Inside the file, ask the user for their name and store it in a variable called `name`, and then ask the user for their age and store it in a variable called `age`."
   ]
  },
  {
   "cell_type": "code",
   "execution_count": null,
   "id": "1333534a",
   "metadata": {},
   "outputs": [],
   "source": [
    "# TODO - Create the file and run it to check if the code asks for the user's input\n",
    "!python assertions.py"
   ]
  },
  {
   "cell_type": "code",
   "execution_count": null,
   "id": "255d468b",
   "metadata": {},
   "outputs": [],
   "source": [
    "#@title #### Run this cell to check if your code looks good { display-mode: \"form\"}\n",
    "\n",
    "marking_system.check_step_1()"
   ]
  },
  {
   "attachments": {},
   "cell_type": "markdown",
   "id": "1285a4d0",
   "metadata": {},
   "source": [
    "### 2. Add an assertion that checks if the name is \"John\" and the age is 20.\n",
    "\n",
    "If it is, print out the message `\"Hello, John\"`.\n",
    "\n",
    "If it isn't, raise an `AssertionError` with the message `\"You are not John\"`"
   ]
  },
  {
   "cell_type": "code",
   "execution_count": null,
   "id": "78a02e7b",
   "metadata": {},
   "outputs": [],
   "source": [
    "# TODO - Add the first assertion and run the file to check if the code asserts that the user's name is John\n",
    "!python assertions.py"
   ]
  },
  {
   "cell_type": "code",
   "execution_count": null,
   "id": "50f14cb3",
   "metadata": {},
   "outputs": [],
   "source": [
    "#@title #### Run this cell to check if your code looks good { display-mode: \"form\"}\n",
    "\n",
    "marking_system.check_step_2()"
   ]
  },
  {
   "attachments": {},
   "cell_type": "markdown",
   "id": "9fb07f5a",
   "metadata": {},
   "source": [
    "### 3. Add an assertion that checks if the age can be converted to an integer.\n",
    "\n",
    "If it can be converted, print out the message `\"Age is a number\"`. \n",
    "\n",
    "If it can't be converted, raise a `ValueError` with the message `\"Age is not a number\"`\n",
    "\n",
    "Remember that the `input` function returns a string. If the string can be converted to an integer, the `int` function will work fine, otherwise the `int` function won't work"
   ]
  },
  {
   "cell_type": "code",
   "execution_count": null,
   "id": "e2d013e0",
   "metadata": {},
   "outputs": [],
   "source": [
    "# TODO - Add the second assertion and run the file to check if the code asserts that the entered age can be converted to an integer\n",
    "!python assertions.py"
   ]
  },
  {
   "cell_type": "code",
   "execution_count": null,
   "id": "06a0cd6a",
   "metadata": {},
   "outputs": [],
   "source": [
    "#@title #### Run this cell to check if your code looks good { display-mode: \"form\"}\n",
    "\n",
    "marking_system.check_step_3()"
   ]
  },
  {
   "attachments": {},
   "cell_type": "markdown",
   "id": "39a93b06",
   "metadata": {},
   "source": [
    "### 4. Test your file and enter the following inputs to check your assertions work:\n",
    "\n",
    "- Name: `John`, Age: `20`\n",
    "\n",
    "- Name: `John`, Age: `21`\n",
    "\n",
    "- Name: `John`, Age: `\"twenty\"`\n",
    "\n",
    "- Name: `Jane`, Age: `20`\n",
    "\n",
    "- Name: `Jane`, Age: `\"twenty\"`"
   ]
  },
  {
   "cell_type": "code",
   "execution_count": null,
   "id": "4cc3dd98",
   "metadata": {},
   "outputs": [],
   "source": [
    "!python assertions.py"
   ]
  }
 ],
 "metadata": {
  "kernelspec": {
   "display_name": "content-projects_new",
   "language": "python",
   "name": "python3"
  },
  "language_info": {
   "codemirror_mode": {
    "name": "ipython",
    "version": 3
   },
   "file_extension": ".py",
   "mimetype": "text/x-python",
   "name": "python",
   "nbconvert_exporter": "python",
   "pygments_lexer": "ipython3",
   "version": "3.10.8"
  },
  "vscode": {
   "interpreter": {
    "hash": "4b961f8166aad6ccb4cf65d0f9c742ef9c6c23ffe83ad932438cd83ed96aebaf"
   }
  }
 },
 "nbformat": 4,
 "nbformat_minor": 5
}
