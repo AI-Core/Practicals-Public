{
 "cells": [
  {
   "cell_type": "markdown",
   "id": "b7006b7b",
   "metadata": {},
   "source": [
    "# Simple Rock-Paper-Scissors"
   ]
  },
  {
   "cell_type": "code",
   "execution_count": null,
   "id": "f0879846",
   "metadata": {},
   "outputs": [],
   "source": [
    "#@title ### Run the following cell to download the necessary files for this practical { display-mode: \"form\" } \n",
    "#@markdown Don't worry about what's in this collapsed cell\n",
    "\n",
    "!pip install -q timeout-decorator\n",
    "print('Downloading the marking system')\n",
    "!wget https://s3-eu-west-1.amazonaws.com/aicore-portal-public-prod-307050600709/practical_files/ca106cab-e46e-419f-85c5-72ea0ba9e2c5/marking_system.py -q -O marking_system.py\n",
    "import marking_system\n",
    "import importlib\n",
    "importlib.reload(marking_system)\n",
    "import sys\n",
    "ipython = get_ipython()\n",
    "def hide_traceback(exc_tuple=None, filename=None, tb_offset=None, exception_only=False, running_compiled_code=False):\n",
    "    etype, value, tb = sys.exc_info()\n",
    "    value.__cause__ = None  # suppress chained exceptions\n",
    "    return ipython._showtraceback(etype, \"❌ \" + f\"\u001b[91m{value}\", ipython.InteractiveTB.get_exception_only(etype, \"❌ \" + f\"\u001b[91m{value}\"))\n",
    "ipython.showtraceback = hide_traceback\n"
   ]
  },
  {
   "attachments": {},
   "cell_type": "markdown",
   "id": "17737207",
   "metadata": {},
   "source": [
    "#### 1. Code the logic of the game to see who wins. Print the result like: `'Player 1 wins'` or `'Player 2 wins'`\n",
    "\n",
    "The game logic is as follows:\n",
    "\n",
    "- `rock` beats `scissors`\n",
    "- `scissors` beats `paper`\n",
    "- `paper` beats `rock`\n",
    "\n",
    "Use the code below to get started\n",
    "\n",
    "__The marking system will be case sensitive, so make sure you use the exact same words as above.__"
   ]
  },
  {
   "cell_type": "code",
   "execution_count": null,
   "id": "eb81965b",
   "metadata": {},
   "outputs": [],
   "source": [
    "player_1 = input(\"What is player 1 choice? rock, paper or scissors? \")\n",
    "player_2 = input(\"What is player 2 choice? rock, paper or scissors? \")\n",
    "# Add your code below this line\n",
    "# TODO - Code the logic for the game\n"
   ]
  },
  {
   "cell_type": "code",
   "execution_count": null,
   "id": "61e7dd3d",
   "metadata": {},
   "outputs": [],
   "source": [
    "#@title #### Run this cell to check if your code looks good { display-mode: \"form\"}\n",
    "assert \"# Add your code below this line\" in _ih[-2], \"Before checking your code, make sure the last cell you ran contains your code. If you did, make sure you haven't deleted the comment that says '# Add your code below this line'.\"\n",
    "assert \"#@title\" not in _ih[-2], \"If you want to check your code, rerun the cell that contains your code. If you did, make sure you haven't deleted the comment that says '# Add your code below this line'.\"\n",
    "\n",
    "marking_system.check_step_1(_ih[-2])\n"
   ]
  },
  {
   "attachments": {},
   "cell_type": "markdown",
   "id": "d5b2fa0d",
   "metadata": {},
   "source": [
    "### 2. Add a check to see if the inputs are valid.\n",
    "\n",
    "Use the same code you have written above, but add a check to see if the inputs are valid.\n",
    "\n",
    "If one of the inputs is not `'rock'`, `'paper'` or `'scissors'`, print `'Invalid input'`"
   ]
  },
  {
   "cell_type": "code",
   "execution_count": null,
   "id": "2e13fc71",
   "metadata": {},
   "outputs": [],
   "source": [
    "player_1 = input(\"What is player 1 choice? rock, paper or scissors? \")\n",
    "player_2 = input(\"What is player 2 choice? rock, paper or scissors? \")\n",
    "# Add your code below this line\n",
    "# TODO - Code the logic for the game to handle invalid inputs\n"
   ]
  },
  {
   "cell_type": "code",
   "execution_count": null,
   "id": "c287b6d5",
   "metadata": {},
   "outputs": [],
   "source": [
    "#@title #### Run this cell to check if your code looks good { display-mode: \"form\"}\n",
    "assert \"# Add your code below this line\" in _ih[-2], \"Before checking your code, make sure the last cell you ran contains your code. If you did, make sure you haven't deleted the comment that says '# Add your code below this line'.\"\n",
    "assert \"#@title\" not in _ih[-2], \"If you want to check your code, rerun the cell that contains your code. If you did, make sure you haven't deleted the comment that says '# Add your code below this line'.\"\n",
    "\n",
    "marking_system.check_step_2(_ih[-2])\n"
   ]
  },
  {
   "attachments": {},
   "cell_type": "markdown",
   "id": "aa4e1c13",
   "metadata": {},
   "source": [
    "### 3. Add a check to see if the inputs are the same.\n",
    "\n",
    "Use the same code you have written above, but add a check to see if the inputs are the same.\n",
    "\n",
    "If both inputs are the same, print `\"It's a tie\"`"
   ]
  },
  {
   "cell_type": "code",
   "execution_count": null,
   "id": "8638a2a0",
   "metadata": {},
   "outputs": [],
   "source": [
    "player_1 = input(\"What is player 1 choice? rock, paper or scissors? \")\n",
    "player_2 = input(\"What is player 2 choice? rock, paper or scissors? \")\n",
    "# Add your code below this line\n",
    "# TODO - Code the logic for the game to handle invalid inputs\n"
   ]
  },
  {
   "cell_type": "code",
   "execution_count": null,
   "id": "3f126137",
   "metadata": {},
   "outputs": [],
   "source": [
    "#@title #### Run this cell to check if your code looks good { display-mode: \"form\"}\n",
    "assert \"# Add your code below this line\" in _ih[-2], \"Before checking your code, make sure the last cell you ran contains your code. If you did, make sure you haven't deleted the comment that says '# Add your code below this line'.\"\n",
    "assert \"#@title\" not in _ih[-2], \"If you want to check your code, rerun the cell that contains your code. If you did, make sure you haven't deleted the comment that says '# Add your code below this line'.\"\n",
    "\n",
    "marking_system.check_step_3(_ih[-2])\n"
   ]
  },
  {
   "attachments": {},
   "cell_type": "markdown",
   "id": "50a2ca97",
   "metadata": {},
   "source": [
    "### 4. Test your code with the following inputs:\n",
    "\n",
    "- Player 1: `scissors`, Player 2: `paper` (This should print `'Player 1 wins'`)\n",
    "- Player 1: `scissors`, Player 2: `rock` (This should print `'Player 2 wins'`)\n",
    "- Player 1: `paper`, Player 2: `paper` (This should print `'It's a tie'`)\n",
    "- Player 1: `rock` Player 2: `lizzard` (This should print `'Invalid input'`)"
   ]
  },
  {
   "cell_type": "code",
   "execution_count": null,
   "id": "f9960b58",
   "metadata": {},
   "outputs": [],
   "source": []
  }
 ],
 "metadata": {
  "kernelspec": {
   "display_name": "content-projects_new",
   "language": "python",
   "name": "python3"
  },
  "language_info": {
   "codemirror_mode": {
    "name": "ipython",
    "version": 3
   },
   "file_extension": ".py",
   "mimetype": "text/x-python",
   "name": "python",
   "nbconvert_exporter": "python",
   "pygments_lexer": "ipython3",
   "version": "3.9.15"
  },
  "vscode": {
   "interpreter": {
    "hash": "4b961f8166aad6ccb4cf65d0f9c742ef9c6c23ffe83ad932438cd83ed96aebaf"
   }
  }
 },
 "nbformat": 4,
 "nbformat_minor": 5
}
