{
 "cells": [
  {
   "cell_type": "markdown",
   "id": "981f2cf0",
   "metadata": {},
   "source": [
    "# Unique Elements in a List"
   ]
  },
  {
   "cell_type": "code",
   "execution_count": null,
   "id": "a285e4c8",
   "metadata": {},
   "outputs": [],
   "source": [
    "#@title ### Run the following cell to download the necessary files for this practical { display-mode: \"form\" } \n",
    "#@markdown Don't worry about what's in this collapsed cell\n",
    "\n",
    "print('Downloading the marking system')\n",
    "!wget https://s3-eu-west-1.amazonaws.com/aicore-portal-public-prod-307050600709/practical_files/687434dd-0cfa-4764-8158-d2fcfec094dc/marking_system.py -q -O marking_system.py\n",
    "import marking_system\n",
    "import importlib\n",
    "importlib.reload(marking_system)\n",
    "import sys\n",
    "ipython = get_ipython()\n",
    "def hide_traceback(exc_tuple=None, filename=None, tb_offset=None, exception_only=False, running_compiled_code=False):\n",
    "    etype, value, tb = sys.exc_info()\n",
    "    value.__cause__ = None  # suppress chained exceptions\n",
    "    return ipython._showtraceback(etype, \"❌ \" + f\"\u001b[91m{value}\", ipython.InteractiveTB.get_exception_only(etype, \"❌ \" + f\"\u001b[91m{value}\"))\n",
    "ipython.showtraceback = hide_traceback\n"
   ]
  },
  {
   "attachments": {},
   "cell_type": "markdown",
   "id": "91272de2",
   "metadata": {},
   "source": [
    "### 1.Given a list named `my_list`, write a program that checks if all the elements in the list are unique.\n",
    "\n",
    "If the elements are unique, print `All elements are unique`. Otherwise, print `There are duplicate elements`.\n",
    "\n",
    "_Hint: Use a set to check if the number of elements in the list is equal to the number of elements in the set._"
   ]
  },
  {
   "cell_type": "code",
   "execution_count": null,
   "id": "48be7267",
   "metadata": {},
   "outputs": [],
   "source": [
    "# Add your code below this line\n",
    "# TODO - Create a variable called my_list\n",
    "\n",
    "# TODO - Create the if/else statement to check if all elements in the list are unique\n"
   ]
  },
  {
   "cell_type": "code",
   "execution_count": null,
   "id": "6d00a7e1",
   "metadata": {},
   "outputs": [],
   "source": [
    "#@title #### Run this cell to check if your code looks good { display-mode: \"form\"}\n",
    "assert \"# Add your code below this line\" in _ih[-2], \"Before checking your code, make sure the last cell you ran contains your code. If you did, make sure you haven't deleted the comment that says '# Add your code below this line'.\"\n",
    "assert \"#@title\" not in _ih[-2], \"If you want to check your code, rerun the cell that contains your code. If you did, make sure you haven't deleted the comment that says '# Add your code below this line'.\"\n",
    "\n",
    "marking_system.check_step_1(_ih[-2])\n"
   ]
  }
 ],
 "metadata": {
  "language_info": {
   "name": "python"
  }
 },
 "nbformat": 4,
 "nbformat_minor": 5
}
