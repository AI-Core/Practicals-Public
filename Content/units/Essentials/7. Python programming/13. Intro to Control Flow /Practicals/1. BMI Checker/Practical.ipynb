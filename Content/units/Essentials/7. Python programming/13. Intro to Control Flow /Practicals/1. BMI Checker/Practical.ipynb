{
 "cells": [
  {
   "cell_type": "markdown",
   "id": "48aa68f0",
   "metadata": {},
   "source": [
    "# BMI Checker"
   ]
  },
  {
   "cell_type": "code",
   "execution_count": null,
   "id": "5ae0e32d",
   "metadata": {},
   "outputs": [],
   "source": [
    "#@title ### Run the following cell to download the necessary files for this practical { display-mode: \"form\" } \n",
    "#@markdown Don't worry about what's in this collapsed cell\n",
    "\n",
    "print('Downloading the marking system')\n",
    "!wget https://s3-eu-west-1.amazonaws.com/aicore-portal-public-prod-307050600709/practical_files/c6de4fa0-bdf6-417d-844f-8727e1dffd59/marking_system.py -q -O marking_system.py\n",
    "import marking_system\n",
    "import importlib\n",
    "importlib.reload(marking_system)\n",
    "import sys\n",
    "ipython = get_ipython()\n",
    "def hide_traceback(exc_tuple=None, filename=None, tb_offset=None, exception_only=False, running_compiled_code=False):\n",
    "    etype, value, tb = sys.exc_info()\n",
    "    value.__cause__ = None  # suppress chained exceptions\n",
    "    return ipython._showtraceback(etype, \"❌ \" + f\"\u001b[91m{value}\", ipython.InteractiveTB.get_exception_only(etype, \"❌ \" + f\"\u001b[91m{value}\"))\n",
    "ipython.showtraceback = hide_traceback\n"
   ]
  },
  {
   "attachments": {},
   "cell_type": "markdown",
   "id": "c2c38494",
   "metadata": {},
   "source": [
    "### 1. Given 2 variables, `height` (m) and `weight` (kg), calculate the BMI (`weight` / `height` ^2)"
   ]
  },
  {
   "cell_type": "code",
   "execution_count": null,
   "id": "f0bd75c1",
   "metadata": {},
   "outputs": [],
   "source": [
    "# TODO - Create a variable called height and assign it your height in metres\n",
    "# TODO - Create a variable called weight and assign it your weight in kg\n",
    "# TODO - Create a variable called bmi and assign it the value of your BMI (weight / height ** 2)\n"
   ]
  },
  {
   "cell_type": "code",
   "execution_count": null,
   "id": "1ea06144",
   "metadata": {},
   "outputs": [],
   "source": [
    "#@title #### Run this cell to check your answer { display-mode: \"form\", run: \"auto\" }\n",
    "\n",
    "assert \"height\" in globals(), \"You need to create a variable called height\"\n",
    "assert \"weight\" in globals(), \"You need to create a variable called weight\"\n",
    "assert \"bmi\" in globals(), \"You need to create a variable called bmi\"\n",
    "marking_system.check_step_1(height, weight, bmi)\n"
   ]
  },
  {
   "attachments": {},
   "cell_type": "markdown",
   "id": "a64f94f2",
   "metadata": {},
   "source": [
    "\n",
    "### 2. Using the parameter BMI, write a series of if statements that print the following outcomes:\n",
    "\n",
    "- __Below 18.5__ ⮕ \"Your BMI is x. You're in the underweight range.\"\n",
    "- __Between 18.5 and 24.9__ ⮕ \"Your BMI is x. You're in the healthy weight range.\"\n",
    "- __Between 25 and 29.9__ ⮕ \"Your BMI is x. You're in the overweight range.\"\n",
    "- __Between 30 and 39.9__ ⮕ \"Your BMI is x. You're in the obese range.\""
   ]
  },
  {
   "cell_type": "code",
   "execution_count": null,
   "id": "61bad754",
   "metadata": {},
   "outputs": [],
   "source": [
    "# Add your code below this line\n",
    "# TODO - Create the if/elif/else statement to print the correct message\n"
   ]
  },
  {
   "cell_type": "code",
   "execution_count": null,
   "id": "f35eb976",
   "metadata": {},
   "outputs": [],
   "source": [
    "#@title #### Run this cell to check if your code looks good { display-mode: \"form\"}\n",
    "assert \"# Add your code below this line\" in _ih[-2], \"Before checking your code, make sure the last cell you ran contains your code. If you did, make sure you haven't deleted the comment that says '# Add your code below this line'.\"\n",
    "assert \"#@title\" not in _ih[-2], \"If you want to check your code, rerun the cell that contains your code. If you did, make sure you haven't deleted the comment that says '# Add your code below this line'.\"\n",
    "\n",
    "marking_system.check_step_2(_ih[-2])\n"
   ]
  },
  {
   "attachments": {},
   "cell_type": "markdown",
   "id": "814c7364",
   "metadata": {},
   "source": [
    "### 3. Test your code with the following cases by substituting them in for weight and height values in your code:\n",
    "\n",
    "- Height: 1.83m, Weight: 85kg\n",
    "\n",
    "- Height: 1.55m, Weight: 61kg\n",
    "\n",
    "- Height: 2.09m, Weight: 135kg"
   ]
  },
  {
   "cell_type": "code",
   "execution_count": null,
   "id": "1e415e40",
   "metadata": {},
   "outputs": [],
   "source": []
  }
 ],
 "metadata": {
  "kernelspec": {
   "display_name": "content-projects",
   "language": "python",
   "name": "python3"
  },
  "language_info": {
   "codemirror_mode": {
    "name": "ipython",
    "version": 3
   },
   "file_extension": ".py",
   "mimetype": "text/x-python",
   "name": "python",
   "nbconvert_exporter": "python",
   "pygments_lexer": "ipython3",
   "version": "3.9.15"
  }
 },
 "nbformat": 4,
 "nbformat_minor": 5
}
