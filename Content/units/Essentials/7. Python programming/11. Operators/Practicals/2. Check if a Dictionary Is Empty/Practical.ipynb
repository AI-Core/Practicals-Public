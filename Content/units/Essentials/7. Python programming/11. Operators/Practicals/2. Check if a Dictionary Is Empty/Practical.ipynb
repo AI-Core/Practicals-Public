{
 "cells": [
  {
   "cell_type": "markdown",
   "id": "76681cc9",
   "metadata": {},
   "source": [
    "# Check if a Dictionary Is Empty"
   ]
  },
  {
   "cell_type": "code",
   "execution_count": null,
   "id": "f18fa14c",
   "metadata": {},
   "outputs": [],
   "source": [
    "#@title ### Run the following cell to download the necessary files for this practical { display-mode: \"form\" } \n",
    "#@markdown Don't worry about what's in this collapsed cell\n",
    "\n",
    "print('Downloading the marking system')\n",
    "!wget https://s3-eu-west-1.amazonaws.com/aicore-portal-public-prod-307050600709/practical_files/c2f50734-86f1-4349-9567-7adfd0d1fe68/marking_system.py -q -O marking_system.py\n",
    "import marking_system\n",
    "import importlib\n",
    "importlib.reload(marking_system)\n",
    "import sys\n",
    "ipython = get_ipython()\n",
    "def hide_traceback(exc_tuple=None, filename=None, tb_offset=None, exception_only=False, running_compiled_code=False):\n",
    "    etype, value, tb = sys.exc_info()\n",
    "    value.__cause__ = None  # suppress chained exceptions\n",
    "    return ipython._showtraceback(etype, \"❌ \" + f\"\u001b[91m{value}\", ipython.InteractiveTB.get_exception_only(etype, \"❌ \" + f\"\u001b[91m{value}\"))\n",
    "ipython.showtraceback = hide_traceback\n"
   ]
  },
  {
   "attachments": {},
   "cell_type": "markdown",
   "id": "987c4c51",
   "metadata": {},
   "source": [
    "### Given the following empty dictionary."
   ]
  },
  {
   "cell_type": "code",
   "execution_count": 1,
   "id": "8ff7ad25",
   "metadata": {},
   "outputs": [
    {
     "data": {
      "text/plain": [
       "False"
      ]
     },
     "execution_count": 1,
     "metadata": {},
     "output_type": "execute_result"
    }
   ],
   "source": [
    "my_dict = {}\n",
    "bool(my_dict)\n"
   ]
  },
  {
   "attachments": {},
   "cell_type": "markdown",
   "id": "08719dc3",
   "metadata": {},
   "source": [
    "### 1. Check if `my_dict` is empty. For each method you find, the output should be `True`.\n",
    "\n",
    "There are different ways to check it, can you find at least three?"
   ]
  },
  {
   "cell_type": "code",
   "execution_count": null,
   "id": "17d28fa8",
   "metadata": {},
   "outputs": [],
   "source": [
    "# TODO - Check if my_dict is empty _Hint_ use the bool function\n",
    "# TODO - Check if my_dict is empty _Hint_ use the len function\n",
    "# TODO - Check if my_dict is empty \n"
   ]
  },
  {
   "cell_type": "code",
   "execution_count": null,
   "id": "1b2ed343",
   "metadata": {},
   "outputs": [],
   "source": [
    "#@title #### Enter your answer here { display-mode: \"form\", run: \"auto\" }\n",
    "\n",
    "assert \"my_dict\" in globals(), \"The variable 'my_dict' does not exist. Please, try again.\"\n",
    "#@markdown There are many ways to check if a dictionary is empty. Select the correct answers.\n",
    "ans_1 = \"\" #@param [\"not bool(my_dict)\", \"bool(my_dict)\", \"\"]\n",
    "ans_2 = \"\" #@param [\"len(my_dict) == 0\", \"len(my_dict) != 1\", \"\"]\n",
    "ans_3 = \"\" #@param [\"my_dict == {}\", \"my_dict is {}\", \"\"]\n",
    "marking_system.check_step_1(ans_1, ans_2, ans_3)\n"
   ]
  },
  {
   "attachments": {},
   "cell_type": "markdown",
   "id": "26a54b2a",
   "metadata": {},
   "source": [
    "Given the following dictionary."
   ]
  },
  {
   "cell_type": "code",
   "execution_count": null,
   "id": "80975bc7",
   "metadata": {},
   "outputs": [],
   "source": [
    "my_dict_2 = {\"key_1\": 1, \"key_2\": 2}\n"
   ]
  },
  {
   "attachments": {},
   "cell_type": "markdown",
   "id": "49854df9",
   "metadata": {},
   "source": [
    "### 2. Check if `my_dict_2` is empty.\n",
    "\n",
    "You can use the same methods you used above, and you should get `False` for each method."
   ]
  },
  {
   "cell_type": "code",
   "execution_count": null,
   "id": "11c36c61",
   "metadata": {},
   "outputs": [],
   "source": []
  }
 ],
 "metadata": {
  "kernelspec": {
   "display_name": "content-projects_new",
   "language": "python",
   "name": "python3"
  },
  "language_info": {
   "codemirror_mode": {
    "name": "ipython",
    "version": 3
   },
   "file_extension": ".py",
   "mimetype": "text/x-python",
   "name": "python",
   "nbconvert_exporter": "python",
   "pygments_lexer": "ipython3",
   "version": "3.10.8"
  },
  "vscode": {
   "interpreter": {
    "hash": "4b961f8166aad6ccb4cf65d0f9c742ef9c6c23ffe83ad932438cd83ed96aebaf"
   }
  }
 },
 "nbformat": 4,
 "nbformat_minor": 5
}
