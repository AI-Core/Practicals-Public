{
 "cells": [
  {
   "cell_type": "markdown",
   "id": "e83c42e7",
   "metadata": {},
   "source": [
    "# Check if an Element Is in a List"
   ]
  },
  {
   "cell_type": "code",
   "execution_count": null,
   "id": "dc0da644",
   "metadata": {},
   "outputs": [],
   "source": [
    "#@title ### Run the following cell to download the necessary files for this practical { display-mode: \"form\" } \n",
    "#@markdown Don't worry about what's in this collapsed cell\n",
    "\n",
    "print('Downloading the marking system')\n",
    "!wget https://s3-eu-west-1.amazonaws.com/aicore-portal-public-prod-307050600709/practical_files/fb1bf0fa-5fd5-4f8a-ae8d-0ae0f6f7760e/marking_system.py -q -O marking_system.py\n",
    "import marking_system\n",
    "import importlib\n",
    "importlib.reload(marking_system)\n",
    "import sys\n",
    "ipython = get_ipython()\n",
    "def hide_traceback(exc_tuple=None, filename=None, tb_offset=None, exception_only=False, running_compiled_code=False):\n",
    "    etype, value, tb = sys.exc_info()\n",
    "    value.__cause__ = None  # suppress chained exceptions\n",
    "    return ipython._showtraceback(etype, \"❌ \" + f\"\u001b[91m{value}\", ipython.InteractiveTB.get_exception_only(etype, \"❌ \" + f\"\u001b[91m{value}\"))\n",
    "ipython.showtraceback = hide_traceback\n"
   ]
  },
  {
   "attachments": {},
   "cell_type": "markdown",
   "id": "6fb78177",
   "metadata": {},
   "source": [
    "### Given the following list"
   ]
  },
  {
   "cell_type": "code",
   "execution_count": null,
   "id": "1f944e88",
   "metadata": {},
   "outputs": [],
   "source": [
    "my_list = [1, 2, 3, 4, 5]\n"
   ]
  },
  {
   "attachments": {},
   "cell_type": "markdown",
   "id": "1a5ddbec",
   "metadata": {},
   "source": [
    "### 1. Check if `1` is in `my_list`.\n",
    "\n",
    "The result should be a boolean."
   ]
  },
  {
   "cell_type": "code",
   "execution_count": null,
   "id": "785607e3",
   "metadata": {},
   "outputs": [],
   "source": [
    "# TODO - check if 1 is in my_list\n"
   ]
  },
  {
   "attachments": {},
   "cell_type": "markdown",
   "id": "0fd38987",
   "metadata": {},
   "source": [
    "### 2. Check if `6` is in `my_list`"
   ]
  },
  {
   "cell_type": "code",
   "execution_count": null,
   "id": "538b7c01",
   "metadata": {},
   "outputs": [],
   "source": [
    "# TODO - check if 6 isin my_list\n"
   ]
  },
  {
   "cell_type": "code",
   "execution_count": null,
   "id": "d2f21d88",
   "metadata": {},
   "outputs": [],
   "source": [
    "#@title #### Run this cell to check your answer { display-mode: \"form\", run: \"auto\" }\n",
    "\n",
    "assert \"my_list\" in globals(), \"The variable 'my_list' does not exist. Please, create it.\"\n",
    "#@markdown What operator should you use to check if an element is in a list?\n",
    "ans = \"\" #@param [\"in\", \"not in\", \"is\", \"is not\", \"==\", \"!=\", \"\"]\n",
    "marking_system.check_step_1(ans)\n"
   ]
  },
  {
   "attachments": {},
   "cell_type": "markdown",
   "id": "e91d2899",
   "metadata": {},
   "source": [
    "### 3. Check if `7` is NOT in `my_list`"
   ]
  },
  {
   "cell_type": "code",
   "execution_count": null,
   "id": "a0a05ef1",
   "metadata": {},
   "outputs": [],
   "source": [
    "# TODO - check if 7 is no in my_list\n"
   ]
  },
  {
   "cell_type": "code",
   "execution_count": null,
   "id": "2bce99b1",
   "metadata": {},
   "outputs": [],
   "source": [
    "#@title #### Run this cell to check your answer { display-mode: \"form\", run: \"auto\" }\n",
    "\n",
    "assert \"my_list\" in globals(), \"The variable 'my_list' does not exist. Please, create it.\"\n",
    "#@markdown What operator should you use to check if an element is in NOT a list?\n",
    "ans = \"\" #@param [\"in\", \"not in\", \"is\", \"is not\", \"==\", \"!=\", \"\"]\n",
    "marking_system.check_step_2(ans)\n"
   ]
  }
 ],
 "metadata": {
  "kernelspec": {
   "display_name": "content-projects_new",
   "language": "python",
   "name": "python3"
  },
  "language_info": {
   "name": "python",
   "version": "3.10.8"
  },
  "vscode": {
   "interpreter": {
    "hash": "4b961f8166aad6ccb4cf65d0f9c742ef9c6c23ffe83ad932438cd83ed96aebaf"
   }
  }
 },
 "nbformat": 4,
 "nbformat_minor": 5
}
