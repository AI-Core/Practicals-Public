{
 "cells": [
  {
   "cell_type": "markdown",
   "id": "dbf7c402",
   "metadata": {},
   "source": [
    "# Check if Two Numbers and Two Strings Are Equal"
   ]
  },
  {
   "cell_type": "code",
   "execution_count": null,
   "id": "c0b3165d",
   "metadata": {},
   "outputs": [],
   "source": [
    "#@title ### Run the following cell to download the necessary files for this practical { display-mode: \"form\" } \n",
    "#@markdown Don't worry about what's in this collapsed cell\n",
    "\n",
    "print('Downloading the marking system')\n",
    "!wget https://s3-eu-west-1.amazonaws.com/aicore-portal-public-prod-307050600709/practical_files/bca051f4-ae48-46b1-89dd-3701913a781b/marking_system.py -q -O marking_system.py\n",
    "import marking_system\n",
    "import importlib\n",
    "importlib.reload(marking_system)\n",
    "import sys\n",
    "ipython = get_ipython()\n",
    "def hide_traceback(exc_tuple=None, filename=None, tb_offset=None, exception_only=False, running_compiled_code=False):\n",
    "    etype, value, tb = sys.exc_info()\n",
    "    value.__cause__ = None  # suppress chained exceptions\n",
    "    return ipython._showtraceback(etype, \"❌ \" + f\"\u001b[91m{value}\", ipython.InteractiveTB.get_exception_only(etype, \"❌ \" + f\"\u001b[91m{value}\"))\n",
    "ipython.showtraceback = hide_traceback\n"
   ]
  },
  {
   "attachments": {},
   "cell_type": "markdown",
   "id": "8dcf50d9",
   "metadata": {},
   "source": [
    "### Given the following variables"
   ]
  },
  {
   "cell_type": "code",
   "execution_count": null,
   "id": "791a9500",
   "metadata": {},
   "outputs": [],
   "source": [
    "my_number_1 = 1\n",
    "my_number_2 = 2\n"
   ]
  },
  {
   "attachments": {},
   "cell_type": "markdown",
   "id": "f363b51f",
   "metadata": {},
   "source": [
    "### 1. Check if the value of `my_number_1` is equal to the value of `my_number_2`.\n",
    "\n",
    "The output should be a boolean value."
   ]
  },
  {
   "cell_type": "code",
   "execution_count": null,
   "id": "da85abd0",
   "metadata": {},
   "outputs": [],
   "source": []
  },
  {
   "cell_type": "code",
   "execution_count": null,
   "id": "04b15760",
   "metadata": {},
   "outputs": [],
   "source": [
    "#@title #### Run this cell to check your answer { display-mode: \"form\", run: \"auto\" }\n",
    "\n",
    "assert \"my_number_1\" in globals(), \"The variable 'my_number_1' does not exist. Please, run the cell above to create it.\"\n",
    "assert \"my_number_2\" in globals(), \"The variable 'my_number_2' does not exist. Please, run the cell above to create it.\"\n",
    "#@markdown What operator can you use to check if two variables have the same value?\n",
    "ans = \"\" #@param [\"==\", \"!=\", \"in\", \"not in\", \"\"]\n",
    "marking_system.check_step_1(ans)\n"
   ]
  },
  {
   "attachments": {},
   "cell_type": "markdown",
   "id": "bac01633",
   "metadata": {},
   "source": [
    "### 2. Check if `my_number_1` and `my_number_2` are the same __object__ using the `is` operator\n",
    "\n",
    "The output should be a boolean value."
   ]
  },
  {
   "cell_type": "code",
   "execution_count": null,
   "id": "a87c4798",
   "metadata": {},
   "outputs": [],
   "source": []
  },
  {
   "cell_type": "code",
   "execution_count": null,
   "id": "12f18fff",
   "metadata": {},
   "outputs": [],
   "source": [
    "#@title #### Run this cell to check your answer { display-mode: \"form\", run: \"auto\" }\n",
    "\n",
    "assert \"my_number_1\" in globals(), \"The variable 'my_number_1' does not exist. Please, run the cell above to create it.\"\n",
    "assert \"my_number_2\" in globals(), \"The variable 'my_number_2' does not exist. Please, run the cell above to create it.\"\n",
    "#@markdown What operator can you use to check if two variables are the same object?\n",
    "ans = \"\" #@param [\"==\", \"!=\", \"in\", \"not in\", \"is\", \"is not\", \"\"]\n",
    "marking_system.check_step_2(ans)\n"
   ]
  },
  {
   "attachments": {},
   "cell_type": "markdown",
   "id": "d8d21ca1",
   "metadata": {},
   "source": [
    "### Let's do the same with two numbers that are equal"
   ]
  },
  {
   "cell_type": "code",
   "execution_count": null,
   "id": "59a454ed",
   "metadata": {},
   "outputs": [],
   "source": [
    "my_number_1 = 1\n",
    "my_number_2 = 1\n"
   ]
  },
  {
   "attachments": {},
   "cell_type": "markdown",
   "id": "20450dab",
   "metadata": {},
   "source": [
    "### 3. Check if `my_number_1` and `my_number_2` are the same __object__ using the `is` operator"
   ]
  },
  {
   "cell_type": "code",
   "execution_count": null,
   "id": "4a8b57ca",
   "metadata": {},
   "outputs": [],
   "source": []
  },
  {
   "cell_type": "code",
   "execution_count": null,
   "id": "eead3620",
   "metadata": {},
   "outputs": [],
   "source": [
    "#@title #### Enter your answer here { display-mode: \"form\", run: \"auto\" }\n",
    "\n",
    "assert \"my_number_1\" in globals(), \"The variable 'my_number_1' does not exist. Please, run the cell above to create it.\"\n",
    "assert my_number_1 == 1, \"The value of 'my_number_1' is incorrect. It should be 1. Please, try again.\"\n",
    "assert \"my_number_2\" in globals(), \"The variable 'my_number_2' does not exist. Please, run the cell above to create it.\"\n",
    "assert my_number_2 == 1, \"The value of 'my_number_2' is incorrect. It should be 1. Please, try again.\"\n",
    "#@markdown my_number_1 and my_number_2 have the same value, but are two different variables. Why the `is` operator returns `True`?\n",
    "ans = \"\" #@param [\"Because everything with the same value is the same object\", \"Because both variables are pointing to the same object (1)\", \"Because both variables have a similar name\", \"\"]\n",
    "marking_system.check_step_3(ans)\n"
   ]
  },
  {
   "attachments": {},
   "cell_type": "markdown",
   "id": "7358aa71",
   "metadata": {},
   "source": [
    "### Now, let's do the same using the following lists with the same values"
   ]
  },
  {
   "cell_type": "code",
   "execution_count": null,
   "id": "07b3dfdd",
   "metadata": {},
   "outputs": [],
   "source": [
    "my_list_1 = [1, 2, 3, 4, 5]\n",
    "my_list_2 = [1, 2, 3, 4, 5]\n"
   ]
  },
  {
   "attachments": {},
   "cell_type": "markdown",
   "id": "125d54e2",
   "metadata": {},
   "source": [
    "### 4. Check if `my_list_1` is equal to `my_list_2` using the `==` operator.\n",
    "\n",
    "The result should be a boolean."
   ]
  },
  {
   "cell_type": "code",
   "execution_count": null,
   "id": "156ba3e5",
   "metadata": {},
   "outputs": [],
   "source": []
  },
  {
   "cell_type": "code",
   "execution_count": null,
   "id": "8bd68d24",
   "metadata": {},
   "outputs": [],
   "source": [
    "#@title #### Run this cell to check your answer { display-mode: \"form\", run: \"auto\" }\n",
    "\n",
    "assert \"my_list_1\" in globals(), \"The variable 'my_list_1' does not exist. Please, run the cell above to create it.\"\n",
    "assert \"my_list_2\" in globals(), \"The variable 'my_list_2' does not exist. Please, run the cell above to create it.\"\n",
    "#@markdown What operator can you use to check if two lists have the same elements?\n",
    "ans = \"\" #@param [\"==\", \"!=\", \"in\", \"not in\", \"\"]\n",
    "marking_system.check_step_4(ans)\n"
   ]
  },
  {
   "attachments": {},
   "cell_type": "markdown",
   "id": "85fdd59f",
   "metadata": {},
   "source": [
    "### 5. Check if `my_list_1` and `my_list_2` are the same object using the `is` operator.\n",
    "\n",
    "Are they the same? Why or why not?"
   ]
  },
  {
   "cell_type": "code",
   "execution_count": null,
   "id": "9aa528e2",
   "metadata": {},
   "outputs": [],
   "source": []
  },
  {
   "cell_type": "code",
   "execution_count": null,
   "id": "f54f3abc",
   "metadata": {},
   "outputs": [],
   "source": [
    "#@title #### Enter your answer here { display-mode: \"form\", run: \"auto\" }\n",
    "\n",
    "assert \"my_list_1\" in globals(), \"The variable 'my_list_1' does not exist. Please, run the cell above to create it.\"\n",
    "assert \"my_list_2\" in globals(), \"The variable 'my_list_2' does not exist. Please, run the cell above to create it.\"\n",
    "#@markdown Now, the `is` operator returns `False`. Why?\n",
    "ans = \"\" #@param [\"Because Python creates two different objects for the two lists\", \"Because the values are different\", \"Because the lists have different names\", \"\"]\n",
    "marking_system.check_step_5(ans)\n"
   ]
  }
 ],
 "metadata": {
  "kernelspec": {
   "display_name": "content-projects_new",
   "language": "python",
   "name": "python3"
  },
  "language_info": {
   "codemirror_mode": {
    "name": "ipython",
    "version": 3
   },
   "file_extension": ".py",
   "mimetype": "text/x-python",
   "name": "python",
   "nbconvert_exporter": "python",
   "pygments_lexer": "ipython3",
   "version": "3.10.8"
  },
  "vscode": {
   "interpreter": {
    "hash": "4b961f8166aad6ccb4cf65d0f9c742ef9c6c23ffe83ad932438cd83ed96aebaf"
   }
  }
 },
 "nbformat": 4,
 "nbformat_minor": 5
}
