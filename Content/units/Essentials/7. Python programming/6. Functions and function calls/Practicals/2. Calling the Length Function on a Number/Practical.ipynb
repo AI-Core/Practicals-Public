{
 "cells": [
  {
   "cell_type": "markdown",
   "id": "40052489",
   "metadata": {},
   "source": [
    "# Calling the Length Function on a Number"
   ]
  },
  {
   "cell_type": "code",
   "execution_count": null,
   "id": "367acfcc",
   "metadata": {},
   "outputs": [],
   "source": [
    "#@title ### Run the following cell to download the necessary files for this practical { display-mode: \"form\" } \n",
    "#@markdown Don't worry about what's in this collapsed cell\n",
    "\n",
    "print('Downloading the marking system')\n",
    "!wget https://s3-eu-west-1.amazonaws.com/aicore-portal-public-prod-307050600709/practical_files/c45fd583-215a-4860-87d0-c43f7eea597d/marking_system.py -q -O marking_system.py\n",
    "import marking_system\n",
    "import importlib\n",
    "importlib.reload(marking_system)\n",
    "import sys\n",
    "ipython = get_ipython()\n",
    "def hide_traceback(exc_tuple=None, filename=None, tb_offset=None, exception_only=False, running_compiled_code=False):\n",
    "    etype, value, tb = sys.exc_info()\n",
    "    value.__cause__ = None  # suppress chained exceptions\n",
    "    return ipython._showtraceback(etype, \"❌ \" + f\"\u001b[91m{value}\", ipython.InteractiveTB.get_exception_only(etype, \"❌ \" + f\"\u001b[91m{value}\"))\n",
    "ipython.showtraceback = hide_traceback\n"
   ]
  },
  {
   "cell_type": "markdown",
   "id": "1016613e",
   "metadata": {},
   "source": [
    "#### 1. Create a variable called `my_number` and assign it the value `5`"
   ]
  },
  {
   "cell_type": "code",
   "execution_count": null,
   "id": "2c4de175",
   "metadata": {},
   "outputs": [],
   "source": [
    "# TODO - Create an integer with the value 5 and assign it to the variable my_number\n"
   ]
  },
  {
   "attachments": {},
   "cell_type": "markdown",
   "id": "23e2d2a8",
   "metadata": {},
   "source": [
    "#### 2. Print the length of `my_number` and assign it to a variable called `my_length`\n",
    "\n",
    "Did it work? Why not?"
   ]
  },
  {
   "cell_type": "code",
   "execution_count": null,
   "id": "b8c7ce5a",
   "metadata": {},
   "outputs": [],
   "source": [
    "# TODO - Call the len() function on the variable my_number\n"
   ]
  },
  {
   "cell_type": "code",
   "execution_count": null,
   "id": "552d728b",
   "metadata": {},
   "outputs": [],
   "source": [
    "#@title #### Did it work? If not, what does the error say? { display-mode: \"form\", run: \"auto\" }\n",
    "\n",
    "ans_1 = \"\" #@param [\"Yes, it worked\", \"AssertionError\", \"TypeError\", \"NameError\", \"SyntaxError\"]\n",
    "marking_system.check_step_2(ans_1)\n"
   ]
  }
 ],
 "metadata": {
  "kernelspec": {
   "display_name": "content-projects_new",
   "language": "python",
   "name": "python3"
  },
  "language_info": {
   "codemirror_mode": {
    "name": "ipython",
    "version": 3
   },
   "file_extension": ".py",
   "mimetype": "text/x-python",
   "name": "python",
   "nbconvert_exporter": "python",
   "pygments_lexer": "ipython3",
   "version": "3.10.8"
  },
  "vscode": {
   "interpreter": {
    "hash": "4b961f8166aad6ccb4cf65d0f9c742ef9c6c23ffe83ad932438cd83ed96aebaf"
   }
  }
 },
 "nbformat": 4,
 "nbformat_minor": 5
}
