{
 "cells": [
  {
   "cell_type": "markdown",
   "id": "c39806a8",
   "metadata": {},
   "source": [
    "# Calling the Essential Print Function"
   ]
  },
  {
   "attachments": {},
   "cell_type": "markdown",
   "id": "28f7d80d",
   "metadata": {},
   "source": [
    "#### 1. Print out the message \"This print statement was created in Python\".\n",
    "\n",
    "`print()` is a built-in function that prints out the message that is passed to it. The message is passed as an argument to the function and it will show the message in the output cell."
   ]
  },
  {
   "cell_type": "code",
   "execution_count": null,
   "id": "023b1ba5",
   "metadata": {},
   "outputs": [],
   "source": [
    "# TODO - print \"This print statement was created in Python\" using the print function\n"
   ]
  }
 ],
 "metadata": {
  "kernelspec": {
   "display_name": "content-projects_new",
   "language": "python",
   "name": "python3"
  },
  "language_info": {
   "name": "python",
   "version": "3.10.8"
  },
  "vscode": {
   "interpreter": {
    "hash": "4b961f8166aad6ccb4cf65d0f9c742ef9c6c23ffe83ad932438cd83ed96aebaf"
   }
  }
 },
 "nbformat": 4,
 "nbformat_minor": 5
}
