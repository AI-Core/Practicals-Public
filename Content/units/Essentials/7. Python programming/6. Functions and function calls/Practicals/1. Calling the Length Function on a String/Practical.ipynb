{
 "cells": [
  {
   "cell_type": "markdown",
   "id": "dc94b80a",
   "metadata": {},
   "source": [
    "# Calling the Length Function on a String"
   ]
  },
  {
   "cell_type": "code",
   "execution_count": null,
   "id": "6147d8dd",
   "metadata": {},
   "outputs": [],
   "source": [
    "#@title ### Run the following cell to download the necessary files for this practical { display-mode: \"form\" } \n",
    "#@markdown Don't worry about what's in this collapsed cell\n",
    "\n",
    "print('Downloading the marking system')\n",
    "!wget https://s3-eu-west-1.amazonaws.com/aicore-portal-public-prod-307050600709/practical_files/f8a9bbee-9de0-47dc-8137-37481b6bb3b6/marking_system.py -q -O marking_system.py\n",
    "import marking_system\n",
    "import importlib\n",
    "importlib.reload(marking_system)\n",
    "import sys\n",
    "ipython = get_ipython()\n",
    "def hide_traceback(exc_tuple=None, filename=None, tb_offset=None, exception_only=False, running_compiled_code=False):\n",
    "    etype, value, tb = sys.exc_info()\n",
    "    value.__cause__ = None  # suppress chained exceptions\n",
    "    return ipython._showtraceback(etype, \"❌ \" + f\"\u001b[91m{value}\", ipython.InteractiveTB.get_exception_only(etype, \"❌ \" + f\"\u001b[91m{value}\"))\n",
    "ipython.showtraceback = hide_traceback\n"
   ]
  },
  {
   "cell_type": "markdown",
   "id": "246c6b2b",
   "metadata": {},
   "source": [
    "#### 1. Create a variable called `my_string` and assign it the value `\"Hello World\"`"
   ]
  },
  {
   "cell_type": "code",
   "execution_count": null,
   "id": "c2bae2c1",
   "metadata": {},
   "outputs": [],
   "source": [
    "# TODO - Create a variable called 'my_string' and assign it the value \"Hello World\"\n"
   ]
  },
  {
   "cell_type": "code",
   "execution_count": null,
   "id": "c67993a0",
   "metadata": {},
   "outputs": [],
   "source": [
    "#@title #### Run this cell to check your solution { display-mode: \"form\", run: \"auto\" }\n",
    "\n",
    "assert \"my_string\" in globals(), \"The variable 'my_string' does not exist.\"\n",
    "marking_system.check_step_1(my_string)\n"
   ]
  },
  {
   "attachments": {},
   "cell_type": "markdown",
   "id": "e3c3366e",
   "metadata": {},
   "source": [
    "#### 2. Compute the length of `my_string` and assign it to a variable called `my_length`\n",
    "\n",
    "Use the `len()` function to compute the length of `my_string` and assign it to a variable called `my_length`."
   ]
  },
  {
   "cell_type": "code",
   "execution_count": null,
   "id": "5c61b499",
   "metadata": {},
   "outputs": [],
   "source": [
    "# TODO - Create a variable called 'my_length' and assign it the value of the length of 'my_string'\n"
   ]
  },
  {
   "cell_type": "code",
   "execution_count": null,
   "id": "cfe31712",
   "metadata": {},
   "outputs": [],
   "source": [
    "#@title #### Run this cell to check your solution { display-mode: \"form\", run: \"auto\" }\n",
    "\n",
    "assert \"my_length\" in globals(), \"The variable 'my_length' does not exist.\"\n",
    "marking_system.check_step_2(my_string, my_length)\n"
   ]
  },
  {
   "attachments": {},
   "cell_type": "markdown",
   "id": "36ae845a",
   "metadata": {},
   "source": [
    "#### 3. Print the value of `my_length`"
   ]
  },
  {
   "cell_type": "code",
   "execution_count": null,
   "id": "43b7c31f",
   "metadata": {},
   "outputs": [],
   "source": [
    "# TODO - Print the value of 'my_length'\n"
   ]
  },
  {
   "cell_type": "code",
   "execution_count": null,
   "id": "12ff8677",
   "metadata": {},
   "outputs": [],
   "source": [
    "#@title #### What does the length function do on a string? { display-mode: \"form\", run: \"auto\" }\n",
    "\n",
    "ans_1 = \"\" #@param [\"\", \"It checks the number of characters\", \"It checks the number of words in it\"]\n",
    "marking_system.check_step_3(ans_1)\n"
   ]
  }
 ],
 "metadata": {
  "kernelspec": {
   "display_name": "content-projects_new",
   "language": "python",
   "name": "python3"
  },
  "language_info": {
   "name": "python",
   "version": "3.10.8"
  },
  "vscode": {
   "interpreter": {
    "hash": "4b961f8166aad6ccb4cf65d0f9c742ef9c6c23ffe83ad932438cd83ed96aebaf"
   }
  }
 },
 "nbformat": 4,
 "nbformat_minor": 5
}
