{
 "cells": [
  {
   "cell_type": "markdown",
   "id": "8e488a21",
   "metadata": {},
   "source": [
    "# Username List"
   ]
  },
  {
   "cell_type": "code",
   "execution_count": null,
   "id": "1198843c",
   "metadata": {},
   "outputs": [],
   "source": [
    "#@title ### Run the following cell to download the necessary files for this practical { display-mode: \"form\" } \n",
    "#@markdown Don't worry about what's in this collapsed cell\n",
    "\n",
    "print('Downloading the marking system')\n",
    "!wget https://s3-eu-west-1.amazonaws.com/aicore-portal-public-prod-307050600709/practical_files/b2d5d233-0c3a-482d-8d4f-31ac6ac99240/marking_system.py -q -O marking_system.py\n",
    "import marking_system\n",
    "import importlib\n",
    "importlib.reload(marking_system)\n",
    "import sys\n",
    "ipython = get_ipython()\n",
    "def hide_traceback(exc_tuple=None, filename=None, tb_offset=None, exception_only=False, running_compiled_code=False):\n",
    "    etype, value, tb = sys.exc_info()\n",
    "    value.__cause__ = None  # suppress chained exceptions\n",
    "    return ipython._showtraceback(etype, \"❌ \" + f\"\u001b[91m{value}\", ipython.InteractiveTB.get_exception_only(etype, \"❌ \" + f\"\u001b[91m{value}\"))\n",
    "ipython.showtraceback = hide_traceback\n"
   ]
  },
  {
   "attachments": {},
   "cell_type": "markdown",
   "id": "ca779da1",
   "metadata": {},
   "source": [
    "#### 1. Run the code block below to generate a list of 10 random usernames."
   ]
  },
  {
   "cell_type": "code",
   "execution_count": 1,
   "id": "c4d75cae",
   "metadata": {},
   "outputs": [
    {
     "name": "stdout",
     "output_type": "stream",
     "text": [
      "['kkyo6jz45', 'w8qxttbry', 'k97jn', 'sh5ny5', 'tvmiq6qxs0', 'rrlrlam4dh', '4umby8gc', 'ab7dh904', 't0dd7hbt', 'qrsrj']\n"
     ]
    }
   ],
   "source": [
    "import random\n",
    "import string\n",
    "\n",
    "usernames = []\n",
    "\n",
    "for i in range(10):\n",
    "    length = random.randint(5, 10)\n",
    "    username = ''.join(random.choices(string.ascii_lowercase + string.digits, k=length))\n",
    "    usernames.append(username)\n",
    "\n",
    "print(usernames)\n"
   ]
  },
  {
   "cell_type": "markdown",
   "id": "a881f51a",
   "metadata": {},
   "source": [
    "#### 2. Print the type of `usernames`"
   ]
  },
  {
   "cell_type": "code",
   "execution_count": null,
   "id": "b7f8cf28",
   "metadata": {},
   "outputs": [],
   "source": [
    "# TODO - print the type of the variable `usernames`\n"
   ]
  },
  {
   "cell_type": "code",
   "execution_count": null,
   "id": "9dc7a8ff",
   "metadata": {},
   "outputs": [],
   "source": [
    "#@title #### Enter your solution here { display-mode: \"form\", run: \"auto\" }\n",
    "\n",
    "#@markdown What is the type of the variable `usernames`?\n",
    "usernames_type = \"\" #@param [\"str\", \"int\", \"float\", \"bool\", \"list\", \"tuple\", \"dict\", \"other\"]\n",
    "\n",
    "marking_system.check_step_1(usernames_type)\n"
   ]
  },
  {
   "cell_type": "markdown",
   "id": "8ab1741d",
   "metadata": {},
   "source": [
    "#### 3. Print the length of `usernames`"
   ]
  },
  {
   "cell_type": "code",
   "execution_count": null,
   "id": "89e7e3cc",
   "metadata": {},
   "outputs": [],
   "source": [
    "# TODO - print the length of the variable `usernames`\n"
   ]
  },
  {
   "cell_type": "code",
   "execution_count": null,
   "id": "b6d388ad",
   "metadata": {},
   "outputs": [],
   "source": [
    "#@title #### Enter your solution here { display-mode: \"form\", run: \"auto\" }\n",
    "\n",
    "assert \"usernames\" in globals(), \"The variable 'usernames' does not exist. Please, make sure you have defined it\"\n",
    "\n",
    "#@markdown What is the length of the variable `usernames`?\n",
    "usernames_len = 0 #@param {type:\"number\"}\n",
    "\n",
    "marking_system.check_step_2(usernames, usernames_len)\n"
   ]
  },
  {
   "cell_type": "markdown",
   "id": "cd3d2141",
   "metadata": {},
   "source": [
    "#### 4. Print the type of the first item in `usernames`"
   ]
  },
  {
   "cell_type": "code",
   "execution_count": null,
   "id": "f09f8d31",
   "metadata": {},
   "outputs": [],
   "source": [
    "# TODO - Print the type of the first item in `usernames`\n"
   ]
  },
  {
   "cell_type": "code",
   "execution_count": null,
   "id": "1f9be97d",
   "metadata": {},
   "outputs": [],
   "source": [
    "#@title #### Enter your solution here { display-mode: \"form\", run: \"auto\" }\n",
    "\n",
    "#@markdown What is the type of the first item in `usernames`?\n",
    "username_type = \"\" #@param [\"str\", \"int\", \"float\", \"bool\", \"list\", \"tuple\", \"dict\", \"other\"]\n",
    "\n",
    "marking_system.check_step_3(username_type)\n"
   ]
  },
  {
   "attachments": {},
   "cell_type": "markdown",
   "id": "9d14680c",
   "metadata": {},
   "source": [
    "#### 5. Create a new list called `usernames_2`, consisting of the last 5 elements of `usernames`.\n",
    "\n",
    "We are going to create the `copy()` method to create a new list. Otherwise, any change we make to `usernames_2` will also be made to `usernames`."
   ]
  },
  {
   "cell_type": "code",
   "execution_count": 2,
   "id": "c2971d97",
   "metadata": {},
   "outputs": [],
   "source": [
    "usernames_2 = usernames.copy()[-5:]\n"
   ]
  },
  {
   "attachments": {},
   "cell_type": "markdown",
   "id": "fa16f654",
   "metadata": {},
   "source": [
    "#### 6. Remove the 2nd element of usernames_2 from the list and assign it to a variable called user_example.\n",
    "\n",
    "You can use the `pop()` method to remove an element from a list and assign it to a variable. Once you have removed the element, print the list to check that it has been removed."
   ]
  },
  {
   "cell_type": "code",
   "execution_count": null,
   "id": "cc13967a",
   "metadata": {},
   "outputs": [],
   "source": [
    "# TODO - Remove the 2nd element of usernames from the list and assign it to a variable called user_example\n",
    "# TODO - Print the list usernames_2\n"
   ]
  },
  {
   "cell_type": "code",
   "execution_count": null,
   "id": "361b0b48",
   "metadata": {},
   "outputs": [],
   "source": [
    "#@title #### Run this cell to check your code { display-mode: \"form\", run: \"auto\" }\n",
    "\n",
    "assert \"usernames\" in globals(), \"The variable 'usernames' does not exist. Please, rerun the cell in step 1 to create the variable 'usernames'.\"\n",
    "assert \"usernames_2\" in globals(), \"The variable 'usernames_2' does not exist. Please, make sure you have defined it\"\n",
    "assert \"user_example\" in globals(), \"The variable 'user_example' does not exist. Please, make sure you have defined it\"\n",
    "\n",
    "marking_system.check_step_4(usernames, usernames_2, user_example)\n"
   ]
  },
  {
   "attachments": {},
   "cell_type": "markdown",
   "id": "fd9a14a2",
   "metadata": {},
   "source": [
    "#### 7. Use the `.sort()` method to sort the elements of `usernames` alphabetically.\n",
    "\n",
    "Notice that after using the sort method, the list is sorted in place. This means that the list is permanently changed."
   ]
  },
  {
   "cell_type": "code",
   "execution_count": null,
   "id": "1361c70c",
   "metadata": {},
   "outputs": [],
   "source": [
    "# TODO - Use the `.sort()` method to sort the elements of `usernames` alphabetically.\n",
    "# TODO - Print `usernames`\n"
   ]
  },
  {
   "cell_type": "code",
   "execution_count": null,
   "id": "cbf5e55a",
   "metadata": {},
   "outputs": [],
   "source": [
    "#@title #### Run this cell to check your code { display-mode: \"form\", run: \"auto\" }\n",
    "\n",
    "assert \"usernames\" in globals(), \"The variable 'usernames' does not exist. Please, rerun the cell in step 1 to create the variable 'usernames'.\"\n",
    "\n",
    "marking_system.check_step_5(usernames)\n"
   ]
  },
  {
   "attachments": {},
   "cell_type": "markdown",
   "id": "14c77ef2",
   "metadata": {},
   "source": [
    "#### 8. Using the `index()` method, make the list entry corresponding to `user_example` uppercase.\n",
    "\n",
    "For example, if `user_example` is `user123user`, the code should return `USER123USER`.\n",
    "\n",
    "First, create a variable called `idx_user_example` and assign it the index of `user_example` in the list.\n",
    "\n",
    "Then, retrieve the element at the index `idx_user_example`, uppercase it, and assign it to the variable `upper_user_example`.\n",
    "\n",
    "Finally, replace the element at the index `idx_user_example` with `upper_user_example`."
   ]
  },
  {
   "cell_type": "code",
   "execution_count": null,
   "id": "4c69927b",
   "metadata": {},
   "outputs": [],
   "source": [
    "# TODO - Using the `index()` method, find the index of `user_example` in `usernames` and assign it to a variable called `idx_user_example`.\n",
    "# TODO - Using the index of `user_example`, retrieve the corresponding element from `usernames`, convert it to uppercase and assign it to a variable called `upper_user_example`.\n",
    "# TODO - Using the index of `user_example`, replace the corresponding element in `usernames` with `upper_user_example`.\n"
   ]
  },
  {
   "cell_type": "code",
   "execution_count": null,
   "id": "522f751c",
   "metadata": {},
   "outputs": [],
   "source": [
    "#@title #### Run this cell to check your code { display-mode: \"form\", run: \"auto\" }\n",
    "\n",
    "assert \"idx_user_example\" in globals(), \"The variable 'idx_user_example' does not exist. Please, make sure you have defined it\"\n",
    "assert \"upper_user_example\" in globals(), \"The variable 'upper_user_example' does not exist. Please, make sure you have defined it\"\n",
    "assert \"usernames\" in globals(), \"The variable 'usernames' does not exist. Run the cell in step 1 to create the variable 'usernames'.\"\n",
    "\n",
    "marking_system.check_step_6(usernames, idx_user_example, upper_user_example)\n"
   ]
  }
 ],
 "metadata": {
  "kernelspec": {
   "display_name": "content-projects_new",
   "language": "python",
   "name": "python3"
  },
  "language_info": {
   "codemirror_mode": {
    "name": "ipython",
    "version": 3
   },
   "file_extension": ".py",
   "mimetype": "text/x-python",
   "name": "python",
   "nbconvert_exporter": "python",
   "pygments_lexer": "ipython3",
   "version": "3.10.8"
  },
  "vscode": {
   "interpreter": {
    "hash": "4b961f8166aad6ccb4cf65d0f9c742ef9c6c23ffe83ad932438cd83ed96aebaf"
   }
  }
 },
 "nbformat": 4,
 "nbformat_minor": 5
}
