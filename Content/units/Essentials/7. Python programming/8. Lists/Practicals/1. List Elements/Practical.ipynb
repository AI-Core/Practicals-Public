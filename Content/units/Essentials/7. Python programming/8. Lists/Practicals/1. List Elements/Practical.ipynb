{
 "cells": [
  {
   "cell_type": "markdown",
   "id": "9334fd08",
   "metadata": {},
   "source": [
    "# List Elements"
   ]
  },
  {
   "cell_type": "code",
   "execution_count": null,
   "id": "6d9e957a",
   "metadata": {},
   "outputs": [],
   "source": [
    "#@title ### Run the following cell to download the necessary files for this practical { display-mode: \"form\" } \n",
    "#@markdown Don't worry about what's in this collapsed cell\n",
    "\n",
    "print('Downloading the marking system')\n",
    "!wget https://s3-eu-west-1.amazonaws.com/aicore-portal-public-prod-307050600709/practical_files/27a4d374-5ed2-4e14-a54d-7879335e44b8/marking_system.py -q -O marking_system.py\n",
    "import marking_system\n",
    "import importlib\n",
    "importlib.reload(marking_system)\n",
    "import sys\n",
    "ipython = get_ipython()\n",
    "def hide_traceback(exc_tuple=None, filename=None, tb_offset=None, exception_only=False, running_compiled_code=False):\n",
    "    etype, value, tb = sys.exc_info()\n",
    "    value.__cause__ = None  # suppress chained exceptions\n",
    "    return ipython._showtraceback(etype, \"❌ \" + f\"\u001b[91m{value}\", ipython.InteractiveTB.get_exception_only(etype, \"❌ \" + f\"\u001b[91m{value}\"))\n",
    "ipython.showtraceback = hide_traceback\n"
   ]
  },
  {
   "attachments": {},
   "cell_type": "markdown",
   "id": "dd1c39c8",
   "metadata": {},
   "source": [
    "#### 1. Create a list of four elements with a different data type. Name it `list_1`\n",
    "\n",
    "Each element should have a different data type. What data types have you used so far?"
   ]
  },
  {
   "cell_type": "code",
   "execution_count": null,
   "id": "955228c4",
   "metadata": {},
   "outputs": [],
   "source": [
    "# TODO - Create a list with 4 elements of different types\n"
   ]
  },
  {
   "cell_type": "code",
   "execution_count": null,
   "id": "eca14c81",
   "metadata": {},
   "outputs": [],
   "source": [
    "#@title #### Run this cell to check your answer { display-mode: \"form\", run: \"auto\" }\n",
    "\n",
    "assert \"list_1\" in globals(), \"The variable 'list_1' does not exist. Please, create it.\"\n",
    "\n",
    "marking_system.check_step_1(list_1)\n"
   ]
  },
  {
   "attachments": {},
   "cell_type": "markdown",
   "id": "0a489971",
   "metadata": {},
   "source": [
    "#### 2. Now create a list with ten zeros, do it using the `*` operator. Name it `list_2`\n",
    "\n",
    "If you multiply a list by an integer, it will repeat the list that many times."
   ]
  },
  {
   "cell_type": "code",
   "execution_count": null,
   "id": "cedd366e",
   "metadata": {},
   "outputs": [],
   "source": [
    "# TODO - Create a list with 10 elements, all of which are 0\n"
   ]
  },
  {
   "cell_type": "code",
   "execution_count": null,
   "id": "27ebec92",
   "metadata": {},
   "outputs": [],
   "source": [
    "#@title #### Run this cell to check your answer { display-mode: \"form\", run: \"auto\" }\n",
    "\n",
    "assert \"list_2\" in globals(), \"The variable 'list_2' does not exist. Please, create it.\"\n",
    "\n",
    "marking_system.check_step_2(list_2)\n"
   ]
  },
  {
   "attachments": {},
   "cell_type": "markdown",
   "id": "ef878c4f",
   "metadata": {},
   "source": [
    "#### 3. Nest `list_1` and `list_2` into a new list and name it `list_3`. \n",
    "\n",
    "`list_3` should look like this `[list_1, list2]`"
   ]
  },
  {
   "cell_type": "code",
   "execution_count": null,
   "id": "20953729",
   "metadata": {},
   "outputs": [],
   "source": [
    "# TODO - Create a list with two elements, list_1 and list_2\n"
   ]
  },
  {
   "cell_type": "code",
   "execution_count": null,
   "id": "1ca8bd95",
   "metadata": {},
   "outputs": [],
   "source": [
    "#@title #### Run this cell to check your answer { display-mode: \"form\", run: \"auto\" }\n",
    "\n",
    "assert \"list_1\" in globals(), \"The variable 'list_1' does not exist. Please, create it.\"\n",
    "assert \"list_2\" in globals(), \"The variable 'list_2' does not exist. Please, create it.\"\n",
    "assert \"list_3\" in globals(), \"The variable 'list_3' does not exist. Please, create it.\"\n",
    "\n",
    "marking_system.check_step_3(list_1, list_2, list_3)\n"
   ]
  },
  {
   "attachments": {},
   "cell_type": "markdown",
   "id": "acfc34e6",
   "metadata": {},
   "source": [
    "#### 4. Access the fourth element of each `list_1` and `list_2` and store the elements in `list_4`. \n",
    "\n",
    "`list_4` should look like this `[fourth element of list_1, fourth element of list_2]`"
   ]
  },
  {
   "cell_type": "code",
   "execution_count": null,
   "id": "985c8fb8",
   "metadata": {},
   "outputs": [],
   "source": [
    "# TODO - Create a list with two elements, the 4th element of list_1 and the 4th element of list_2\n"
   ]
  },
  {
   "cell_type": "code",
   "execution_count": null,
   "id": "a5f5695e",
   "metadata": {},
   "outputs": [],
   "source": [
    "#@title #### Run this cell to check your answer { display-mode: \"form\", run: \"auto\" }\n",
    "\n",
    "assert \"list_1\" in globals(), \"The variable 'list_1' does not exist. Please, create it.\"\n",
    "assert \"list_2\" in globals(), \"The variable 'list_2' does not exist. Please, create it.\"\n",
    "assert \"list_4\" in globals(), \"The variable 'list_4' does not exist. Please, create it.\"\n",
    "\n",
    "marking_system.check_step_4(list_1, list_2, list_4)\n"
   ]
  }
 ],
 "metadata": {
  "kernelspec": {
   "display_name": "content-projects_new",
   "language": "python",
   "name": "python3"
  },
  "language_info": {
   "name": "python",
   "version": "3.10.8"
  },
  "vscode": {
   "interpreter": {
    "hash": "4b961f8166aad6ccb4cf65d0f9c742ef9c6c23ffe83ad932438cd83ed96aebaf"
   }
  }
 },
 "nbformat": 4,
 "nbformat_minor": 5
}
