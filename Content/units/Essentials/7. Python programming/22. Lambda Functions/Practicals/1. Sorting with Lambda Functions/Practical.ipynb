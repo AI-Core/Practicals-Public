{
 "cells": [
  {
   "cell_type": "markdown",
   "metadata": {},
   "source": [
    "# Sorting with Lambda Functions"
   ]
  },
  {
   "cell_type": "code",
   "execution_count": null,
   "id": "ce6877ae",
   "metadata": {},
   "outputs": [],
   "source": [
    "#@title ### Run the following cell to download the necessary files for this practical { display-mode: \"form\" } \n",
    "#@markdown Don't worry about what's in this collapsed cell\n",
    "\n",
    "print('Downloading the marking system')\n",
    "!wget https://s3-eu-west-1.amazonaws.com/aicore-portal-public-prod-307050600709/practical_files/9dbb73c6-335a-4abc-add1-0e977ebb9c58/marking_system.py -q -O marking_system.py\n",
    "import marking_system\n",
    "import importlib\n",
    "importlib.reload(marking_system)\n",
    "import sys\n",
    "ipython = get_ipython()\n",
    "def hide_traceback(exc_tuple=None, filename=None, tb_offset=None, exception_only=False, running_compiled_code=False):\n",
    "    etype, value, tb = sys.exc_info()\n",
    "    value.__cause__ = None  # suppress chained exceptions\n",
    "    return ipython._showtraceback(etype, \"❌ \" + f\"\u001b[91m{value}\", ipython.InteractiveTB.get_exception_only(etype, \"❌ \" + f\"\u001b[91m{value}\"))\n",
    "ipython.showtraceback = hide_traceback\n"
   ]
  },
  {
   "cell_type": "markdown",
   "metadata": {},
   "source": [
    "### Create a list called `data` with 5 tuples, where each tuple contains a first name formatted as a string and a number formatted as an integer."
   ]
  },
  {
   "cell_type": "code",
   "execution_count": 1,
   "metadata": {},
   "outputs": [],
   "source": [
    "# TODO: Create a list named `data` with 5 tuples containing a name formatted as a string, and a number formatted as an integer\n"
   ]
  },
  {
   "cell_type": "code",
   "execution_count": null,
   "metadata": {},
   "outputs": [],
   "source": [
    "#@title #### Run this cell to check your solution { display-mode: \"form\", run: \"auto\" }\n",
    "\n",
    "assert \"data\" in globals(), \"You need to initialise the list named 'data'\"\n",
    "assert len(data) == 5, \"The list should contain 5 tuples\"\n",
    "\n",
    "marking_system.check_step_1(data)\n"
   ]
  },
  {
   "cell_type": "markdown",
   "metadata": {},
   "source": [
    "### Using the `.sort()` function, create the following lambda functions:"
   ]
  },
  {
   "cell_type": "markdown",
   "metadata": {},
   "source": [
    "### 1. Sort the list by the number in each tuple by creating a lambda function called `sort_num` and using it as the key in `data.sort()`"
   ]
  },
  {
   "cell_type": "code",
   "execution_count": 2,
   "metadata": {},
   "outputs": [],
   "source": [
    "# TODO: Sort the list by the number in each tuple by creating a lambda function called `sort_num` and using it as the key in `data.sort()`\n"
   ]
  },
  {
   "cell_type": "code",
   "execution_count": null,
   "metadata": {},
   "outputs": [],
   "source": [
    "#@title #### Run this cell to check your solution { display-mode: \"form\", run: \"auto\" }\n",
    "\n",
    "assert \"sort_num\" in globals(), \"You haven't defined the function 'sort_num'.\"\n",
    "assert callable(sort_num), \"'sort_num' should be a function. Please, try again.\"\n",
    "assert sort_num.__code__.co_argcount == 1, \"'sort_num' should take 1 parameter. Please, try again.\"\n",
    "\n",
    "marking_system.check_step_2(data, sort_num)\n"
   ]
  },
  {
   "cell_type": "markdown",
   "metadata": {},
   "source": [
    "### 2. Sort the list by the name in each tuple by creating a lambda function called `sort_name` and using it as the key in `data.sort()`"
   ]
  },
  {
   "cell_type": "code",
   "execution_count": 2,
   "metadata": {},
   "outputs": [],
   "source": [
    "# TODO: Sort the list by the name in each tuple by creating a lambda function called `sort_name` and using it as the key in `data.sort()`\n"
   ]
  },
  {
   "cell_type": "code",
   "execution_count": null,
   "metadata": {},
   "outputs": [],
   "source": [
    "#@title #### Run this cell to check your solution { display-mode: \"form\", run: \"auto\" }\n",
    "\n",
    "assert \"sort_name\" in globals(), \"You haven't defined the function 'sort_name'.\"\n",
    "assert callable(sort_name), \"'sort_name' should be a function. Please, try again.\"\n",
    "assert sort_name.__code__.co_argcount == 1, \"'sort_name' should take 1 parameter. Please, try again.\"\n",
    "\n",
    "marking_system.check_step_3(data, sort_name)\n"
   ]
  },
  {
   "cell_type": "markdown",
   "metadata": {},
   "source": [
    "### 3. Sort the list by the length of the name in each tuple by creating a lambda function called `sort_name_len` and using it as the key in `data.sort()`"
   ]
  },
  {
   "cell_type": "code",
   "execution_count": 3,
   "metadata": {},
   "outputs": [],
   "source": [
    "# TODO: Sort the list by the length of the name in each tuple by creating a lambda function called `sort_name_len`\n"
   ]
  },
  {
   "cell_type": "code",
   "execution_count": null,
   "metadata": {},
   "outputs": [],
   "source": [
    "#@title #### Run this cell to check your solution { display-mode: \"form\", run: \"auto\" }\n",
    "\n",
    "assert \"sort_name_len\" in globals(), \"You haven't defined the function 'sort_name_len'.\"\n",
    "assert callable(sort_name_len), \"'sort_name_len' should be a function. Please, try again.\"\n",
    "assert sort_name_len.__code__.co_argcount == 1, \"'sort_name_len' should take 1 parameter. Please, try again.\"\n",
    "\n",
    "marking_system.check_step_4(data, sort_name_len)\n"
   ]
  },
  {
   "cell_type": "markdown",
   "metadata": {},
   "source": [
    "### 4. Sort the list by the length of the name but in reverse by using `sort_name_len`"
   ]
  },
  {
   "cell_type": "code",
   "execution_count": 2,
   "metadata": {},
   "outputs": [],
   "source": [
    "# TODO: Sort the list by the length of the name but in reverse by using `sort_name_len`\n"
   ]
  },
  {
   "cell_type": "code",
   "execution_count": null,
   "metadata": {},
   "outputs": [],
   "source": [
    "#@title #### Run this cell to check your solution { display-mode: \"form\", run: \"auto\" }\n",
    "\n",
    "marking_system.check_step_5(data)\n"
   ]
  }
 ],
 "metadata": {
  "kernelspec": {
   "display_name": "Python 3",
   "language": "python",
   "name": "python3"
  },
  "language_info": {
   "codemirror_mode": {
    "name": "ipython",
    "version": 3
   },
   "file_extension": ".py",
   "mimetype": "text/x-python",
   "name": "python",
   "nbconvert_exporter": "python",
   "pygments_lexer": "ipython3",
   "version": "3.10.12"
  }
 },
 "nbformat": 4,
 "nbformat_minor": 2
}
