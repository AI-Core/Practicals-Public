{
 "cells": [
  {
   "cell_type": "markdown",
   "metadata": {},
   "source": [
    "# Lambda Functions with Filter"
   ]
  },
  {
   "cell_type": "code",
   "execution_count": null,
   "id": "13f2acb1",
   "metadata": {},
   "outputs": [],
   "source": [
    "#@title ### Run the following cell to download the necessary files for this practical { display-mode: \"form\" } \n",
    "#@markdown Don't worry about what's in this collapsed cell\n",
    "\n",
    "print('Downloading the marking system')\n",
    "!wget https://s3-eu-west-1.amazonaws.com/aicore-portal-public-prod-307050600709/practical_files/b6d081ac-a99a-4d06-a04a-ece8637e4e90/marking_system.py -q -O marking_system.py\n",
    "import marking_system\n",
    "import importlib\n",
    "importlib.reload(marking_system)\n",
    "import sys\n",
    "ipython = get_ipython()\n",
    "def hide_traceback(exc_tuple=None, filename=None, tb_offset=None, exception_only=False, running_compiled_code=False):\n",
    "    etype, value, tb = sys.exc_info()\n",
    "    value.__cause__ = None  # suppress chained exceptions\n",
    "    return ipython._showtraceback(etype, \"❌ \" + f\"\u001b[91m{value}\", ipython.InteractiveTB.get_exception_only(etype, \"❌ \" + f\"\u001b[91m{value}\"))\n",
    "ipython.showtraceback = hide_traceback\n"
   ]
  },
  {
   "cell_type": "markdown",
   "metadata": {},
   "source": [
    "### Create a list named `data` with 10 strings"
   ]
  },
  {
   "cell_type": "code",
   "execution_count": 1,
   "metadata": {},
   "outputs": [],
   "source": [
    "# TODO: Create a list named `data` with 10 strings\n"
   ]
  },
  {
   "cell_type": "code",
   "execution_count": null,
   "metadata": {},
   "outputs": [],
   "source": [
    "#@title #### Run this cell to check your solution { display-mode: \"form\", run: \"auto\" }\n",
    "\n",
    "assert \"data\" in globals(), \"You need to initialise the list named 'data'\"\n",
    "assert len(data) == 10, \"The list should contain 10 strings\"\n",
    "\n",
    "marking_system.check_step_1(data)\n"
   ]
  },
  {
   "cell_type": "markdown",
   "metadata": {},
   "source": [
    "### 2. Create a lambda function called `length_check` that takes in a string and returns `True` if the string is longer than 5 characters, and `False` if it is not. Then use `filter` and the lambda function to filter out all strings that are longer than 5 characters into a new list named `filtered_data`."
   ]
  },
  {
   "cell_type": "code",
   "execution_count": 8,
   "metadata": {},
   "outputs": [],
   "source": [
    "# TODO: Create a lambda function called `length_check` that takes in a string and returns `True` if the string is longer than 5 characters, and `False` if it is not. Then use `filter` and the lambda function to filter out all strings that are longer than 5 characters into a new list named `filtered_data`\n"
   ]
  },
  {
   "cell_type": "code",
   "execution_count": null,
   "metadata": {},
   "outputs": [],
   "source": [
    "#@title #### Run this cell to check your solution { display-mode: \"form\", run: \"auto\" }\n",
    "\n",
    "assert \"filtered_data\" in globals(), \"You haven't defined the list 'filtered_data'.\"\n",
    "assert \"length_check\" in globals(), \"You haven't defined the function 'length_check'.\"\n",
    "assert callable(length_check), \"'length_check' should be a function. Please, try again.\"\n",
    "assert length_check.__code__.co_argcount == 1, \"'length_check' should take 1 parameter. Please, try again.\"\n",
    "\n",
    "marking_system.check_step_2(length_check, data, filtered_data)\n"
   ]
  },
  {
   "cell_type": "markdown",
   "metadata": {},
   "source": [
    "### 3. Create a lambda function called `length_vowel_check` that takes in a string and returns `True` if the string is longer than 5 characters and starts with a vowel, and `False` if it is not. Then use `filter` and the lambda function to filter out all strings that are longer than 5 characters and start with a vowel into a new list named `new_filtered_data`."
   ]
  },
  {
   "cell_type": "code",
   "execution_count": 8,
   "metadata": {},
   "outputs": [],
   "source": [
    "# TODO: Create a lambda function called `length_vowel_check` that takes in a string and returns `True` if the string is longer than 5 characters and starts with a vowel, and `False` if it is not. Then use `filter` and the lambda function to filter out all strings that are longer than 5 characters and start with a vowel into a new list named `new_filtered_data`\n"
   ]
  },
  {
   "cell_type": "code",
   "execution_count": null,
   "metadata": {},
   "outputs": [],
   "source": [
    "#@title #### Run this cell to check your solution { display-mode: \"form\", run: \"auto\" }\n",
    "\n",
    "assert \"new_filtered_data\" in globals(), \"You haven't defined the list 'new_filtered_data'.\"\n",
    "assert \"length_vowel_check\" in globals(), \"You haven't defined the function 'length_vowel_check'.\"\n",
    "assert callable(length_vowel_check), \"'length_vowel_check' should be a function. Please, try again.\"\n",
    "assert length_vowel_check.__code__.co_argcount == 1, \"'length_vowel_check' should take 1 parameter. Please, try again.\"\n",
    "\n",
    "marking_system.check_step_3(length_vowel_check, data, new_filtered_data)\n"
   ]
  }
 ],
 "metadata": {
  "kernelspec": {
   "display_name": "Python 3",
   "language": "python",
   "name": "python3"
  },
  "language_info": {
   "codemirror_mode": {
    "name": "ipython",
    "version": 3
   },
   "file_extension": ".py",
   "mimetype": "text/x-python",
   "name": "python",
   "nbconvert_exporter": "python",
   "pygments_lexer": "ipython3",
   "version": "3.10.6"
  }
 },
 "nbformat": 4,
 "nbformat_minor": 2
}
