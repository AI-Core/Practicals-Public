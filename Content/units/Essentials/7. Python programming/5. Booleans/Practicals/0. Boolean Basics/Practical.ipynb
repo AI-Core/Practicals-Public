{
 "cells": [
  {
   "attachments": {},
   "cell_type": "markdown",
   "id": "9e4f2082",
   "metadata": {},
   "source": [
    "# Boolean Basics\n",
    "\n",
    "A Boolean variable is one that can take the value of `True` or `False`. In programming, you often want to evaluate whether a condition is true or false. You can evaluate any `Python` expression, and when you do so, the result that is returned will be of the Boolean type. \n",
    "\n",
    "Note that the word Boolean is also used to describe Boolean operators such as `not`, `and` and `or`. We will cover these in a later practical.\n",
    "\n",
    "For example, run the code block below to print the result of evaluating the expression `8 > 5`"
   ]
  },
  {
   "cell_type": "code",
   "execution_count": null,
   "id": "9b3ce0f5",
   "metadata": {},
   "outputs": [],
   "source": [
    "#@title ### Run the following cell to download the necessary files for this practical { display-mode: \"form\" } \n",
    "#@markdown Don't worry about what's in this collapsed cell\n",
    "\n",
    "print('Downloading the marking system')\n",
    "!wget https://s3-eu-west-1.amazonaws.com/aicore-portal-public-prod-307050600709/practical_files/cc7a136a-6712-4c49-a866-ace6bacd9f4c/marking_system.py -q -O marking_system.py\n",
    "import marking_system\n",
    "import importlib\n",
    "importlib.reload(marking_system)\n",
    "import sys\n",
    "ipython = get_ipython()\n",
    "def hide_traceback(exc_tuple=None, filename=None, tb_offset=None, exception_only=False, running_compiled_code=False):\n",
    "    etype, value, tb = sys.exc_info()\n",
    "    value.__cause__ = None  # suppress chained exceptions\n",
    "    return ipython._showtraceback(etype, \"❌ \" + f\"\u001b[91m{value}\", ipython.InteractiveTB.get_exception_only(etype, \"❌ \" + f\"\u001b[91m{value}\"))\n",
    "ipython.showtraceback = hide_traceback\n"
   ]
  },
  {
   "cell_type": "code",
   "execution_count": null,
   "id": "139b9e36",
   "metadata": {},
   "outputs": [],
   "source": [
    "print(8 > 5)\n"
   ]
  },
  {
   "attachments": {},
   "cell_type": "markdown",
   "id": "0bd69e5c",
   "metadata": {},
   "source": [
    "In the cell below, come up with a python expression that will evaluate to `False`, and enclose it in a print statement. Then run the cell and check if your expression correctly evaluates to a `False` Boolean."
   ]
  },
  {
   "cell_type": "code",
   "execution_count": null,
   "id": "950b9796",
   "metadata": {},
   "outputs": [],
   "source": [
    "# TODO Print the evaluation of a False expression.\n"
   ]
  },
  {
   "cell_type": "code",
   "execution_count": null,
   "id": "c3f4ffcc",
   "metadata": {},
   "outputs": [],
   "source": [
    "#@title #### Enter two numbers so that when comparing num_1 and num_2 (num_1 > num_2), the comparison returns False { display-mode: \"form\", run: \"auto\" }\n",
    "\n",
    "num_1 = 0 #@param {type:\"number\"}\n",
    "num_2 = 0 #@param {type:\"number\"}\n",
    "marking_system.check_step_1(num_1, num_2)\n"
   ]
  },
  {
   "attachments": {},
   "cell_type": "markdown",
   "id": "39abc958",
   "metadata": {},
   "source": [
    "In Python, we can evaluate variables, which is a bit like evaulating whether or not they exist. We do this with the `bool()` function.\n",
    "\n",
    "In the code block below, perform the following steps, and check the result at each step by pressing the 'run' button:\n",
    "- Create a variable called `x` and assign it to the value `1`.\n",
    "- Evaluate the variable using `bool()`.\n",
    "- Now change the value to `0` and evaluate it again.\n",
    "- Now change the value to `None` and evaluate it again.\n"
   ]
  },
  {
   "cell_type": "code",
   "execution_count": null,
   "id": "74986f7f",
   "metadata": {},
   "outputs": [],
   "source": [
    "# TODO - Create a variable `x` and assign it the value `1`.\n",
    "# TODO - Evaluate 'x'\n",
    "# TODO - Change the value of `x` to `0`\n",
    "# TODO - Evaluate `x`\n",
    "# TODO - Change the value of `x` to `None`\n",
    "# TODO - Evaluate `x`\n"
   ]
  },
  {
   "cell_type": "code",
   "execution_count": null,
   "id": "07c20e16",
   "metadata": {},
   "outputs": [],
   "source": [
    "#@title #### Enter your answers here { display-mode: \"form\", run: \"auto\" }\n",
    "\n",
    "#@markdown What does bool(1) return?\n",
    "ans_1 = \"\" #@param [\"\", \"True\", \"False\"] \n",
    "#@markdown What does bool(0) return?\n",
    "ans_2 = \"\" #@param [\"\", \"True\", \"False\"]\n",
    "#@markdown What does bool(None) return?\n",
    "ans_3 = \"\" #@param [\"\", \"True\", \"False\"]\n",
    "marking_system.check_step_2(ans_1, ans_2, ans_3)\n"
   ]
  },
  {
   "attachments": {},
   "cell_type": "markdown",
   "id": "a9100918",
   "metadata": {},
   "source": [
    "- Call `bool()` on `x` again, and assign it to a variable `my_boolean`.\n",
    "- Print  the type of `my_boolean`"
   ]
  },
  {
   "cell_type": "code",
   "execution_count": null,
   "id": "9ea98bc7",
   "metadata": {},
   "outputs": [],
   "source": [
    "# TODO - Call `bool()` on `x` again, and assign it to a variable `my_boolean`.\n",
    "# TODO - Print the type of `my_boolean`\n"
   ]
  },
  {
   "cell_type": "code",
   "execution_count": null,
   "id": "13de6a6b",
   "metadata": {},
   "outputs": [],
   "source": [
    "#@title #### Enter your answer here { display-mode: \"form\", run: \"auto\" }\n",
    "\n",
    "assert \"my_boolean\" in globals(), \"The variable 'my_boolean' has not been created.\"\n",
    "#@markdown What does Python return when you print the type of `my_boolean`?\n",
    "ans_1 = \"\" #@param [\"Boolean\", \"bool\", \"boolean\"]\n",
    "marking_system.check_step_3(ans_1)\n"
   ]
  },
  {
   "attachments": {},
   "cell_type": "markdown",
   "id": "52ef52e9",
   "metadata": {},
   "source": [
    "To create a Boolean variable, we can assign the value `True` or `False` to it. It must always be capitalised. \n",
    "\n",
    "- Try creating a variable called `new_boolean` and assigning it the value `true`. What happens?\n",
    "- Now assign it a value that will create a valid Boolean."
   ]
  },
  {
   "cell_type": "code",
   "execution_count": null,
   "id": "45de9b80",
   "metadata": {},
   "outputs": [],
   "source": [
    "# TODO - Create a variable called `new_boolean` and assign a value of `true` to it.\n",
    "# TODO - Now create a valid Boolean.\n",
    "print(new_boolean)\n"
   ]
  },
  {
   "attachments": {},
   "cell_type": "markdown",
   "id": "442ac0e4",
   "metadata": {},
   "source": [
    "We can also evaluate strings in a similar way. Strings will evaluate to `True` unless they are empty:"
   ]
  },
  {
   "cell_type": "code",
   "execution_count": null,
   "id": "2246c114",
   "metadata": {},
   "outputs": [],
   "source": [
    "# TODO - Assign `x` to an empty string and cast it to a Boolean\n"
   ]
  },
  {
   "cell_type": "code",
   "execution_count": null,
   "id": "d9fbc11c",
   "metadata": {},
   "outputs": [],
   "source": [
    "#@title #### When you cast an empty string to a Boolean, what does Python return? { display-mode: \"form\", run: \"auto\" }\n",
    "\n",
    "assert \"x\" in globals(), \"The variable 'x' has not been created.\"\n",
    "ans_1 = \"\" #@param [\"\", \"True\", \"False\"]\n",
    "marking_system.check_step_4(ans_1)\n"
   ]
  }
 ],
 "metadata": {
  "kernelspec": {
   "display_name": "content-projects_new",
   "language": "python",
   "name": "python3"
  },
  "language_info": {
   "codemirror_mode": {
    "name": "ipython",
    "version": 3
   },
   "file_extension": ".py",
   "mimetype": "text/x-python",
   "name": "python",
   "nbconvert_exporter": "python",
   "pygments_lexer": "ipython3",
   "version": "3.10.8"
  },
  "vscode": {
   "interpreter": {
    "hash": "4b961f8166aad6ccb4cf65d0f9c742ef9c6c23ffe83ad932438cd83ed96aebaf"
   }
  }
 },
 "nbformat": 4,
 "nbformat_minor": 5
}
