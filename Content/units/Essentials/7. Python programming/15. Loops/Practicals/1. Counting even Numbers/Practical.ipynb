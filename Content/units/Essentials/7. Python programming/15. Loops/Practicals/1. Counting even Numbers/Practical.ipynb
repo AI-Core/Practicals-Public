{
 "cells": [
  {
   "cell_type": "markdown",
   "id": "a6dbdd72",
   "metadata": {},
   "source": [
    "# Counting even Numbers"
   ]
  },
  {
   "attachments": {},
   "cell_type": "markdown",
   "id": "d8dbe617",
   "metadata": {},
   "source": [
    "Write a program that prints the numbers from 1 to 50 only if the number is even."
   ]
  },
  {
   "attachments": {},
   "cell_type": "markdown",
   "id": "5107bbfc",
   "metadata": {},
   "source": [
    "### 1. Using a `while` loop\n",
    "\n",
    "Create a variable called `n` and assign it the value `1`.\n",
    "\n",
    "Then, create a `while` loop that loops while `n` is less than or equal to `50`.\n",
    "\n",
    "Inside the loop, check if `n` is even. If it is, print `n`.\n",
    "\n",
    "Increment `n` by `1` after each iteration.\n",
    "\n",
    "__Be careful not to create an infinite loop!__\n",
    "\n",
    "<p style=\"font-size: 14px; color: #999999; margin-top: 0px; margin-bottom: 0px;\">This practical doesn't have a marking system because there are many ways to tackle this issue</p>"
   ]
  },
  {
   "cell_type": "code",
   "execution_count": null,
   "id": "ea7ca1df",
   "metadata": {},
   "outputs": [],
   "source": [
    "# Add your code below this line\n",
    "# TODO - Create a variable called n and set it to 1\n",
    "# TODO - Create a while loop that runs while n is less than or equal to 50\n",
    "    # TODO - Check if n is even\n",
    "        # TODO - If n is even, print n\n",
    "    # TODO - Increment n by 1\n"
   ]
  },
  {
   "attachments": {},
   "cell_type": "markdown",
   "id": "4776cdc4",
   "metadata": {},
   "source": [
    "### 2. Using a `for` loop and the `range` function\n",
    "\n",
    "There are at least two ways to solve this problem using a `for` loop:\n",
    "\n",
    "1. Using an `if` statement inside the loop to check if the number is even.\n",
    "2. Using the `range` function to generate a list of even numbers.\n",
    "\n",
    "Use whichever method you prefer."
   ]
  },
  {
   "cell_type": "code",
   "execution_count": null,
   "id": "73230101",
   "metadata": {},
   "outputs": [],
   "source": [
    "# Add your code below this line\n",
    "# TODO - Create a for loop that iterates over the numbers 1 to 50\n",
    "    # TODO - Check if n is even\n",
    "        # TODO - If n is even, print n\n"
   ]
  }
 ],
 "metadata": {
  "language_info": {
   "name": "python"
  }
 },
 "nbformat": 4,
 "nbformat_minor": 5
}
