{
 "cells": [
  {
   "cell_type": "markdown",
   "id": "33907794",
   "metadata": {},
   "source": [
    "# Prime Numbers"
   ]
  },
  {
   "cell_type": "code",
   "execution_count": null,
   "id": "167a123c",
   "metadata": {},
   "outputs": [],
   "source": [
    "#@title ### Run the following cell to download the necessary files for this practical { display-mode: \"form\" } \n",
    "#@markdown Don't worry about what's in this collapsed cell\n",
    "\n",
    "!pip install -q timeout-decorator\n",
    "print('Downloading the marking system')\n",
    "!wget https://s3-eu-west-1.amazonaws.com/aicore-portal-public-prod-307050600709/practical_files/67cb68ea-4505-4cd6-8b71-8cb621c2525e/marking_system.py -q -O marking_system.py\n",
    "import marking_system\n",
    "import importlib\n",
    "importlib.reload(marking_system)\n",
    "import sys\n",
    "ipython = get_ipython()\n",
    "def hide_traceback(exc_tuple=None, filename=None, tb_offset=None, exception_only=False, running_compiled_code=False):\n",
    "    etype, value, tb = sys.exc_info()\n",
    "    value.__cause__ = None  # suppress chained exceptions\n",
    "    return ipython._showtraceback(etype, \"❌ \" + f\"\u001b[91m{value}\", ipython.InteractiveTB.get_exception_only(etype, \"❌ \" + f\"\u001b[91m{value}\"))\n",
    "ipython.showtraceback = hide_traceback\n"
   ]
  },
  {
   "attachments": {},
   "cell_type": "markdown",
   "id": "6d1c747e",
   "metadata": {},
   "source": [
    "### 1. Write a program to check whether each number from 10 to 300 is prime\n",
    "\n",
    "There are different ways to tackle this problem. For now, let's see a simple way to do it.\n",
    "\n",
    "1. We will use a `for` loop to iterate over the numbers from 10 to 300.\n",
    "2. Inside the `for` loop, we will use another `for` loop to iterate over the numbers from 2 to the number we are checking.\n",
    "3. We will check if the number we are checking is divisible by any of the numbers from 2 to the number we are checking.\n",
    "4. If the number is divisible by any of the numbers from 2 to the number we are checking, we will print that the number is not prime: `\"{number} is not a prime number because it is divisible by y.\"` \n",
    "5. If the number is not divisible by any of the numbers from 2 to the number we are checking, we will print that the number is prime. `\"{number} is a prime number.\"`\n",
    "\n"
   ]
  },
  {
   "cell_type": "code",
   "execution_count": null,
   "id": "c03bc75b",
   "metadata": {},
   "outputs": [],
   "source": [
    "# Add your code below this line\n",
    "# TODO - Create a for loop that iterates over the numbers 10 to 300\n",
    "    # TODO - Create a for loop that iterates over the numbers 2 to current number in the outer loop\n",
    "pass # TODO - Check if the current number in the outer loop is divisible by the current number in the inner loop. If it is, print that it is not a prime number and break out of the inner loop\n",
    "    # TODO - If the number is not divisible by any number in the inner loop, print that it is a prime number\n",
    "        # TODO - If the number is not divisible by any number in the inner loop, print that it is a prime number\n"
   ]
  },
  {
   "cell_type": "code",
   "execution_count": null,
   "id": "1427718f",
   "metadata": {},
   "outputs": [],
   "source": [
    "#@title #### Run this cell to check if your code looks good { display-mode: \"form\"}\n",
    "assert \"# Add your code below this line\" in _ih[-2], \"Before checking your code, make sure the last cell you ran contains your code. If you did, make sure you haven't deleted the comment that says '# Add your code below this line'.\"\n",
    "assert \"#@title\" not in _ih[-2], \"If you want to check your code, rerun the cell that contains your code. If you did, make sure you haven't deleted the comment that says '# Add your code below this line'.\"\n",
    "\n",
    "marking_system.check_step_1(_ih[-2])\n"
   ]
  },
  {
   "attachments": {},
   "cell_type": "markdown",
   "id": "d5b17963",
   "metadata": {},
   "source": [
    "_There are other ways to check if a number is prime, but the above method is simple and easy to understand. Other methods would require advanced techniques like recursion._"
   ]
  }
 ],
 "metadata": {
  "kernelspec": {
   "display_name": "content-projects_new",
   "language": "python",
   "name": "python3"
  },
  "language_info": {
   "codemirror_mode": {
    "name": "ipython",
    "version": 3
   },
   "file_extension": ".py",
   "mimetype": "text/x-python",
   "name": "python",
   "nbconvert_exporter": "python",
   "pygments_lexer": "ipython3",
   "version": "3.10.8"
  }
 },
 "nbformat": 4,
 "nbformat_minor": 5
}
