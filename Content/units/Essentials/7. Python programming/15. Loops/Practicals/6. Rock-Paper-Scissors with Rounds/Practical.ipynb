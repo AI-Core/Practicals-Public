{
 "cells": [
  {
   "cell_type": "markdown",
   "id": "ae88abd9",
   "metadata": {},
   "source": [
    "# Rock-Paper-Scissors with Rounds"
   ]
  },
  {
   "cell_type": "code",
   "execution_count": null,
   "id": "8d026482",
   "metadata": {},
   "outputs": [],
   "source": [
    "#@title ### Run the following cell to download the necessary files for this practical { display-mode: \"form\" } \n",
    "#@markdown Don't worry about what's in this collapsed cell\n",
    "\n",
    "print('Downloading simple_rps.py...')\n",
    "!wget https://s3-eu-west-1.amazonaws.com/aicore-portal-public-prod-307050600709/practical_files/11a45beb-e4ad-4f16-be70-c355c7897947/simple_rps.py -q -O simple_rps.py\n"
   ]
  },
  {
   "cell_type": "markdown",
   "id": "de60b375",
   "metadata": {},
   "source": [
    "\n",
    "<details>\n",
    "<summary>Some parts in this practical will require\n",
    "you to update a file. Click here to see how to do it.</summary>\n",
    "<ul>\n",
    "<li>Click on the folder logo on the left side of the screen</li>\n",
    "<p align=center><img src=\"images/update_1.png\"></p>\n",
    "<li>\n",
    "    Double click on the file you want to update. The image will appear on the right side of the screen.\n",
    "    You can edit the file by clicking on the text area, and then saving your changes.\n",
    "</li>\n",
    "<p align=center><img src=\"images/update_2.png\"></p>\n",
    "</ul>\n",
    "</details>\n",
    "    \n",
    "<details>\n",
    "<summary>Some parts in this practical will require\n",
    "you to run a code cell. Click here to see how to do it.</summary>\n",
    "<ul>\n",
    "<li>Check the name of the file you want to run</li>\n",
    "<p align=center><img src=\"images/run_1.png\"></p>\n",
    "<li>In a cell, type <code>!python \"name_of_the_file.py\"</code></li>\n",
    "<p align=center><img src=\"images/run_2.png\"></p>\n",
    "</ul>\n",
    "</details>\n",
    "    "
   ]
  },
  {
   "attachments": {},
   "cell_type": "markdown",
   "id": "d63419df",
   "metadata": {},
   "source": [
    "The `simple_rps.py` file asks for two inputs from the user: `player1` and `player2`. The inputs can be either 'rock', 'paper' or 'scissors'.\n",
    "\n",
    "### 1. Code the logic of the game to see who wins.\n",
    "\n",
    "Print the result like: 'Player 1 wins' or 'Player 2 wins'\n",
    "\n",
    "__This practical doesn't have a marking system because there are many ways to tackle this issue__"
   ]
  },
  {
   "cell_type": "code",
   "execution_count": null,
   "id": "f1e5dcaf",
   "metadata": {},
   "outputs": [],
   "source": [
    "# TODO - Open the `simple_rps.py` file and code the logic of the game. Run this cell to check your code.\n",
    "!python simple_rps.py"
   ]
  },
  {
   "cell_type": "markdown",
   "id": "17f838b8",
   "metadata": {},
   "source": [
    "#### 2. If one of the inputs is not \"rock\", \"paper\" or \"scissors\", print \"Invalid input\""
   ]
  },
  {
   "cell_type": "code",
   "execution_count": null,
   "id": "beea4602",
   "metadata": {},
   "outputs": [],
   "source": [
    "# TODO - Add a condition to the file `simple_rps.py` to check if the input is valid\n",
    "!python simple_rps.py"
   ]
  },
  {
   "cell_type": "markdown",
   "id": "008f6bac",
   "metadata": {},
   "source": [
    "#### 3. If both inputs are the same, print \"It's a tie\""
   ]
  },
  {
   "cell_type": "code",
   "execution_count": null,
   "id": "c18cd5c9",
   "metadata": {},
   "outputs": [],
   "source": [
    "# TODO - Add a condition to the file `simple_rps.py` to check if the inputs are the same\n",
    "!python simple_rps.py"
   ]
  },
  {
   "attachments": {},
   "cell_type": "markdown",
   "id": "4c3bc148",
   "metadata": {},
   "source": [
    "#### 4. Create two new variables, `num_player_one_wins` and `num_player_two_wins`."
   ]
  },
  {
   "cell_type": "code",
   "execution_count": null,
   "id": "17ff8921",
   "metadata": {},
   "outputs": [],
   "source": [
    "# TODO - In the `simple_rps.py` file, add two variables to keep track of the number of rounds and the number of wins for each player\n",
    "!python simple_rps.py"
   ]
  },
  {
   "attachments": {},
   "cell_type": "markdown",
   "id": "4bf41d9a",
   "metadata": {},
   "source": [
    "### 5. Put the code inside a `while` loop that runs until one of the players has won three rounds"
   ]
  },
  {
   "cell_type": "code",
   "execution_count": null,
   "id": "fe589e40",
   "metadata": {},
   "outputs": [],
   "source": [
    "# TODO - In the `simple_rps.py` file, write all the code inside a while loop that runs until one of the players wins 3 rounds\n",
    "!python simple_rps.py"
   ]
  }
 ],
 "metadata": {
  "kernelspec": {
   "display_name": "content-projects_new",
   "language": "python",
   "name": "python3"
  },
  "language_info": {
   "codemirror_mode": {
    "name": "ipython",
    "version": 3
   },
   "file_extension": ".py",
   "mimetype": "text/x-python",
   "name": "python",
   "nbconvert_exporter": "python",
   "pygments_lexer": "ipython3",
   "version": "3.10.8"
  },
  "vscode": {
   "interpreter": {
    "hash": "4b961f8166aad6ccb4cf65d0f9c742ef9c6c23ffe83ad932438cd83ed96aebaf"
   }
  }
 },
 "nbformat": 4,
 "nbformat_minor": 5
}
