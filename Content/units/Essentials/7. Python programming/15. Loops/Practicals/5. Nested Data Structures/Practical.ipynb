{
 "cells": [
  {
   "attachments": {},
   "cell_type": "markdown",
   "metadata": {},
   "source": [
    "# Looping Through Nested Data Structures"
   ]
  },
  {
   "attachments": {},
   "cell_type": "markdown",
   "metadata": {},
   "source": [
    "#### 1. Create a list of 3 dictionaries named `my_list`, where each dictionary contains the keys \"name\", \"age\" and \"favourite_colour\". \n"
   ]
  },
  {
   "cell_type": "code",
   "execution_count": null,
   "metadata": {},
   "outputs": [],
   "source": [
    "# TODO: Create a dictionary with the following keys: name, age, favourite_colour\n",
    "# TODO: Create a dictionary with the following keys: name, age, favourite_colour\n",
    "# TODO: Create a dictionary with the following keys: name, age, favourite_colour\n",
    "\n",
    "# TODO: Create a list of the three dictionaries\n"
   ]
  },
  {
   "attachments": {},
   "cell_type": "markdown",
   "metadata": {},
   "source": [
    "#### 3. Using nested for loops, create a new dictionary where the value of each \"name\" key is a key. Name the new dictionary `names_dict`\n",
    "\n",
    "The values in the new dictionary should be a dictionary of the other two key-value pairs from each original dictionary. As an example, the new dictionary should key-values pairs like this: \"Sarah\" : {\"age\": 25, \"favourite_colour\", \"blue\"}\n"
   ]
  },
  {
   "cell_type": "code",
   "execution_count": null,
   "metadata": {},
   "outputs": [],
   "source": [
    "# TODO: Create an empty dictionary called names_dict\n",
    "# TODO: Loop through the list of dictionaries\n",
    "    # TODO: Get the name of the person and store it in a variable called name\n",
    "    # TODO: Get the age of the person and store it in a variable called age\n",
    "    # TODO: Get the favourite colour of the person and store it in a variable called favourite_colour\n",
    "    # TODO: Create a new key in the names_dict dictionary with the name of the person as the key and a dictionary with the age and favourite colour as the value\n"
   ]
  }
 ],
 "metadata": {
  "kernelspec": {
   "display_name": "content-projects_new",
   "language": "python",
   "name": "python3"
  },
  "language_info": {
   "name": "python",
   "version": "3.10.8"
  },
  "vscode": {
   "interpreter": {
    "hash": "4b961f8166aad6ccb4cf65d0f9c742ef9c6c23ffe83ad932438cd83ed96aebaf"
   }
  }
 },
 "nbformat": 4,
 "nbformat_minor": 2
}
