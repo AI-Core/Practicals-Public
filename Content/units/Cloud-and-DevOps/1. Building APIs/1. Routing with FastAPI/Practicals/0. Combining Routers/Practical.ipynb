{
 "cells": [
  {
   "attachments": {},
   "cell_type": "markdown",
   "metadata": {},
   "source": [
    "# Combining Routers"
   ]
  },
  {
   "attachments": {},
   "cell_type": "markdown",
   "metadata": {},
   "source": [
    "\n",
    "You are building a simple API for a restaurant, and want to haver the endpoints associated with viewing the menu in a different file from those relating to placing an order. \n",
    "\n",
    "1. Create a file called `menu.py` and copy the following code into it:"
   ]
  },
  {
   "cell_type": "code",
   "execution_count": null,
   "metadata": {},
   "outputs": [],
   "source": [
    "import fastapi\n",
    "\n",
    "api = fastapi.FastAPI()\n",
    "\n",
    "@api.get('/menu/')\n",
    "def menu():\n",
    "    return {'menu': ['pizza', 'pasta', 'salad', 'soup']}\n"
   ]
  },
  {
   "attachments": {},
   "cell_type": "markdown",
   "metadata": {},
   "source": [
    "2. Create another file called `order.py` and copy the following code into it:"
   ]
  },
  {
   "cell_type": "code",
   "execution_count": null,
   "metadata": {},
   "outputs": [],
   "source": [
    "import fastapi\n",
    "\n",
    "api = fastapi.FastAPI()\n",
    "\n",
    "@api.post('/order/')\n",
    "def order(item: str, quantity: int): \n",
    "    print(f'Order received for {quantity} of {item}')\n"
   ]
  },
  {
   "attachments": {},
   "cell_type": "markdown",
   "metadata": {},
   "source": [
    "3. Make changes to the code in `order.py` and `menu.py` so that each has its own router."
   ]
  },
  {
   "attachments": {},
   "cell_type": "markdown",
   "metadata": {},
   "source": [
    "4. Now create a file called `main.py` and add the two routers to a single main instance of `fastapi.FastAPI()`"
   ]
  },
  {
   "attachments": {},
   "cell_type": "markdown",
   "metadata": {},
   "source": [
    "5. Test your code by running the API from `main.py` in the command line using `uvicorn`, and running the following Python code in a separate file:\n",
    "\n",
    "\n",
    "\n"
   ]
  },
  {
   "cell_type": "code",
   "execution_count": null,
   "metadata": {},
   "outputs": [],
   "source": [
    "#%%\n",
    "import requests\n",
    "\n",
    "response = requests.get(\"http://127.0.0.1:8000/menu/\")\n",
    "print(response.json())\n",
    "\n",
    "response = requests.post(\"http://127.0.0.1:8000/order?item=pizza&quantity=2\")\n"
   ]
  }
 ],
 "metadata": {
  "language_info": {
   "name": "python"
  }
 },
 "nbformat": 4,
 "nbformat_minor": 2
}
