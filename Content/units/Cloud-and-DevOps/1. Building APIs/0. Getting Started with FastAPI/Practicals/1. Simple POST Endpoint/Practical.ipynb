{
 "cells": [
  {
   "attachments": {},
   "cell_type": "markdown",
   "metadata": {},
   "source": [
    "# Simple POST Endpoint"
   ]
  },
  {
   "attachments": {},
   "cell_type": "markdown",
   "metadata": {},
   "source": [
    "1. Create a file called `add_product_api.py`\n",
    "\n",
    "2. import `fastapi` and create an instance of `FastAPI`\n",
    "\n",
    "3. Initialise an empty list called `products`\n",
    "\n",
    "4. Create an `POST` endpoint with the url `/products/add` that expects a query parameter `product`, adds that value to the `products` list, and then prints the current `products` list.\n",
    "\n",
    "5. Test your code by running the API in the command line with `uvicorn`, and running the following test code in a separate Python file:"
   ]
  },
  {
   "cell_type": "code",
   "execution_count": null,
   "metadata": {},
   "outputs": [],
   "source": [
    "import requests\n",
    "response = requests.post(\"http://127.0.0.1:8000/products/add?product=socks\")\n"
   ]
  }
 ],
 "metadata": {
  "language_info": {
   "name": "python"
  }
 },
 "nbformat": 4,
 "nbformat_minor": 2
}
